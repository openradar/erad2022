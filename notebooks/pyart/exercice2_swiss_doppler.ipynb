{
 "cells": [
  {
   "cell_type": "markdown",
   "metadata": {},
   "source": [
    "# Processing of Doppler wind data from a Swiss volumetric scan\n",
    "\n",
    "In this exercice we will load low-resolution filtered Swiss C-band data during a thunderstorm event and process it to estimate at profile of horizontal wind aloft the radar. The following topics will be tackled.\n",
    "\n",
    "- Dealiasing of radial velocity\n",
    "- CAPPI plots and profiles\n",
    "- PseudoRHI profiles\n",
    "- Computation of a VAD (velocity azimuth display)\n"
   ]
  },
  {
   "cell_type": "code",
   "execution_count": null,
   "metadata": {},
   "outputs": [],
   "source": [
    "# Imports\n",
    "\n",
    "import numpy as np\n",
    "import cartopy.crs as ccrs\n",
    "import cartopy\n",
    "import matplotlib.pyplot as plt\n",
    "import glob\n",
    "\n",
    "import pyart\n",
    "pyart.config.load_config('mch_config.py')\n"
   ]
  },
  {
   "cell_type": "markdown",
   "metadata": {},
   "source": [
    "The Swiss operational C-band radar network performs 20 PPIs at 20 different elevations (from 0.2° to 40°) every 5 minutes. All PPIs are stored in separate files. \n",
    "\n",
    "We will thus read all 20 elevations one after the other for a given timestep and use the Py-ART function __[join_radar](https://arm-doe.github.io/pyart/API/generated/pyart.util.join_radar.html?highlight=join_radar)__ to merge them all into a single radar object which containes 20 sweeps. \n",
    "\n",
    "To avoid using too much memory we will read the pre-processed MeteoSwiss radar data which has a resolution of 500 m in range.\n",
    "\n",
    "Every time we read a file we will also dealias the radial velocity field. Indeed, at lower elevations, low PRFs are used which result in low Nyquist velocities between 8-12 m/s. This means that a lot of raveling will occur, especially in strong winds. In this example we use the simplest dealiasing method of Py-ART which performs by finding regions of similar velocities and unfolding and merging pairs of regions until all regions are unfolded."
   ]
  },
  {
   "cell_type": "code",
   "execution_count": null,
   "metadata": {},
   "outputs": [],
   "source": [
    "# Read all 20 elevations for one timestep\n",
    "files_radar = sorted(glob.glob('./data/exercice2_swiss_doppler/MLL221790725*'))\n",
    "for i,f in enumerate(files_radar):\n",
    "    radar = pyart.io.read_cfradial(f)\n",
    "    \n",
    "    if i == 0:\n",
    "        radar_merged = radar\n",
    "    else:\n",
    "        radar_merged = pyart.util.join_radar(radar_merged, \n",
    "                                       radar)\n",
    "        \n",
    "corr_vel = pyart.correct.dealias_region_based(radar_merged)\n",
    "radar_merged.add_field('corrected_velocity', corr_vel)"
   ]
  },
  {
   "cell_type": "markdown",
   "metadata": {},
   "source": [
    "We will now plot the raw and dealiased velocities at two different elevations to see the effect of the correction.\n",
    "\n"
   ]
  },
  {
   "cell_type": "code",
   "execution_count": null,
   "metadata": {},
   "outputs": [],
   "source": [
    "fig, ax = plt.subplots(2,2, figsize=(10,10), sharex= True, sharey=True)\n",
    "ax = ax.ravel()\n",
    "display = pyart.graph.RadarDisplay(radar_merged)\n",
    "display.plot_ppi('velocity', 2, vmin=-30, vmax=30., ax = ax[0], title='El=1 deg',\n",
    "                 colorbar_label = 'Mean Doppler velocity (m/s)')\n",
    "display.plot_ppi('corrected_velocity', 2, vmin=-30, vmax=30., title='El=1 deg',\n",
    "                      ax = ax[1], colorbar_label = 'corr. Mean Doppler velocity (m/s)')\n",
    "display.plot_ppi('velocity', 6, vmin=-30, vmax=30., ax = ax[2], title='El=4.5 deg',\n",
    "                 colorbar_label = 'Mean Doppler velocity (m/s)')\n",
    "display.plot_ppi('corrected_velocity', 6, vmin=-30, vmax=30., title='El=4.5 deg',\n",
    "                      ax = ax[3], colorbar_label = 'corr. Mean Doppler velocity (m/s)')\n",
    "ax[0].set_xlim([-50,50])\n",
    "ax[0].set_ylim([-50,50])\n",
    "for a in ax:\n",
    "    a.set_aspect('equal', 'box')"
   ]
  },
  {
   "cell_type": "markdown",
   "metadata": {},
   "source": [
    "Indeed the raw velocity shows alternating bands of negative and positive velocities which indicates aliasing. The dealiased velocity looks much less discontinuous. Note however that a major difficulty for these algorithms is the presence of isolated pixels, which tend to get arbitrary values as can be seen in the south of the radar."
   ]
  },
  {
   "cell_type": "markdown",
   "metadata": {},
   "source": [
    "We will now create a CAPPI (constant altitude PPI) of the reflectivity during this event. The idea is to interpolate the volumetric scan on a 3D Cartesian grid using the function __[grid_from_radars](https://arm-doe.github.io/pyart/API/generated/pyart.map.grid_from_radars.html)__. Here we will create slices every 500 m from 500 m to 8000 m above the radar."
   ]
  },
  {
   "cell_type": "code",
   "execution_count": null,
   "metadata": {},
   "outputs": [],
   "source": [
    "zmin = 500\n",
    "zmax = 8000\n",
    "ymin= xmin = -100000\n",
    "ymax = xmax = 100000\n",
    "lat = float(radar.latitude['data'])\n",
    "lon = float(radar.longitude['data'])\n",
    "alt = float(radar.altitude['data'])\n",
    "# number of grid points in cappi\n",
    "cappi_res_h = 500\n",
    "cappi_res_v = 500\n",
    "ny = int((ymax-ymin)/cappi_res_h)+1\n",
    "nx = int((xmax-xmin)/cappi_res_h)+1\n",
    "nz = int((zmax-zmin)/cappi_res_v)+1\n",
    "\n",
    "cappi_zh = pyart.map.grid_from_radars(radar_merged, grid_shape=(nz, ny, nx),\n",
    "        grid_limits=((zmin, zmax), (ymin, ymax),\n",
    "                     (xmin, xmax)),\n",
    "        fields=['reflectivity'])\n"
   ]
  },
  {
   "cell_type": "markdown",
   "metadata": {},
   "source": [
    "Now we plot the reflectivity at 4 different altitudes (0.5, 3, 5.5 and 8 km), as well as a profile along as a W-E profile at the radar location throught the thunderstorm."
   ]
  },
  {
   "cell_type": "code",
   "execution_count": null,
   "metadata": {},
   "outputs": [],
   "source": [
    "display = pyart.graph.GridMapDisplay(cappi_zh)\n",
    "projection = ccrs.PlateCarree()\n",
    "fig = plt.figure(figsize=(18,14))\n",
    "ax = plt.subplot(221, projection = projection)\n",
    "display.plot_grid('reflectivity',0, ax = ax, projection = projection)\n",
    "ax = plt.subplot(222, projection = projection)\n",
    "display.plot_grid('reflectivity',5, ax = ax, projection = projection)\n",
    "ax = plt.subplot(223, projection = projection)\n",
    "display.plot_grid('reflectivity',10, ax = ax, projection = projection)\n",
    "ax = plt.subplot(224, projection = projection)\n",
    "display.plot_grid('reflectivity',15, ax = ax, projection = projection)\n",
    "\n",
    "ax = fig.add_axes([0.25, -0.20, .5, .25])\n",
    "display.plot_latitude_slice('reflectivity', lon=lon, lat=lat, ax = ax)\n"
   ]
  },
  {
   "cell_type": "markdown",
   "metadata": {},
   "source": [
    "We will now create a pseudo RHI (altitudinal cross-section through a set of PPIs) of the radial velocity and the reflectivity through the thunderstorm at azimuth 270° (to the west)."
   ]
  },
  {
   "cell_type": "code",
   "execution_count": null,
   "metadata": {},
   "outputs": [],
   "source": [
    "pseudorhi = pyart.util.cross_section_ppi(radar_merged, [270])\n",
    "\n",
    "display = pyart.graph.RadarDisplay(pseudorhi)\n",
    "fig, ax = plt.subplots(2,1, sharex=True,sharey=True, figsize= (10,10))\n",
    "display.plot_rhi('corrected_velocity', ax = ax[0], vmin = -30, vmax = 30)\n",
    "display.plot_rhi('reflectivity', ax = ax[1])\n",
    "ax[0].set_ylim([0,20])\n",
    "ax[0].set_xlim([0,100])\n",
    "\n"
   ]
  },
  {
   "cell_type": "markdown",
   "metadata": {},
   "source": [
    "The convention at MeteoSwiss (which is different from the one used by Py-ART) is that positive velocities are moving away from the radar. In this example we see clearly the downdraft in the center of storm and the updraft in its surroundings."
   ]
  },
  {
   "cell_type": "markdown",
   "metadata": {},
   "source": [
    "We will now make a VAD retrieval to estimate the horizontal wind profile above the radar. This technique requires to have measurements in as many azimuths as possible and works better for stratiform rain when the radar coverage is wider. We will load data from a cold front event on the 13th July 2021 near the Albis radar (south of Zürich), that showed widespread precipitation around the radar. "
   ]
  },
  {
   "cell_type": "markdown",
   "metadata": {},
   "source": [
    "Unfortunately the VAD estimation technique in Py-ART can process only one sweep at a time. So we will average the wind vectors obtained over all sweeps to obtain a more reliable estimate. Note that we skip the first four sweeps which are more prone to ground echoes and have a very low Nyquist velocity."
   ]
  },
  {
   "cell_type": "code",
   "execution_count": null,
   "metadata": {},
   "outputs": [],
   "source": [
    "files_radar = sorted(glob.glob('./data/question_pyart_meteoswiss/MLA211941205*'))\n",
    "u_allsweeps = []\n",
    "v_allsweeps = [] \n",
    "zlevels = np.arange(100,5000,100)\n",
    "speed = []\n",
    "for i,f in enumerate(files_radar[4:]):\n",
    "    radar = pyart.io.read_cfradial(f)\n",
    "    corr_vel = pyart.correct.dealias_region_based(radar)\n",
    "    corr_vel['data'] *= -1 \n",
    "    radar.add_field('corrected_velocity_neg', corr_vel)\n",
    "    \n",
    "    vad = pyart.retrieve.vad_browning(radar, 'corrected_velocity_neg', z_want = zlevels)\n",
    "    u_allsweeps.append(vad.u_wind)\n",
    "    v_allsweeps.append(vad.v_wind)\n",
    "    \n",
    "u_avg = np.nanmean(np.array(u_allsweeps), axis = 0)\n",
    "v_avg = np.nanmean(np.array(v_allsweeps), axis = 0)\n",
    "orientation = np.rad2deg(np.arctan2(-u_avg, -v_avg))%360\n",
    "speed = np.sqrt(u_avg**2 + v_avg**2)\n"
   ]
  },
  {
   "cell_type": "markdown",
   "metadata": {},
   "source": [
    "Note that because the convention at MeteoSwiss is different than the one in Py-ART we have to flip the sign of the radial velocity field. \n",
    "\n",
    "Finally we do a plot of the vertical profiles or horizontal wind speed and direction"
   ]
  },
  {
   "cell_type": "code",
   "execution_count": null,
   "metadata": {},
   "outputs": [],
   "source": [
    "fig,ax = plt.subplots(1,2, sharey=True)\n",
    "ax[0].plot(speed*2, zlevels+radar.altitude['data'])\n",
    "ax[1].plot(orientation, zlevels+radar.altitude['data'])\n",
    "ax[0].set_xlabel('Wind speed [m/s]')\n",
    "ax[1].set_xlabel('Wind direction [deg]')\n",
    "ax[0].set_ylabel('Altitude [m]')\n",
    "fig.suptitle('Wind profile obtained from VAD')"
   ]
  },
  {
   "cell_type": "markdown",
   "metadata": {},
   "source": [
    "Now let's compare this wind profile with the one recorded by the nearest radiosounding operated in Payerne (around 130 km west from the radar):\n"
   ]
  },
  {
   "cell_type": "markdown",
   "metadata": {},
   "source": [
    "<img src=\"images/radiosounding_pay_20210713.png\" alt=\"radiosounding_pay_20210713\" width=\"400\">"
   ]
  },
  {
   "cell_type": "markdown",
   "metadata": {},
   "source": [
    "Though there are some discrepancies the match is not bad, given the distance and the very different ways of measuring wind!"
   ]
  }
 ],
 "metadata": {
  "kernelspec": {
   "display_name": "Python 3 (ipykernel)",
   "language": "python",
   "name": "python3"
  },
  "language_info": {
   "codemirror_mode": {
    "name": "ipython",
    "version": 3
   },
   "file_extension": ".py",
   "mimetype": "text/x-python",
   "name": "python",
   "nbconvert_exporter": "python",
   "pygments_lexer": "ipython3",
   "version": "3.9.13"
  },
  "widgets": {
   "application/vnd.jupyter.widget-state+json": {
    "state": {},
    "version_major": 2,
    "version_minor": 0
   }
  }
 },
 "nbformat": 4,
 "nbformat_minor": 4
}
