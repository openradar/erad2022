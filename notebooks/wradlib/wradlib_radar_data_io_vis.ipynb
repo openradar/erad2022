{
 "cells": [
  {
   "cell_type": "markdown",
   "metadata": {},
   "source": [
    "<img src=\"../images/logos/wradlib_logo.svg.png\" width=250 alt=\"wradlib logo png\"></img>"
   ]
  },
  {
   "cell_type": "markdown",
   "metadata": {},
   "source": [
    "# wradlib radar data io, visualisation, gridding and gis export"
   ]
  },
  {
   "cell_type": "markdown",
   "metadata": {},
   "source": [
    "---"
   ]
  },
  {
   "cell_type": "markdown",
   "metadata": {},
   "source": [
    "## Overview\n",
    "\n",
    "Within this notebook, we will cover:\n",
    "\n",
    "1. Reading radar volume data into xarray based RadarVolume\n",
    "1. Examination of RadarVolume and Sweeps\n",
    "1. Plotting of sweeps, simple and mapmaking\n",
    "1. Gridding and GIS output"
   ]
  },
  {
   "cell_type": "markdown",
   "metadata": {},
   "source": [
    "## Prerequisites\n",
    "\n",
    "| Concepts | Importance | Notes |\n",
    "| --- | --- | --- |\n",
    "| [Xarray Basics](https://tutorial.xarray.dev/intro.html) | Helpful | Basic Dataset/DataArray |\n",
    "| [Matplotlib Basics](https://foundations.projectpythia.org/core/matplotlib/matplotlib-basics.html) | Helpful | Basic Plotting |\n",
    "| [Cartopy Basics](https://foundations.projectpythia.org/core/cartopy/cartopy.html) | Helpful | Projections |\n",
    "| [GDAL Basiscs](https://gdal.org/api/python_bindings.html) | Helpful | Raster |\n",
    "\n",
    "- **Time to learn**: 15 minutes"
   ]
  },
  {
   "cell_type": "markdown",
   "metadata": {},
   "source": [
    "---"
   ]
  },
  {
   "cell_type": "markdown",
   "metadata": {},
   "source": [
    "## Imports"
   ]
  },
  {
   "cell_type": "code",
   "execution_count": null,
   "metadata": {},
   "outputs": [],
   "source": [
    "import glob\n",
    "import pathlib\n",
    "\n",
    "import cartopy\n",
    "import cartopy.crs as ccrs\n",
    "import cartopy.feature as cfeature\n",
    "import matplotlib.pyplot as plt\n",
    "import numpy as np\n",
    "import xarray as xr\n",
    "from matplotlib import ticker as tick\n",
    "from osgeo import gdal\n",
    "\n",
    "import wradlib as wrl"
   ]
  },
  {
   "cell_type": "markdown",
   "metadata": {},
   "source": [
    "## Import data into RadarVolume\n",
    "\n",
    "We have this special case here with Rainbow data where moments are splitted across files. Each file nevertheless consists of all sweeps comprising the volume. We'll use some special nested ordering to read the files."
   ]
  },
  {
   "cell_type": "code",
   "execution_count": null,
   "metadata": {},
   "outputs": [],
   "source": [
    "fglob = \"data/rainbow/meteoswiss/*.vol\""
   ]
  },
  {
   "cell_type": "code",
   "execution_count": null,
   "metadata": {},
   "outputs": [],
   "source": [
    "vol = wrl.io.open_rainbow_mfdataset(fglob, combine=\"by_coords\", concat_dim=None)"
   ]
  },
  {
   "cell_type": "markdown",
   "metadata": {},
   "source": [
    "### Examine RadarVolume\n",
    "\n",
    "The RadarVolume is a shallow class which tries to comply to CfRadial2/WMO-FM301, see [WMO-CF_Extensions](https://community.wmo.int/activity-areas/wis/wmo-cf-extensions).\n",
    "\n",
    "The printout of `RadarVolume` just lists the dimensions and the associated elevations."
   ]
  },
  {
   "cell_type": "code",
   "execution_count": null,
   "metadata": {},
   "outputs": [],
   "source": [
    "display(vol)"
   ]
  },
  {
   "cell_type": "markdown",
   "metadata": {},
   "source": [
    "### Root Group\n",
    "\n",
    "The root-group is essentially an overview over the volume, more or less aligned with CfRadial metadata."
   ]
  },
  {
   "cell_type": "code",
   "execution_count": null,
   "metadata": {},
   "outputs": [],
   "source": [
    "vol.root"
   ]
  },
  {
   "cell_type": "markdown",
   "metadata": {},
   "source": [
    "### Sweep Groups\n",
    "\n",
    "Sweeps are available in a sequence attached to the `RadarVolume` object."
   ]
  },
  {
   "cell_type": "code",
   "execution_count": null,
   "metadata": {},
   "outputs": [],
   "source": [
    "swp = vol[0]\n",
    "display(swp)"
   ]
  },
  {
   "cell_type": "markdown",
   "metadata": {},
   "source": [
    "## Inspect Scan Strategy\n",
    "\n",
    "Considering volume files it's nice to have an overview over the scan strategy. We can choose some reasonable values for the layout."
   ]
  },
  {
   "cell_type": "code",
   "execution_count": null,
   "metadata": {},
   "outputs": [],
   "source": [
    "nrays = 360\n",
    "nbins = 150\n",
    "range_res = 1000.0\n",
    "ranges = np.arange(nbins) * range_res\n",
    "elevs = vol.root.sweep_fixed_angle.values\n",
    "sitecoords = (\n",
    "    vol.root.longitude.values.item(),\n",
    "    vol.root.latitude.values.item(),\n",
    "    vol.root.altitude.values.item(),\n",
    ")\n",
    "\n",
    "beamwidth = 1.0"
   ]
  },
  {
   "cell_type": "code",
   "execution_count": null,
   "metadata": {},
   "outputs": [],
   "source": [
    "ax = wrl.vis.plot_scan_strategy(ranges, elevs, sitecoords)"
   ]
  },
  {
   "cell_type": "markdown",
   "metadata": {},
   "source": [
    "We can plot it on top of the terrain derived from SRTM DEM."
   ]
  },
  {
   "cell_type": "code",
   "execution_count": null,
   "metadata": {},
   "outputs": [],
   "source": [
    "import os\n",
    "\n",
    "os.environ[\"WRADLIB_EARTHDATA_BEARER_TOKEN\"] = \"\"\n",
    "os.environ[\"WRADLIB_DATA\"] = \"data/wradlib-data\""
   ]
  },
  {
   "cell_type": "code",
   "execution_count": null,
   "metadata": {},
   "outputs": [],
   "source": [
    "ax = wrl.vis.plot_scan_strategy(ranges, elevs, sitecoords, terrain=True)"
   ]
  },
  {
   "cell_type": "markdown",
   "metadata": {},
   "source": [
    "Let's make the earth go round..."
   ]
  },
  {
   "cell_type": "code",
   "execution_count": null,
   "metadata": {},
   "outputs": [],
   "source": [
    "ax = wrl.vis.plot_scan_strategy(\n",
    "    ranges, elevs, sitecoords, cg=True, terrain=True, az=180\n",
    ")"
   ]
  },
  {
   "cell_type": "markdown",
   "metadata": {},
   "source": [
    "## Plotting Radar Data\n",
    "### Time vs. Azimuth"
   ]
  },
  {
   "cell_type": "code",
   "execution_count": null,
   "metadata": {},
   "outputs": [],
   "source": [
    "fig = plt.figure(figsize=(10, 5))\n",
    "ax1 = fig.add_subplot(111)\n",
    "swp.azimuth.sortby(\"rtime\").plot(x=\"rtime\", marker=\".\")"
   ]
  },
  {
   "cell_type": "markdown",
   "metadata": {},
   "source": [
    "### Range vs. Azimuth/Time"
   ]
  },
  {
   "cell_type": "code",
   "execution_count": null,
   "metadata": {},
   "outputs": [],
   "source": [
    "fig = plt.figure(figsize=(10, 5))\n",
    "ax1 = fig.add_subplot(121)\n",
    "swp.DBZH.plot(cmap=\"turbo\", ax=ax1)\n",
    "ax1.set_title(f\"{swp.time.values.astype('M8[s]')}\")\n",
    "ax2 = fig.add_subplot(122)\n",
    "swp.DBZH.sortby(\"rtime\").plot(y=\"rtime\", cmap=\"turbo\", ax=ax2)\n",
    "ax2.set_title(f\"{swp.time.values.astype('M8[s]')}\")\n",
    "plt.tight_layout()"
   ]
  },
  {
   "cell_type": "markdown",
   "metadata": {},
   "source": [
    "### Georeferenced as Plan Position Indicator"
   ]
  },
  {
   "cell_type": "code",
   "execution_count": null,
   "metadata": {},
   "outputs": [],
   "source": [
    "fig = plt.figure(figsize=(10, 10))\n",
    "ax1 = fig.add_subplot(111)\n",
    "swp.DBZH.pipe(wrl.georef.georeference_dataset).plot(\n",
    "    x=\"x\", y=\"y\", ax=ax1, cmap=\"turbo\", cbar_kwargs=dict(shrink=0.8)\n",
    ")\n",
    "ax1.plot(0, 0, \"rx\", markersize=12)\n",
    "ax1.set_title(f\"{swp.time.values.astype('M8[s]')}\")\n",
    "ax1.grid()\n",
    "ax1.set_aspect(\"equal\")"
   ]
  },
  {
   "cell_type": "markdown",
   "metadata": {},
   "source": [
    "### Basic MapMaking with cartopy\n",
    "\n",
    "The data will be georeferenced as `Azimuthal Equidistant Projection` centered at the radar. For the map projection we will use `Mercator`."
   ]
  },
  {
   "cell_type": "code",
   "execution_count": null,
   "metadata": {},
   "outputs": [],
   "source": [
    "map_trans = ccrs.AzimuthalEquidistant(\n",
    "    central_latitude=swp.latitude.values, central_longitude=swp.longitude.values\n",
    ")\n",
    "map_proj = ccrs.Mercator(central_longitude=swp.longitude.values)"
   ]
  },
  {
   "cell_type": "code",
   "execution_count": null,
   "metadata": {},
   "outputs": [],
   "source": [
    "def plot_borders(ax):\n",
    "    borders = cfeature.NaturalEarthFeature(\n",
    "        category=\"cultural\", name=\"admin_0_countries\", scale=\"10m\", facecolor=\"none\"\n",
    "    )\n",
    "    ax.add_feature(borders, edgecolor=\"black\", lw=2, zorder=4)"
   ]
  },
  {
   "cell_type": "code",
   "execution_count": null,
   "metadata": {},
   "outputs": [],
   "source": [
    "fig = plt.figure(figsize=(10, 8))\n",
    "ax = fig.add_subplot(111, projection=map_proj)\n",
    "cbar_kwargs = dict(shrink=0.7, pad=0.075)\n",
    "pm = swp.DBZH.pipe(wrl.georef.georeference_dataset).plot(\n",
    "    ax=ax, x=\"x\", y=\"y\", cbar_kwargs=cbar_kwargs, cmap=\"turbo\", transform=map_trans\n",
    ")\n",
    "plot_borders(ax)\n",
    "ax.gridlines(draw_labels=True)\n",
    "ax.plot(\n",
    "    swp.longitude.values, swp.latitude.values, transform=map_trans, marker=\"*\", c=\"r\"\n",
    ")\n",
    "ax.set_title(f\"{swp.time.values.astype('M8[s]')}\")\n",
    "ax.set_xlim(-15e4, 45e4)\n",
    "ax.set_ylim(565e4, 610e4)\n",
    "plt.tight_layout()"
   ]
  },
  {
   "cell_type": "markdown",
   "metadata": {},
   "source": [
    "### Plot on curvelinear grid\n",
    "\n",
    "For Xarray DataArrays wradlib uses a so-called accessor (`wradlib`). To plot on curvelinear grids projection has to be set to `cg`, which uses the matplotlib AXISARTIS namespace."
   ]
  },
  {
   "cell_type": "code",
   "execution_count": null,
   "metadata": {},
   "outputs": [],
   "source": [
    "fig = plt.figure(figsize=(10, 8))\n",
    "\n",
    "pm = swp.DBZH.pipe(wrl.georef.georeference_dataset).wradlib.plot(\n",
    "    proj=\"cg\", fig=fig, cmap=\"turbo\"\n",
    ")\n",
    "\n",
    "ax = plt.gca()\n",
    "\n",
    "# apply eye-candy\n",
    "caax = ax.parasites[0]\n",
    "paax = ax.parasites[1]\n",
    "ax.parasites[1].set_aspect(\"equal\")\n",
    "t = plt.title(f\"{vol[0].time.values.astype('M8[s]')}\", y=1.05)\n",
    "cbar = plt.colorbar(pm, pad=0.075, ax=paax)\n",
    "caax.set_xlabel(\"x_range [m]\")\n",
    "caax.set_ylabel(\"y_range [m]\")\n",
    "plt.text(1.0, 1.05, \"azimuth\", transform=caax.transAxes, va=\"bottom\", ha=\"right\")\n",
    "cbar.set_label(\"reflectivity [dBZ]\")"
   ]
  },
  {
   "cell_type": "markdown",
   "metadata": {},
   "source": [
    "## ODIM_H5 format export and import\n",
    "### Export to ODIM_H5"
   ]
  },
  {
   "cell_type": "code",
   "execution_count": null,
   "metadata": {},
   "outputs": [],
   "source": [
    "vol.to_odim(\"test_odim_vol.h5\")"
   ]
  },
  {
   "cell_type": "markdown",
   "metadata": {},
   "source": [
    "### Import from ODIM_H5"
   ]
  },
  {
   "cell_type": "code",
   "execution_count": null,
   "metadata": {},
   "outputs": [],
   "source": [
    "vol2 = wrl.io.open_odim_dataset(\"test_odim_vol.h5\")\n",
    "display(vol2)"
   ]
  },
  {
   "cell_type": "code",
   "execution_count": null,
   "metadata": {},
   "outputs": [],
   "source": [
    "display(vol2[0])"
   ]
  },
  {
   "cell_type": "markdown",
   "metadata": {},
   "source": [
    "## Import with xarray backends\n",
    "\n",
    "We can facilitate the xarray backend's which wradlib provides for the different readers. The xarray backends are capable of loading data into a single Dataset for now. So we need to give some information here too.\n",
    "\n",
    "### Open single files\n",
    "\n",
    "The simplest case can only open one file and one group a time!"
   ]
  },
  {
   "cell_type": "code",
   "execution_count": null,
   "metadata": {},
   "outputs": [],
   "source": [
    "ds = xr.open_dataset(\"test_odim_vol.h5\", engine=\"odim\", group=\"dataset1\")\n",
    "display(ds)"
   ]
  },
  {
   "cell_type": "markdown",
   "metadata": {},
   "source": [
    "### Open multiple files\n",
    "\n",
    "Here we just specify the group, which in case of rainbow files is given by the group number."
   ]
  },
  {
   "cell_type": "code",
   "execution_count": null,
   "metadata": {},
   "outputs": [],
   "source": [
    "ds = xr.open_mfdataset(fglob, engine=\"rainbow\", group=0, combine=\"by_coords\")\n",
    "display(ds)"
   ]
  },
  {
   "cell_type": "markdown",
   "metadata": {},
   "source": [
    "## Gridding and Export to GIS formats\n",
    "\n",
    "- get coordinates from source Dataset with given projection\n",
    "- calculate target coordinates\n",
    "- grid using wradlib interpolator\n",
    "- export to single band geotiff\n",
    "- use GDAL CLI tools to convert to grayscaled/paletted PNG"
   ]
  },
  {
   "cell_type": "code",
   "execution_count": null,
   "metadata": {},
   "outputs": [],
   "source": [
    "def get_target_grid(ds, nb_pixels):\n",
    "    xgrid = np.linspace(ds.x.min(), ds.x.max(), nb_pixels, dtype=np.float32)\n",
    "    ygrid = np.linspace(ds.y.min(), ds.y.max(), nb_pixels, dtype=np.float32)\n",
    "    grid_xy_raw = np.meshgrid(xgrid, ygrid)\n",
    "    grid_xy_grid = np.dstack((grid_xy_raw[0], grid_xy_raw[1]))\n",
    "    return xgrid, ygrid, grid_xy_grid\n",
    "\n",
    "\n",
    "def get_target_coordinates(grid):\n",
    "    grid_xy = np.stack((grid[..., 0].ravel(), grid[..., 1].ravel()), axis=-1)\n",
    "    return grid_xy\n",
    "\n",
    "\n",
    "def get_source_coordinates(ds):\n",
    "    xy = np.stack((ds.x.values.ravel(), ds.y.values.ravel()), axis=-1)\n",
    "    return xy\n",
    "\n",
    "\n",
    "def coordinates(da, proj, res=100):\n",
    "    # georeference single sweep\n",
    "    da = da.pipe(wrl.georef.georeference_dataset, proj=proj)\n",
    "    # get source coordinates\n",
    "    src = get_source_coordinates(da)\n",
    "    # create target grid\n",
    "    xgrid, ygrid, trg = get_target_grid(da, res)\n",
    "    return src, trg\n",
    "\n",
    "\n",
    "def moment_to_gdal(da, trg_grid, driver, ext, path=\"\", proj=None):\n",
    "    # use wgs84 pseudo mercator if no projection is given\n",
    "    if proj is None:\n",
    "        proj = wrl.georef.epsg_to_osr(3857)\n",
    "    t = da.time.values.astype(\"M8[s]\").astype(\"O\")\n",
    "    outfilename = f\"gridded_{da.name}_{t:%Y%m%d}_{t:%H%M%S}\"\n",
    "    outfilename = os.path.join(path, outfilename)\n",
    "    f = pathlib.Path(outfilename)\n",
    "    f.unlink(missing_ok=True)\n",
    "    res = ip_near(da.values.ravel(), maxdist=1000).reshape(\n",
    "        (len(trg_grid[0]), len(trg_grid[1]))\n",
    "    )\n",
    "    data, xy = wrl.georef.set_raster_origin(res, trg_grid, \"upper\")\n",
    "    ds = wrl.georef.create_raster_dataset(data, xy, projection=proj)\n",
    "    wrl.io.write_raster_dataset(outfilename + ext, ds, driver)"
   ]
  },
  {
   "cell_type": "markdown",
   "metadata": {},
   "source": [
    "### Coordinates"
   ]
  },
  {
   "cell_type": "code",
   "execution_count": null,
   "metadata": {},
   "outputs": [],
   "source": [
    "%%time\n",
    "epsg_code = 2056\n",
    "proj = wrl.georef.epsg_to_osr(epsg_code)\n",
    "src, trg = coordinates(ds, proj, res=1400)"
   ]
  },
  {
   "cell_type": "markdown",
   "metadata": {},
   "source": [
    "### Interpolator"
   ]
  },
  {
   "cell_type": "code",
   "execution_count": null,
   "metadata": {},
   "outputs": [],
   "source": [
    "%%time\n",
    "ip_near = wrl.ipol.Nearest(src, trg.reshape(-1, trg.shape[-1]), remove_missing=7)"
   ]
  },
  {
   "cell_type": "markdown",
   "metadata": {},
   "source": [
    "### Gridding and Export"
   ]
  },
  {
   "cell_type": "code",
   "execution_count": null,
   "metadata": {},
   "outputs": [],
   "source": [
    "%%time\n",
    "moment_to_gdal(ds.DBZH, trg, \"GTiff\", \".tif\", proj=proj)"
   ]
  },
  {
   "cell_type": "markdown",
   "metadata": {},
   "source": [
    "### GDAL info on created GeoTiff"
   ]
  },
  {
   "cell_type": "code",
   "execution_count": null,
   "metadata": {},
   "outputs": [],
   "source": [
    "!gdalinfo gridded_DBZH_20191021_082409.tif"
   ]
  },
  {
   "cell_type": "markdown",
   "metadata": {},
   "source": [
    "### Translate exported GeoTiff to grayscale PNG"
   ]
  },
  {
   "cell_type": "code",
   "execution_count": null,
   "metadata": {},
   "outputs": [],
   "source": [
    "!gdal_translate -of PNG -ot Byte -scale -30. 60. 0 255 gridded_DBZH_20191021_082409.tif grayscale.png"
   ]
  },
  {
   "cell_type": "markdown",
   "metadata": {},
   "source": [
    "### Apply colortable to PNG"
   ]
  },
  {
   "cell_type": "code",
   "execution_count": null,
   "metadata": {},
   "outputs": [],
   "source": [
    "with open(\"colors.txt\", \"w\") as f:\n",
    "    f.write(\"0 blue\\n\")\n",
    "    f.write(\"50 yellow\\n\")\n",
    "    f.write(\"100 yellow\\n\")\n",
    "    f.write(\"150 orange\\n\")\n",
    "    f.write(\"200 red\\n\")\n",
    "    f.write(\"250 white\\n\")"
   ]
  },
  {
   "cell_type": "markdown",
   "metadata": {},
   "source": [
    "### Display exported PNG's"
   ]
  },
  {
   "cell_type": "code",
   "execution_count": null,
   "metadata": {},
   "outputs": [],
   "source": [
    "!gdaldem color-relief grayscale.png colors.txt paletted.png"
   ]
  },
  {
   "cell_type": "markdown",
   "metadata": {},
   "source": [
    "<img src=\"grayscale.png\" width=400 alt=\"grayscale png\" align=\"left\"></img>\n",
    "<img src=\"paletted.png\" width=400 alt=\"paletted png\" align=\"left\"></img>"
   ]
  },
  {
   "cell_type": "markdown",
   "metadata": {},
   "source": [
    "### Import with Xarray, rasterio backend"
   ]
  },
  {
   "cell_type": "code",
   "execution_count": null,
   "metadata": {},
   "outputs": [],
   "source": [
    "with xr.open_dataset(\"gridded_DBZH_20191021_082409.tif\", engine=\"rasterio\") as ds_grd:\n",
    "    display(ds_grd)\n",
    "    ds_grd.band_data.plot(cmap=\"turbo\")"
   ]
  },
  {
   "cell_type": "markdown",
   "metadata": {},
   "source": [
    "---"
   ]
  },
  {
   "cell_type": "markdown",
   "metadata": {},
   "source": [
    "## Summary\n",
    "We've just learned how to use $\\omega radlib$'s xarray backends to make radar volume data available as xarray Datasets and DataArrays. Accessing, plotting and exporting data has been shown.\n",
    "\n",
    "### What's next?\n",
    "In the next notebook we dive into data quality processing."
   ]
  },
  {
   "cell_type": "markdown",
   "metadata": {},
   "source": [
    "## Resources and references\n",
    "\n",
    "- [xarray](https://docs.xarray.dev)\n",
    "- [dask](https://docs.dask.org)\n",
    "- [matplotlib](https://matplotlib.org/stable/index.html)\n",
    "- [matplotlib axisartist](https://matplotlib.org/stable/tutorials/toolkits/axisartist.html)\n",
    "- [cartopy](https://scitools.org.uk/cartopy/docs/latest)\n",
    "- [gdal](https://gdal.org/index.html)\n",
    "- [wradlib xarray backends](https://docs.wradlib.org/en/stable/notebooks/fileio/wradlib_xarray_backends.html)\n",
    "- [rioxarray](https://corteva.github.io/rioxarray/stable/)\n",
    "- [wradlib scan strategy](https://docs.wradlib.org/projects/old-docs/en/1.16.0/notebooks/visualisation/wradlib_plot_scan_strategy.html)\n",
    "- [Leonardo - Rainbow5](https://electronics.leonardo.com/en/products/rainbow-5-application-software)\n",
    "- [OPERA ODIM_H5](https://www.eumetnet.eu/activities/observations-programme/current-activities/opera/)\n",
    "- [WMO JET-OWR](https://community.wmo.int/governance/commission-membership/commission-observation-infrastructure-and-information-systems-infcom/commission-infrastructure-officers/infcom-management-group/standing-committee-measurements-instrumentation-and-traceability-sc-mint/joint-expert-team)"
   ]
  }
 ],
 "metadata": {
  "language_info": {
   "codemirror_mode": {
    "name": "ipython",
    "version": 3
   },
   "file_extension": ".py",
   "mimetype": "text/x-python",
   "name": "python",
   "nbconvert_exporter": "python",
   "pygments_lexer": "ipython3",
   "version": "3.9.13"
  },
  "nbdime-conflicts": {
   "local_diff": [
    {
     "diff": [
      {
       "diff": [
        {
         "key": 0,
         "op": "addrange",
         "valuelist": [
          "Python 3"
         ]
        },
        {
         "key": 0,
         "length": 1,
         "op": "removerange"
        }
       ],
       "key": "display_name",
       "op": "patch"
      }
     ],
     "key": "kernelspec",
     "op": "patch"
    }
   ],
   "remote_diff": [
    {
     "diff": [
      {
       "diff": [
        {
         "key": 0,
         "op": "addrange",
         "valuelist": [
          "Python3"
         ]
        },
        {
         "key": 0,
         "length": 1,
         "op": "removerange"
        }
       ],
       "key": "display_name",
       "op": "patch"
      }
     ],
     "key": "kernelspec",
     "op": "patch"
    }
   ]
  },
  "toc-autonumbering": false
 },
 "nbformat": 4,
 "nbformat_minor": 4
}
