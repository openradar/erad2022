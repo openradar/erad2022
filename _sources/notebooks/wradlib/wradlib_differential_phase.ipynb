{
 "cells": [
  {
   "cell_type": "markdown",
   "metadata": {},
   "source": [
    "<img src=\"../images/logos/wradlib_logo.svg.png\" width=250 alt=\"wradlib logo png\" align=\"left\"></img>"
   ]
  },
  {
   "cell_type": "markdown",
   "metadata": {},
   "source": [
    "# Phase Processing - System PhiDP - ZPHI-Method"
   ]
  },
  {
   "cell_type": "markdown",
   "metadata": {},
   "source": [
    "---"
   ]
  },
  {
   "cell_type": "markdown",
   "metadata": {},
   "source": [
    "## Overview\n",
    "\n",
    "Within this notebook, we will cover:\n",
    "\n",
    "1. Reading sweep data into xarray based Dataset\n",
    "1. Retrieval of system PhiDP\n",
    "1. ZPHI Phase processing\n",
    "1. Attenuation correction using specific Attenuation"
   ]
  },
  {
   "cell_type": "markdown",
   "metadata": {},
   "source": [
    "## Prerequisites\n",
    "\n",
    "| Concepts | Importance | Notes |\n",
    "| --- | --- | --- |\n",
    "| [Xarray Basics](https://tutorial.xarray.dev/intro.html) | Helpful | Basic Dataset/DataArray |\n",
    "| [Matplotlib Basics](https://foundations.projectpythia.org/core/matplotlib/matplotlib-basics.html) | Helpful | Basic Plotting |\n",
    "| [Intro to Cartopy](https://foundations.projectpythia.org/core/cartopy/cartopy.html) | Helpful | Projections |\n",
    "\n",
    "- **Time to learn**: 10 minutes"
   ]
  },
  {
   "cell_type": "markdown",
   "metadata": {},
   "source": [
    "\n",
    "\n"
   ]
  },
  {
   "cell_type": "code",
   "execution_count": null,
   "metadata": {},
   "outputs": [],
   "source": [
    "import datetime as dt\n",
    "import glob\n",
    "import os\n",
    "import sys\n",
    "import warnings\n",
    "\n",
    "import matplotlib as mpl\n",
    "import matplotlib.pyplot as plt\n",
    "import numpy as np\n",
    "import xarray as xr\n",
    "from scipy.integrate import cumulative_trapezoid\n",
    "\n",
    "import wradlib as wrl"
   ]
  },
  {
   "cell_type": "markdown",
   "metadata": {},
   "source": [
    "## Read data\n",
    "\n",
    "As an quick example to show the algorithm, we use a file from Down Under. For the further processing we us XBand data from BoXPol research radar at the University of Bonn, Germany."
   ]
  },
  {
   "cell_type": "code",
   "execution_count": null,
   "metadata": {},
   "outputs": [],
   "source": [
    "boxpol = \"data/hdf5/boxpol/2014-11-16--03:45:00,00.mvol\"\n",
    "terrey = \"data/hdf5/terrey_39.h5\""
   ]
  },
  {
   "cell_type": "code",
   "execution_count": null,
   "metadata": {},
   "outputs": [],
   "source": [
    "swp0 = wrl.io.open_odim_dataset(terrey)[0]\n",
    "swp0 = swp0.pipe(wrl.georef.georeference_dataset)"
   ]
  },
  {
   "cell_type": "markdown",
   "metadata": {},
   "source": [
    "## Pre-Processing"
   ]
  },
  {
   "cell_type": "markdown",
   "metadata": {},
   "source": [
    "System PHIDP aka Phase Offset\n",
    "\n",
    "The following function returns phase offset as well as start and stop ranges of the region of interest (first precipitating bins)."
   ]
  },
  {
   "cell_type": "code",
   "execution_count": null,
   "metadata": {},
   "outputs": [],
   "source": [
    "def phase_offset(phioff, method=None, rng=3000.0, npix=None, **kwargs):\n",
    "    \"\"\"Calculate Phase offset.\n",
    "\n",
    "    Parameter\n",
    "    ---------\n",
    "    phioff : xarray.DataArray\n",
    "        differential phase DataArray\n",
    "\n",
    "    Keyword Arguments\n",
    "    -----------------\n",
    "    method : str\n",
    "        aggregation method, defaults to 'median'\n",
    "    rng : float\n",
    "        range in m to calculate system phase offset\n",
    "\n",
    "    Return\n",
    "    ------\n",
    "    phidp_offset : xarray.Dataset\n",
    "        Dataset with PhiDP offset and start/stop ranges\n",
    "    \"\"\"\n",
    "    range_step = np.diff(phioff.range)[0]\n",
    "    nprec = int(rng / range_step)\n",
    "    if nprec % 2:\n",
    "        nprec += 1\n",
    "\n",
    "    if npix is None:\n",
    "        npix = nprec // 2 + 1\n",
    "\n",
    "    # create binary array\n",
    "    phib = xr.where(np.isnan(phioff), 0, 1)\n",
    "\n",
    "    # take nprec range bins and calculate sum\n",
    "    phib_sum = phib.rolling(range=nprec, **kwargs).sum(skipna=True)\n",
    "\n",
    "    # find at least N pixels in\n",
    "    # phib_sum_N = phib_sum.where(phib_sum >= npix)\n",
    "    phib_sum_N = xr.where(phib_sum <= npix, phib_sum, npix)\n",
    "\n",
    "    # get start range of first N consecutive precip bins\n",
    "    start_range = (\n",
    "        phib_sum_N.idxmax(dim=\"range\") - nprec // 2 * np.diff(phib_sum.range)[0]\n",
    "    )\n",
    "    start_range = xr.where(start_range < 0, 0, start_range)\n",
    "\n",
    "    # get stop range\n",
    "    stop_range = start_range + rng\n",
    "    # get phase values in specified range\n",
    "    off = phioff.where(\n",
    "        (phioff.range >= start_range) & (phioff.range <= stop_range), drop=False\n",
    "    )\n",
    "    # calculate nan median over range\n",
    "    if method is None:\n",
    "        method = \"median\"\n",
    "    func = getattr(off, method)\n",
    "    off_func = func(dim=\"range\", skipna=True)\n",
    "\n",
    "    return xr.Dataset(\n",
    "        dict(\n",
    "            PHIDP_OFFSET=off_func,\n",
    "            start_range=start_range,\n",
    "            stop_range=stop_range,\n",
    "            phib_sum=phib_sum,\n",
    "            phib=phib,\n",
    "        )\n",
    "    )"
   ]
  },
  {
   "cell_type": "markdown",
   "metadata": {},
   "source": [
    "### Example Showcase "
   ]
  },
  {
   "cell_type": "code",
   "execution_count": null,
   "metadata": {},
   "outputs": [],
   "source": [
    "dr_m = swp0.range.diff(\"range\").median()\n",
    "swp_msk = swp0.where((swp0.DBZH >= 0.0))\n",
    "swp_msk = swp_msk.where(swp_msk.RHOHV > 0.8)\n",
    "swp_msk = swp_msk.where(swp_msk.range > dr_m * 5)\n",
    "\n",
    "phi_masked = swp_msk.PHIDP.copy()\n",
    "off = phase_offset(\n",
    "    phi_masked, method=\"median\", rng=2000.0, npix=7, center=True, min_periods=4\n",
    ")\n",
    "phioff = off.PHIDP_OFFSET.median(dim=\"azimuth\", skipna=True)"
   ]
  },
  {
   "cell_type": "code",
   "execution_count": null,
   "metadata": {},
   "outputs": [],
   "source": [
    "fig = plt.figure(figsize=(16, 7))\n",
    "ax1 = plt.subplot(111, projection=\"polar\")\n",
    "# set the lable go clockwise and start from the top\n",
    "ax1.set_theta_zero_location(\"N\")\n",
    "# clockwise\n",
    "ax1.set_theta_direction(-1)\n",
    "theta = np.linspace(0, 2 * np.pi, num=360, endpoint=False)\n",
    "ax1.plot(theta, off.PHIDP_OFFSET, color=\"b\", linewidth=3)\n",
    "\n",
    "ax1.plot(theta, np.ones_like(theta) * phioff.values, color=\"r\", lw=2)\n",
    "ti = off.time.values.astype(\"M8[s]\")\n",
    "om = phioff.values\n",
    "tx = ax1.set_title(f\"{ti}\\n\" + r\"$\\phi_{DP}-Offset$ \" + f\"{om:.1f} (deg)\")\n",
    "tx.set_y(1.1)\n",
    "xticks = ax1.set_xticks(np.pi / 180.0 * np.linspace(0, 360, 36, endpoint=False))\n",
    "ax1.set_ylim(50, 150)"
   ]
  },
  {
   "cell_type": "code",
   "execution_count": null,
   "metadata": {},
   "outputs": [],
   "source": [
    "fig = plt.figure(figsize=(18, 5))\n",
    "swp_msk.DBZH.plot(x=\"azimuth\")\n",
    "off.start_range.plot(c=\"b\", lw=2)\n",
    "off.stop_range.plot(c=\"r\", lw=2)\n",
    "plt.gca().set_ylim(0, 25000)"
   ]
  },
  {
   "cell_type": "markdown",
   "metadata": {},
   "source": [
    "### Process BoXPol data"
   ]
  },
  {
   "cell_type": "code",
   "execution_count": null,
   "metadata": {},
   "outputs": [],
   "source": [
    "vol = wrl.io.open_gamic_dataset(boxpol)"
   ]
  },
  {
   "cell_type": "code",
   "execution_count": null,
   "metadata": {},
   "outputs": [],
   "source": [
    "display(vol)"
   ]
  },
  {
   "cell_type": "code",
   "execution_count": null,
   "metadata": {},
   "outputs": [],
   "source": [
    "swp = vol[0].copy()\n",
    "swp = swp.pipe(wrl.georef.georeference_dataset)"
   ]
  },
  {
   "cell_type": "code",
   "execution_count": null,
   "metadata": {},
   "outputs": [],
   "source": [
    "display(swp)"
   ]
  },
  {
   "cell_type": "markdown",
   "metadata": {},
   "source": [
    "#### Create Plot"
   ]
  },
  {
   "cell_type": "code",
   "execution_count": null,
   "metadata": {},
   "outputs": [],
   "source": [
    "fig = plt.figure(figsize=(13, 5))\n",
    "\n",
    "ax1 = fig.add_subplot(121)\n",
    "im1 = swp.PHIDP.where(swp.RHOHV > 0.8).plot(x=\"x\", y=\"y\", ax=ax1, cmap=\"turbo\")\n",
    "t = plt.title(r\"Uncorrected $\\phi_{DP}$\")\n",
    "t.set_y(1.1)\n",
    "\n",
    "ax2 = fig.add_subplot(122)\n",
    "im2 = swp.DBZH.where(swp.RHOHV > 0.8).plot(\n",
    "    x=\"x\", y=\"y\", ax=ax2, cmap=\"turbo\", vmin=-10, vmax=50\n",
    ")\n",
    "t = plt.title(r\"Uncorrected $Z_{H}$\")\n",
    "t.set_y(1.1)\n",
    "fig.suptitle(swp.time.values, fontsize=14)\n",
    "fig.subplots_adjust(wspace=0.25)"
   ]
  },
  {
   "cell_type": "markdown",
   "metadata": {},
   "source": [
    "#### Apply reasonable masking"
   ]
  },
  {
   "cell_type": "code",
   "execution_count": null,
   "metadata": {},
   "outputs": [],
   "source": [
    "dr_m = swp.range.diff(\"range\").median()\n",
    "swp_msk = swp.where((swp.DBZH >= 0.0))\n",
    "swp_msk = swp_msk.where(swp_msk.RHOHV > 0.8)\n",
    "swp_msk = swp_msk.where(swp_msk.range > dr_m * 2)\n",
    "\n",
    "\n",
    "phi_masked = swp_msk.PHIDP.copy()\n",
    "off = phase_offset(\n",
    "    phi_masked, method=\"median\", rng=2000.0, npix=7, center=True, min_periods=2\n",
    ")\n",
    "phioff = off.PHIDP_OFFSET.median(dim=\"azimuth\", skipna=True)"
   ]
  },
  {
   "cell_type": "markdown",
   "metadata": {},
   "source": [
    "#### Plot phase offset distrubution"
   ]
  },
  {
   "cell_type": "code",
   "execution_count": null,
   "metadata": {},
   "outputs": [],
   "source": [
    "fig = plt.figure(figsize=(16, 7))\n",
    "ax1 = plt.subplot(111, projection=\"polar\")\n",
    "# set the lable go clockwise and start from the top\n",
    "ax1.set_theta_zero_location(\"N\")\n",
    "# clockwise\n",
    "ax1.set_theta_direction(-1)\n",
    "theta = np.linspace(0, 2 * np.pi, num=360, endpoint=False)\n",
    "ax1.plot(theta, off.PHIDP_OFFSET, color=\"b\", linewidth=3)\n",
    "\n",
    "ax1.plot(theta, np.ones_like(theta) * phioff.values, color=\"r\", lw=2)\n",
    "ti = off.time.values.astype(\"M8[s]\")\n",
    "om = phioff.values\n",
    "tx = ax1.set_title(f\"{ti}\\n\" + r\"$\\phi_{DP}-Offset$ \" + f\"{om:.1f} (deg)\")\n",
    "tx.set_y(1.1)\n",
    "xticks = ax1.set_xticks(np.pi / 180.0 * np.linspace(0, 360, 36, endpoint=False))\n",
    "ax1.set_ylim(-120, -70)"
   ]
  },
  {
   "cell_type": "code",
   "execution_count": null,
   "metadata": {},
   "outputs": [],
   "source": [
    "fig = plt.figure(figsize=(18, 5))\n",
    "swp_msk.DBZH.plot(x=\"azimuth\")\n",
    "off.start_range.plot(c=\"b\", lw=2)\n",
    "off.stop_range.plot(c=\"r\", lw=2)\n",
    "plt.gca().set_ylim(0, 10000)"
   ]
  },
  {
   "cell_type": "markdown",
   "metadata": {},
   "source": [
    "We are using the following quations derived from the above papers:"
   ]
  },
  {
   "cell_type": "markdown",
   "metadata": {},
   "source": [
    "$\\begin{equation}\n",
    "\\Delta \\phi_{DP} = \\phi_{DP}(r2) - \\phi_{DP} (r1)\n",
    "\\tag{1}\n",
    "\\end{equation}$\n",
    "\n",
    "$\\begin{equation}\n",
    "f\\Delta\\phi_{DP} = 10^{0.1 \\cdot b \\cdot \\alpha \\cdot \\Delta\\phi_{DP}} - 1\n",
    "\\tag{2}\n",
    "\\end{equation}$\n",
    "\n",
    "$\\begin{equation}\n",
    "A_{H}(r) = \\frac{\\left [Z_a(r) \\right ]^b \\cdot f(\\Delta \\phi_{DP})}{0.46b \\int_{r1}^{r2} \\left [Z_a(s) \\right ]^b ds + f(\\Delta \\phi_{DP}) \\cdot 0.46b \\int_{r}^{r2} \\left [Z_a(s) \\right ]^b ds}\n",
    "\\tag{3}\n",
    "\\end{equation}$\n",
    "\n",
    "$\\begin{equation}\n",
    "\\phi_{DP}^{cal}(r_i, \\alpha) = 2 \\cdot \\int_{r1}^{r2} \\frac{A_H(s; \\alpha)}{\\alpha}ds\n",
    "\\tag{4}\n",
    "\\end{equation}$\n",
    "\n",
    "$\\begin{equation}\n",
    "\\Delta = \\sum_{i=1}^{N} \\left|{\\phi_{DP}^{cal}(r_i, \\alpha, b)- \\phi_{DP}^{m}(r_i)}\\right|\n",
    "\\tag{5}\n",
    "\\end{equation}$\n",
    "\n",
    "$\\begin{equation}\n",
    "A_{H} = \\beta Z_{H}^{b}\n",
    "\\tag{6}\n",
    "\\end{equation}$\n",
    "\n",
    "$\\begin{equation}\n",
    "A_{H} = \\alpha K_{DP}\n",
    "\\tag{7}\n",
    "\\end{equation}$"
   ]
  },
  {
   "cell_type": "markdown",
   "metadata": {},
   "source": [
    "#### Retrieving $\\Delta \\phi_{DP}$\n",
    "\n",
    "We will use the simple method of finding the first and the last non NAN values per ray from $\\phi_{DP}^{corr}$.\n",
    "\n",
    "This is the most simple and probably not very robust method."
   ]
  },
  {
   "cell_type": "code",
   "execution_count": null,
   "metadata": {},
   "outputs": [],
   "source": [
    "def phase_zphi(phi, rng=1000.0, **kwargs):\n",
    "    range_step = np.diff(phi.range)[0]\n",
    "\n",
    "    nprec = int(rng / range_step)\n",
    "\n",
    "    if nprec % 2:\n",
    "        nprec += 1\n",
    "\n",
    "    # create binary array\n",
    "    phib = xr.where(np.isnan(phi), 0, 1)\n",
    "\n",
    "    # take nprec range bins and calculate sum\n",
    "    phib_sum = phib.rolling(range=nprec, **kwargs).sum(skipna=True)\n",
    "\n",
    "    offset = nprec // 2 * np.diff(phib_sum.range)[0]\n",
    "    offset_idx = nprec // 2\n",
    "\n",
    "    start_range = phib_sum.idxmax(dim=\"range\") - offset\n",
    "    start_range_idx = phib_sum.argmax(dim=\"range\") - offset_idx\n",
    "\n",
    "    stop_range = phib_sum[:, ::-1].idxmax(dim=\"range\") - offset\n",
    "    stop_range_idx = (\n",
    "        len(phib_sum.range) - (phib_sum[:, ::-1].argmax(dim=\"range\") - offset_idx) - 2\n",
    "    )\n",
    "\n",
    "    # get phase values in specified range\n",
    "    first = phi.where(\n",
    "        (phi.range >= start_range) & (phi.range <= start_range + rng), drop=True\n",
    "    ).quantile(0.15, dim=\"range\", skipna=True)\n",
    "    last = phi.where(\n",
    "        (phi.range >= stop_range - rng) & (phi.range <= stop_range), drop=True\n",
    "    ).quantile(0.95, dim=\"range\", skipna=True)\n",
    "\n",
    "    return xr.Dataset(\n",
    "        dict(\n",
    "            phib=phib_sum,\n",
    "            offset=offset,\n",
    "            offset_idx=offset_idx,\n",
    "            start_range=start_range,\n",
    "            stop_range=stop_range,\n",
    "            first=first.drop(\"quantile\"),\n",
    "            first_idx=start_range_idx,\n",
    "            last=last.drop(\"quantile\"),\n",
    "            last_idx=stop_range_idx,\n",
    "        )\n",
    "    )"
   ]
  },
  {
   "cell_type": "markdown",
   "metadata": {},
   "source": [
    "Apply extraction of phase parameters."
   ]
  },
  {
   "cell_type": "code",
   "execution_count": null,
   "metadata": {},
   "outputs": [],
   "source": [
    "cphase = phase_zphi(swp_msk.PHIDP, rng=2000.0, center=True, min_periods=7)"
   ]
  },
  {
   "cell_type": "markdown",
   "metadata": {},
   "source": [
    "Apply azimuthal averaging."
   ]
  },
  {
   "cell_type": "code",
   "execution_count": null,
   "metadata": {},
   "outputs": [],
   "source": [
    "cphase = (\n",
    "    cphase.pad(pad_width={\"azimuth\": 2}, mode=\"wrap\")\n",
    "    .rolling(azimuth=5, center=True)\n",
    "    .median(skipna=True)\n",
    "    .isel(azimuth=slice(2, -2))\n",
    ")"
   ]
  },
  {
   "cell_type": "markdown",
   "metadata": {},
   "source": [
    "#### $\\Delta \\phi_{DP}$ - Polar Plots\n",
    "\n",
    "This visualizes `first` and `last` indizes including $\\Delta \\phi_{DP}$."
   ]
  },
  {
   "cell_type": "code",
   "execution_count": null,
   "metadata": {},
   "outputs": [],
   "source": [
    "dphi = cphase.last - cphase.first\n",
    "dphi = dphi.where(dphi >= 0).fillna(0)"
   ]
  },
  {
   "cell_type": "code",
   "execution_count": null,
   "metadata": {},
   "outputs": [],
   "source": [
    "fig = plt.figure(figsize=(20, 9))\n",
    "ax1 = plt.subplot(131, projection=\"polar\")\n",
    "ax2 = plt.subplot(132, projection=\"polar\")\n",
    "ax3 = plt.subplot(133, projection=\"polar\")\n",
    "# set the lable go clockwise and start from the top\n",
    "ax1.set_theta_zero_location(\"N\")\n",
    "ax2.set_theta_zero_location(\"N\")\n",
    "ax3.set_theta_zero_location(\"N\")\n",
    "# clockwise\n",
    "ax1.set_theta_direction(-1)\n",
    "ax2.set_theta_direction(-1)\n",
    "ax3.set_theta_direction(-1)\n",
    "theta = np.linspace(0, 2 * np.pi, num=360, endpoint=False)\n",
    "ax1.plot(theta, cphase.start_range, color=\"b\", linewidth=2)\n",
    "ax1.plot(theta, cphase.stop_range, color=\"r\", linewidth=2)\n",
    "_ = ax1.set_title(\"Start/Stop Range\")\n",
    "\n",
    "ax2.plot(theta, cphase.first, color=\"b\", linewidth=2)\n",
    "ax2.plot(theta, cphase.last, color=\"r\", linewidth=2)\n",
    "_ = ax2.set_title(\"Start/Stop PHIDP\")\n",
    "ax2.set_ylim(-110, -40)\n",
    "\n",
    "ax3.plot(theta, dphi, color=\"g\", linewidth=3)\n",
    "# ax3.plot(theta, dphi_old, color=\"k\", linewidth=1)\n",
    "_ = ax3.set_title(\"Delta PHIDP\")"
   ]
  },
  {
   "cell_type": "markdown",
   "metadata": {},
   "source": [
    "#### Calculating $f\\Delta\\phi_{DP}$\n",
    "\n",
    "$$f\\Delta\\phi_{DP} = 10^{0.1 \\cdot b \\cdot \\alpha \\cdot \\Delta\\phi_{DP}} - 1$$"
   ]
  },
  {
   "cell_type": "code",
   "execution_count": null,
   "metadata": {},
   "outputs": [],
   "source": [
    "# todo: cband coeffizienten\n",
    "alphax = 0.28\n",
    "betax = 0.05\n",
    "bx = 0.78\n",
    "# need to expand alphax to dphi-shape\n",
    "fdphi = 10 ** (0.1 * bx * alphax * dphi) - 1\n",
    "fdphi"
   ]
  },
  {
   "cell_type": "markdown",
   "metadata": {},
   "source": [
    "#### Calculating Reflectivity Integrals/Sums\n",
    "\n",
    "$$za(r) = \\left[Z_a(r) \\right ]^b$$\n",
    "\n",
    "$$iza(r,r2) = 0.46 \\cdot b \\cdot \\int_{r}^{r2} \\left [Z_a(s) \\right ]^b ds$$"
   ]
  },
  {
   "cell_type": "markdown",
   "metadata": {},
   "source": [
    "We do not restrict (mask) the reflectivities for now, but switch between `DBTH` and `DBZH` to see the difference."
   ]
  },
  {
   "cell_type": "code",
   "execution_count": null,
   "metadata": {},
   "outputs": [],
   "source": [
    "zhraw = swp.DBZH.where(\n",
    "    (swp.range > cphase.start_range) & (swp.range < cphase.stop_range)\n",
    ")\n",
    "zhraw.plot(x=\"x\", y=\"y\", cmap=\"turbo\", vmin=0, vmax=100)"
   ]
  },
  {
   "cell_type": "code",
   "execution_count": null,
   "metadata": {},
   "outputs": [],
   "source": [
    "# calculate linear reflectivity and ^b\n",
    "zax = zhraw.pipe(wrl.trafo.idecibel).fillna(0)\n",
    "za = zax**bx\n",
    "# set masked to zero for integration\n",
    "za_zero = za.fillna(0)"
   ]
  },
  {
   "cell_type": "markdown",
   "metadata": {},
   "source": [
    "Calculate cumulative integral, and subtract from maximum. That way we have the cumulative sum for every bin until the end of the ray."
   ]
  },
  {
   "cell_type": "code",
   "execution_count": null,
   "metadata": {},
   "outputs": [],
   "source": [
    "def cumulative_trapezoid_xarray(da, dim, initial=0):\n",
    "    \"\"\"Intgration with the scipy.integrate.cumtrapz.\n",
    "\n",
    "    Parameter\n",
    "    ---------\n",
    "    da : xarray.DataArray\n",
    "        array with differential phase data\n",
    "    dim : int\n",
    "        size of window in range dimension\n",
    "\n",
    "    Keyword Arguments\n",
    "    -----------------\n",
    "    initial : float\n",
    "        minimum number of valid bins\n",
    "\n",
    "    Return\n",
    "    ------\n",
    "    kdp : xarray.DataArray\n",
    "        DataArray with specific differential phase values\n",
    "    \"\"\"\n",
    "    x = da[dim]\n",
    "    dx = x.diff(dim).median(dim).values\n",
    "    if x.attrs[\"units\"] == \"meters\":\n",
    "        dx /= 1000.0\n",
    "    return xr.apply_ufunc(\n",
    "        cumulative_trapezoid,\n",
    "        da,\n",
    "        input_core_dims=[[dim]],\n",
    "        output_core_dims=[[dim]],\n",
    "        dask=\"parallelized\",\n",
    "        kwargs=dict(axis=da.get_axis_num(dim), initial=initial, dx=dx),\n",
    "        dask_gufunc_kwargs=dict(allow_rechunk=True),\n",
    "    )"
   ]
  },
  {
   "cell_type": "code",
   "execution_count": null,
   "metadata": {},
   "outputs": [],
   "source": [
    "iza_x = 0.46 * bx * za_zero.pipe(cumulative_trapezoid_xarray, \"range\", initial=0)\n",
    "iza = iza_x.max(\"range\") - iza_x"
   ]
  },
  {
   "cell_type": "markdown",
   "metadata": {},
   "source": [
    "#### Calculating Attenuation $A_{H}$ for whole domain\n",
    "\n",
    "$$A_{H}(r) = \\frac{\\left [Z_a(r) \\right ]^b \\cdot f(\\Delta \\phi_{DP})}{0.46b \\int_{r1}^{r2} \\left [Z_a(s) \\right ]^b ds + f(\\Delta \\phi_{DP}) \\cdot 0.46b \\int_{r}^{r2} \\left [Z_a(s) \\right ]^b ds}$$"
   ]
  },
  {
   "cell_type": "markdown",
   "metadata": {},
   "source": [
    "We can reduce the number of operations by rearranging the equation like this:\n",
    "\n",
    "$$A_{H}(r) = \\frac{\\left [Z_a(r) \\right ]^b}{\\frac{0.46b \\int_{r1}^{r2} \\left [Z_a(s) \\right ]^b ds}{f(\\Delta \\phi_{DP})} + 0.46b \\int_{r}^{r2} \\left [Z_a(s) \\right ]^b ds}$$"
   ]
  },
  {
   "cell_type": "code",
   "execution_count": null,
   "metadata": {},
   "outputs": [],
   "source": [
    "iza_fdphi = iza / fdphi\n",
    "idx = cphase.first_idx.astype(int)\n",
    "iza_first = iza_fdphi[:, idx]\n",
    "ah = za / (iza_first + iza)"
   ]
  },
  {
   "cell_type": "markdown",
   "metadata": {},
   "source": [
    "Give it a name!"
   ]
  },
  {
   "cell_type": "code",
   "execution_count": null,
   "metadata": {},
   "outputs": [],
   "source": [
    "ah.name = \"AH\"\n",
    "ah.attrs[\"short_name\"] = \"specific_attenuation_h\"\n",
    "ah.attrs[\"long_name\"] = \"Specific attenuation H\"\n",
    "ah.attrs[\"units\"] = \"dB/km\""
   ]
  },
  {
   "cell_type": "code",
   "execution_count": null,
   "metadata": {},
   "outputs": [],
   "source": [
    "fig = plt.figure(figsize=(10, 8))\n",
    "ax = fig.add_subplot(111)\n",
    "ticks_ah = np.arange(0, 5, 0.2)\n",
    "im = ah.plot(x=\"x\", y=\"y\", ax=ax, cmap=\"turbo\", levels=np.arange(0, 0.5, 0.025))"
   ]
  },
  {
   "cell_type": "markdown",
   "metadata": {},
   "source": [
    "#### Calculate $\\phi_{DP}^{cal}(r, \\alpha)$ for whole domain\n",
    "\n",
    "$$\\phi_{DP}^{cal}(r_i, \\alpha) = 2 \\cdot \\int_{r1}^{r2} \\frac{A_H(s; \\alpha)}{\\alpha}ds$$"
   ]
  },
  {
   "cell_type": "code",
   "execution_count": null,
   "metadata": {},
   "outputs": [],
   "source": [
    "phical = 2 * (ah / alphax).pipe(cumulative_trapezoid_xarray, \"range\", initial=0)\n",
    "phical.name = \"PHICAL\"\n",
    "phical.attrs = wrl.io.xarray.moments_mapping[\"PHIDP\"]"
   ]
  },
  {
   "cell_type": "code",
   "execution_count": null,
   "metadata": {},
   "outputs": [],
   "source": [
    "phical.where(swp_msk.PHIDP).plot(x=\"x\", y=\"y\", vmin=0, vmax=50, cmap=\"turbo\")"
   ]
  },
  {
   "cell_type": "markdown",
   "metadata": {},
   "source": [
    "#### Apply attenuation correction \n"
   ]
  },
  {
   "cell_type": "code",
   "execution_count": null,
   "metadata": {},
   "outputs": [],
   "source": [
    "print(alphax)"
   ]
  },
  {
   "cell_type": "code",
   "execution_count": null,
   "metadata": {},
   "outputs": [],
   "source": [
    "zhraw = swp.DBZH.copy()\n",
    "zdrraw = swp.ZDR.copy()"
   ]
  },
  {
   "cell_type": "code",
   "execution_count": null,
   "metadata": {},
   "outputs": [],
   "source": [
    "with xr.set_options(keep_attrs=True):\n",
    "    zhcorr = zhraw + alphax * (phical)\n",
    "    zdiff = zhcorr - zhraw\n",
    "    zdrcorr = zdrraw + betax * (phical)\n",
    "    zdrdiff = zdrcorr - zdrraw"
   ]
  },
  {
   "cell_type": "code",
   "execution_count": null,
   "metadata": {},
   "outputs": [],
   "source": [
    "fig, ((ax1, ax2), (ax3, ax4)) = plt.subplots(\n",
    "    nrows=2,\n",
    "    ncols=2,\n",
    "    figsize=(15, 12),\n",
    "    sharex=True,\n",
    "    sharey=True,\n",
    "    squeeze=True,\n",
    "    constrained_layout=True,\n",
    ")\n",
    "\n",
    "scantime = zhraw.time.values.astype(\"<M8[s]\")\n",
    "t = fig.suptitle(scantime, fontsize=14)\n",
    "t.set_y(1.05)\n",
    "\n",
    "zhraw.plot(x=\"x\", y=\"y\", ax=ax1, cmap=\"turbo\", levels=np.arange(0, 40, 2))\n",
    "ax1.set_title(r\"Uncorrected $Z_{H}$\", fontsize=16)\n",
    "zhcorr.plot(x=\"x\", y=\"y\", ax=ax2, cmap=\"turbo\", levels=np.arange(0, 40, 2))\n",
    "ax2.set_title(r\"Corrected $Z_{H}$\", fontsize=16)\n",
    "\n",
    "zdrraw.plot(x=\"x\", y=\"y\", ax=ax3, cmap=\"turbo\", levels=np.arange(-0.5, 3, 0.1))\n",
    "ax3.set_title(r\"Uncorrected $Z_{DR}$\", fontsize=16)\n",
    "zdrcorr.plot(x=\"x\", y=\"y\", ax=ax4, cmap=\"turbo\", levels=np.arange(-0.5, 3, 0.1))\n",
    "ax4.set_title(r\"Corrected $Z_{DR}$\", fontsize=16)"
   ]
  },
  {
   "cell_type": "markdown",
   "metadata": {},
   "source": [
    "## $K_{DP}$ from $A_H$ vs. $K_{DP}$ from $\\phi_{DP}$ \n",
    "\n",
    "- $K_{DP} = \\frac{A_H}{\\alpha}$ \n",
    "- $K_{DP} = \\frac{1}{2}\\frac{\\mathrm{d}\\phi_{DP}}{\\mathrm{d}r}$\n",
    "\n",
    "What are the benefits of $K_{DP}(A_H)$? \n",
    "\n",
    "- no noise artefacts\n",
    "- no $\\delta$\n",
    "- no negative $K_{DP}$\n",
    "- no spatial degradation"
   ]
  },
  {
   "cell_type": "code",
   "execution_count": null,
   "metadata": {},
   "outputs": [],
   "source": [
    "def kdp_from_phidp(da, winlen, min_periods=2):\n",
    "    \"\"\"Derive KDP from PHIDP (based on convolution filter).\n",
    "\n",
    "    Parameter\n",
    "    ---------\n",
    "    da : xarray.DataArray\n",
    "        array with differential phase data\n",
    "    winlen : int\n",
    "        size of window in range dimension\n",
    "\n",
    "    Keyword Arguments\n",
    "    -----------------\n",
    "    min_periods : int\n",
    "        minimum number of valid bins\n",
    "\n",
    "    Return\n",
    "    ------\n",
    "    kdp : xarray.DataArray\n",
    "        DataArray with specific differential phase values\n",
    "    \"\"\"\n",
    "    dr = da.range.diff(\"range\").median(\"range\").values / 1000.0\n",
    "    print(\"range res [km]:\", dr)\n",
    "    print(\"processing window [km]:\", dr * winlen)\n",
    "    return xr.apply_ufunc(\n",
    "        wrl.dp.kdp_from_phidp,\n",
    "        da,\n",
    "        input_core_dims=[[\"range\"]],\n",
    "        output_core_dims=[[\"range\"]],\n",
    "        dask=\"parallelized\",\n",
    "        kwargs=dict(winlen=winlen, dr=dr, min_periods=min_periods),\n",
    "        dask_gufunc_kwargs=dict(allow_rechunk=True),\n",
    "    )\n",
    "\n",
    "\n",
    "def kdp_phidp_vulpiani(da, winlen, min_periods=2):\n",
    "    \"\"\"Derive KDP from PHIDP (based on Vulpiani).\n",
    "\n",
    "    ParameterRHOHV_NC\n",
    "    ---------\n",
    "    da : xarray.DataArray\n",
    "        array with differential phase data\n",
    "    winlen : int\n",
    "        size of window in range dimension\n",
    "\n",
    "    Keyword Arguments\n",
    "    -----------------\n",
    "    min_periods : int\n",
    "        minimum number of valid bins\n",
    "\n",
    "    Return\n",
    "    ------\n",
    "    kdp : xarray.DataArray\n",
    "        DataArray with specific differential phase values\n",
    "    \"\"\"\n",
    "    dr = da.range.diff(\"range\").median(\"range\").values / 1000.0\n",
    "    print(\"range res [km]:\", dr)\n",
    "    print(\"processing window [km]:\", dr * winlen)\n",
    "    return xr.apply_ufunc(\n",
    "        wrl.dp.process_raw_phidp_vulpiani,\n",
    "        da,\n",
    "        input_core_dims=[[\"range\"]],\n",
    "        output_core_dims=[[\"range\"], [\"range\"]],\n",
    "        dask=\"parallelized\",\n",
    "        kwargs=dict(winlen=winlen, dr=dr, min_periods=min_periods),\n",
    "        dask_gufunc_kwargs=dict(allow_rechunk=True),\n",
    "    )"
   ]
  },
  {
   "cell_type": "code",
   "execution_count": null,
   "metadata": {},
   "outputs": [],
   "source": [
    "%%time\n",
    "kdp1 = kdp_from_phidp(swp_msk.PHIDP, winlen=31, min_periods=11)\n",
    "kdp1.attrs = wrl.io.xarray.moments_mapping[\"KDP\"]\n",
    "\n",
    "kdp2 = kdp_phidp_vulpiani(swp.PHIDP, winlen=71, min_periods=21)[1]\n",
    "kdp2.attrs = wrl.io.xarray.moments_mapping[\"KDP\"]\n",
    "\n",
    "kdp3 = xr.zeros_like(kdp1)\n",
    "kdp3.attrs = wrl.io.xarray.moments_mapping[\"KDP\"]\n",
    "kdp3.data = ah / alphax"
   ]
  },
  {
   "cell_type": "code",
   "execution_count": null,
   "metadata": {},
   "outputs": [],
   "source": [
    "fig, ((ax1, ax2), (ax3, ax4)) = plt.subplots(\n",
    "    nrows=2, ncols=2, figsize=(12, 10), constrained_layout=True\n",
    ")\n",
    "\n",
    "swp.KDP.plot(\n",
    "    x=\"x\",\n",
    "    y=\"y\",\n",
    "    ax=ax1,\n",
    "    cmap=\"turbo\",\n",
    "    levels=np.arange(-0.5, 1, 0.1),\n",
    "    cbar_kwargs=dict(shrink=0.64),\n",
    ")\n",
    "ax1.set_title(r\"$K_{DP}$ - Signalprocessor\", fontsize=16)\n",
    "ax1.set_aspect(\"equal\")\n",
    "kdp1.plot(\n",
    "    x=\"x\",\n",
    "    y=\"y\",\n",
    "    ax=ax2,\n",
    "    cmap=\"turbo\",\n",
    "    levels=np.arange(-0.5, 1, 0.1),\n",
    "    cbar_kwargs=dict(shrink=0.64),\n",
    ")\n",
    "ax2.set_title(r\"$K_{DP}$ - Simple Derivative\", fontsize=16)\n",
    "ax2.set_aspect(\"equal\")\n",
    "kdp2.plot(\n",
    "    x=\"x\",\n",
    "    y=\"y\",\n",
    "    ax=ax3,\n",
    "    cmap=\"turbo\",\n",
    "    levels=np.arange(-0.5, 1, 0.1),\n",
    "    cbar_kwargs=dict(shrink=0.64),\n",
    ")\n",
    "ax3.set_title(r\"$K_{DP}$ - Vulpiani\", fontsize=16)\n",
    "ax3.set_aspect(\"equal\")\n",
    "kdp3.plot(\n",
    "    x=\"x\",\n",
    "    y=\"y\",\n",
    "    ax=ax4,\n",
    "    cmap=\"turbo\",\n",
    "    levels=np.arange(-0.5, 1, 0.1),\n",
    "    cbar_kwargs=dict(shrink=0.64),\n",
    ")\n",
    "ax4.set_title(r\"$K_{DP}$ - spec. Attenuation/ZPHI\", fontsize=16)\n",
    "ax4.set_aspect(\"equal\")"
   ]
  },
  {
   "cell_type": "markdown",
   "metadata": {},
   "source": [
    "---"
   ]
  },
  {
   "cell_type": "markdown",
   "metadata": {},
   "source": [
    "## Summary\n",
    "We've just learned how to derive System Phase Offset and Specific Attenuation AH using the ZPHI-Method. Different KDP derivation methods have been compared.\n",
    "\n",
    "### What's next?\n",
    "In the next notebook we dive into Quasi Vertical Profiles."
   ]
  },
  {
   "cell_type": "markdown",
   "metadata": {},
   "source": [
    "## Resources and references\n",
    "\n",
    "- [xarray](https://docs.xarray.dev)\n",
    "- [dask](https://docs.dask.org/)\n",
    "- [wradlib xarray backends](https://docs.wradlib.org/en/stable/notebooks/fileio/wradlib_xarray_backends.html)\n",
    "- [OPERA ODIM_H5](https://www.eumetnet.eu/activities/observations-programme/current-activities/opera/)\n",
    "- [WMO JET-OWR](https://community.wmo.int/governance/commission-membership/commission-observation-infrastructure-and-information-systems-infcom/commission-infrastructure-officers/infcom-management-group/standing-committee-measurements-instrumentation-and-traceability-sc-mint/joint-expert-team)\n",
    "- Testud, J., Le Bouar, E., Obligis, E., & Ali-Mehenni, M. (2000). The Rain Profiling Algorithm Applied to Polarimetric Weather Radar, Journal of Atmospheric and Oceanic Technology, 17(3), 332-356. Retrieved Nov 24, 2021, from https://journals.ametsoc.org/view/journals/atot/17/3/1520-0426_2000_017_0332_trpaat_2_0_co_2.xml\n",
    "- Diederich, M., Ryzhkov, A., Simmer, C., Zhang, P., & Trömel, S. (2015). Use of Specific Attenuation for Rainfall Measurement at X-Band Radar Wavelengths.: Part I: Radar Calibration and Partial Beam Blockage Estimation. Journal of Hydrometeorology, 16(2), 487–502. http://www.jstor.org/stable/24914953"
   ]
  },
  {
   "cell_type": "markdown",
   "metadata": {},
   "source": [
    "### ZPHI-Method\n",
    "\n",
    "see Testud et.al. (chapter 4. p. 339ff.), Diederich et.al. (chapter 3. p. 492 ff).\n",
    "\n",
    "There is a equational difference in the two papers, which can be solved like this:\n",
    "\n",
    "$\\begin{equation}\n",
    "f\\Delta\\phi_{DP} = 10^{0.1 \\cdot b \\cdot \\alpha \\cdot \\Delta\\phi_{DP}} - 1\n",
    "\\tag{1}\n",
    "\\end{equation}$\n",
    "\n",
    "$\\begin{equation}\n",
    "C(b, PIA) = \\exp[{0.23 \\cdot b \\cdot (PIA)}] - 1\n",
    "\\tag{2}\n",
    "\\end{equation}$\n",
    "\n",
    "with \n",
    "\n",
    "$\\begin{equation}\n",
    "PIA = \\alpha \\cdot \\Delta\\phi_{DP}\n",
    "\\tag{3}\n",
    "\\end{equation}$\n",
    "\n",
    "$\\begin{equation}\n",
    "C(b, PIA) = \\exp[{0.23 \\cdot b \\cdot \\alpha \\cdot \\Delta\\phi_{DP}}] - 1\n",
    "\\tag{4}\n",
    "\\end{equation}$\n",
    "\n",
    "Both expressions are used equivalently:\n",
    "\n",
    "$\\begin{equation}\n",
    "10^{0.1 \\cdot b \\cdot \\alpha \\cdot \\Delta\\phi_{DP}} - 1 = \\exp[{0.23 \\cdot b \\cdot \\alpha \\cdot \\Delta\\phi_{DP}}] - 1\n",
    "\\tag{5}\n",
    "\\end{equation}$\n",
    "\n",
    "\n",
    "Using logarithmic identities:\n",
    "\n",
    "$\\begin{equation}\n",
    "\\ln {u^r} = r \\cdot \\ln {u}\n",
    "\\tag{6a}\n",
    "\\end{equation}$\n",
    "\n",
    "$\\begin{equation}\n",
    "\\exp {\\ln x} = x\n",
    "\\tag{6b}\n",
    "\\end{equation}$\n",
    "\n",
    "the left hand side can be further expressed as:\n",
    "\n",
    "$\\begin{equation}\n",
    "\\exp [\\ln {10^{0.1 \\cdot b \\cdot \\alpha \\cdot \\Delta\\phi_{DP}}}] - 1 = \\exp[{0.23 \\cdot b \\cdot \\alpha \\cdot \\Delta\\phi_{DP}}] - 1\n",
    "\\tag{7a}\n",
    "\\end{equation}$\n",
    "\n",
    "\n",
    "$\\begin{equation}\n",
    "\\exp[0.1 \\cdot b \\cdot \\alpha \\cdot \\Delta\\phi_{DP} \\cdot \\ln {10}] - 1 = \\exp[{0.23 \\cdot b \\cdot \\alpha \\cdot \\Delta\\phi_{DP}}] - 1\n",
    "\\tag{7b}\n",
    "\\end{equation}$\n",
    "\n",
    "leading to equality\n",
    "\n",
    "$\\begin{equation}\n",
    "\\exp[0.23 \\cdot b \\cdot \\alpha \\cdot \\Delta\\phi_{DP}] - 1 = \\exp[{0.23 \\cdot b \\cdot \\alpha \\cdot \\Delta\\phi_{DP}}] - 1\n",
    "\\tag{7c}\n",
    "\\end{equation}$"
   ]
  }
 ],
 "metadata": {
  "celltoolbar": "Slideshow",
  "language_info": {
   "codemirror_mode": {
    "name": "ipython",
    "version": 3
   },
   "file_extension": ".py",
   "mimetype": "text/x-python",
   "name": "python",
   "nbconvert_exporter": "python",
   "pygments_lexer": "ipython3",
   "version": "3.9.13"
  }
 },
 "nbformat": 4,
 "nbformat_minor": 4
}
