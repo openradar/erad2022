{
 "cells": [
  {
   "cell_type": "markdown",
   "metadata": {
    "tags": []
   },
   "source": [
    "# In this notebook, an ODIM_H5 file is read using BALTRAD.  Then the rain rate is determined from the calculated specific attenuation using Py-ART.\n",
    "## This is a severe flooding case from July 8, 2013 in Toronto, Canada, with radar data from the King City, Ontario, radar."
   ]
  },
  {
   "cell_type": "code",
   "execution_count": null,
   "metadata": {},
   "outputs": [],
   "source": [
    "%matplotlib inline"
   ]
  },
  {
   "cell_type": "markdown",
   "metadata": {},
   "source": [
    "Import the necessary modules."
   ]
  },
  {
   "cell_type": "code",
   "execution_count": null,
   "metadata": {},
   "outputs": [],
   "source": [
    "import numpy as np\n",
    "import pyart\n",
    "import baltrad_pyart_bridge as bridge  # routines to pass data from Py-ART and BALTRAD\n",
    "import _raveio   # BALTRAD's input/output module"
   ]
  },
  {
   "cell_type": "markdown",
   "metadata": {},
   "source": [
    "Read in the data using RAVE (a component of BALTRAD)"
   ]
  },
  {
   "cell_type": "markdown",
   "metadata": {},
   "source": [
    "# Rain rate retrieval using specific attenuation using BALTRAD and Py-ART"
   ]
  },
  {
   "cell_type": "code",
   "execution_count": null,
   "metadata": {},
   "outputs": [],
   "source": [
    "rio = _raveio.open('data/WKR_201307082030.h5')"
   ]
  },
  {
   "cell_type": "markdown",
   "metadata": {},
   "source": [
    "Convert the data to a Py-ART Radar object."
   ]
  },
  {
   "cell_type": "code",
   "execution_count": null,
   "metadata": {},
   "outputs": [],
   "source": [
    "radar = bridge.raveio2radar(rio)"
   ]
  },
  {
   "cell_type": "markdown",
   "metadata": {},
   "source": [
    "Examine some of the radar moments."
   ]
  },
  {
   "cell_type": "code",
   "execution_count": null,
   "metadata": {},
   "outputs": [],
   "source": [
    "display = pyart.graph.RadarDisplay(radar)"
   ]
  },
  {
   "cell_type": "code",
   "execution_count": null,
   "metadata": {},
   "outputs": [],
   "source": [
    "display.plot_ppi('DBZH', 0, vmin=-15, vmax=60)\n",
    "display.plot_range_rings([50, 100, 150])"
   ]
  },
  {
   "cell_type": "code",
   "execution_count": null,
   "metadata": {},
   "outputs": [],
   "source": [
    "display.plot_ppi('PHIDP', 0, vmin=0, vmax=180)\n",
    "display.plot_range_rings([50, 100, 150])"
   ]
  },
  {
   "cell_type": "code",
   "execution_count": null,
   "metadata": {},
   "outputs": [],
   "source": [
    "display.plot_ppi('RHOHV', 0, vmin=0, vmax=1.0, mask_outside=False)\n",
    "display.plot_range_rings([50, 100, 150])"
   ]
  },
  {
   "cell_type": "code",
   "execution_count": null,
   "metadata": {},
   "outputs": [],
   "source": [
    "display.plot_ppi('SQIH', 0, vmin=0, vmax=1, mask_outside=False)\n",
    "display.plot_range_rings([50, 100, 150])"
   ]
  },
  {
   "cell_type": "markdown",
   "metadata": {},
   "source": [
    "Calculate the specific attenuation and attenuation corrected reflectivity using Py-ART, add these field to the radar object."
   ]
  },
  {
   "cell_type": "code",
   "execution_count": null,
   "metadata": {},
   "outputs": [],
   "source": [
    "spec_at, cor_z = pyart.correct.calculate_attenuation(\n",
    "    radar, 0, doc=0, refl_field='DBZH', ncp_field='SQIH', \n",
    "    rhv_field='RHOHV', phidp_field='PHIDP', \n",
    "    fzl=8000,)\n",
    "# use the parameter below for a more 'cleanup up' attenuation field\n",
    "#ncp_min=-1, rhv_min=-1)"
   ]
  },
  {
   "cell_type": "code",
   "execution_count": null,
   "metadata": {},
   "outputs": [],
   "source": [
    "radar.add_field('specific_attenuation', spec_at)\n",
    "radar.add_field('corrected_reflectivity', cor_z)"
   ]
  },
  {
   "cell_type": "markdown",
   "metadata": {},
   "source": [
    "Examine these two new fields."
   ]
  },
  {
   "cell_type": "code",
   "execution_count": null,
   "metadata": {},
   "outputs": [],
   "source": [
    "display.plot_ppi('specific_attenuation', 0, vmin=0, vmax=0.1)\n",
    "display.plot_range_rings([50, 100, 150])"
   ]
  },
  {
   "cell_type": "code",
   "execution_count": null,
   "metadata": {},
   "outputs": [],
   "source": [
    "display.plot_ppi('corrected_reflectivity', 0, vmin=-15, vmax=60)\n",
    "display.plot_range_rings([50, 100, 150])"
   ]
  },
  {
   "cell_type": "markdown",
   "metadata": {},
   "source": [
    "Calculate the rain rate from the specific attenuation using a power law determined from the ARM Southern Great Plains site.  Mask values where the attenuation is not valid (when the cross correlation ratio or signal quality is low). Add this field to the radar object."
   ]
  },
  {
   "cell_type": "code",
   "execution_count": null,
   "metadata": {},
   "outputs": [],
   "source": [
    "R = 300.0 * (radar.fields['specific_attenuation']['data']) ** 0.89\n",
    "rain_rate_dic = pyart.config.get_metadata('rain_rate')\n",
    "rain_rate_dic['units'] = 'mm/hr'\n",
    "rate_not_valid = np.logical_or(\n",
    "    (radar.fields['SQIH']['data'] < 0.4),\n",
    "    (radar.fields['RHOHV']['data'] < 0.8))\n",
    "rain_rate_dic['data'] = np.ma.masked_where(rate_not_valid, R)\n",
    "# fill the missing values with 0 for a nicer plot\n",
    "rain_rate_dic['data'] = np.ma.filled(rain_rate_dic['data'], 0)"
   ]
  },
  {
   "cell_type": "code",
   "execution_count": null,
   "metadata": {},
   "outputs": [],
   "source": [
    "radar.add_field('RATE', rain_rate_dic)"
   ]
  },
  {
   "cell_type": "markdown",
   "metadata": {},
   "source": [
    "Examine the rain rate"
   ]
  },
  {
   "cell_type": "code",
   "execution_count": null,
   "metadata": {},
   "outputs": [],
   "source": [
    "display.plot_ppi('RATE', 0, vmin=0, vmax=50.0)"
   ]
  },
  {
   "cell_type": "markdown",
   "metadata": {},
   "source": [
    "Create a new RaveIO object from the Py-ART radar object and write this out using Rave"
   ]
  },
  {
   "cell_type": "code",
   "execution_count": null,
   "metadata": {},
   "outputs": [],
   "source": [
    "rio_out = bridge.radar2raveio(radar)"
   ]
  },
  {
   "cell_type": "code",
   "execution_count": null,
   "metadata": {},
   "outputs": [],
   "source": [
    "container = _raveio.new()\n",
    "container.object = rio_out.object\n",
    "container.save(\"data/WKR_201307082030_with_rain_rate.h5\")\n",
    "\n",
    "import os\n",
    "print(\"ODIM_H5 file is %i bytes large\" % os.path.getsize(\"data/WKR_201307082030_with_rain_rate.h5\"))"
   ]
  },
  {
   "cell_type": "markdown",
   "metadata": {},
   "source": [
    "## Publish a time series of Cartesian products of corrected reflectivity to BALTRAD's GoogleMapsPlugin"
   ]
  },
  {
   "cell_type": "markdown",
   "metadata": {},
   "source": [
    "### Using your Browser, preferably anything except Microsoft Internet Explorer, view a pre-loaded product:  http://localhost:8080  Use the small Calendar icon in the control panel to select 2013-07-08 20:30. The dropdown box under the date/time field should read \"King City, ON\"."
   ]
  },
  {
   "cell_type": "markdown",
   "metadata": {},
   "source": [
    "### Fire up the RAVE Product Generation Framework's server. This is normally done on the command line."
   ]
  },
  {
   "cell_type": "code",
   "execution_count": null,
   "metadata": {},
   "outputs": [],
   "source": [
    "import os\n",
    "os.system(\"rave_pgf start\")"
   ]
  },
  {
   "cell_type": "markdown",
   "metadata": {},
   "source": [
    "### Connect to this XML-RPC server and feed it file strings of pre-generated products"
   ]
  },
  {
   "cell_type": "code",
   "execution_count": null,
   "metadata": {},
   "outputs": [],
   "source": [
    "import glob, xmlrpc.client\n",
    "\n",
    "ipath = \"/home/vagrant/pyart2baltrad/data/cawkr\"\n",
    "opath = \"/home/vagrant/miniconda/envs/openradar/rave_gmap/web/data/cawkr_gmaps\"\n",
    "\n",
    "server = xmlrpc.client.ServerProxy(\"http://localhost:8085/RAVE\")\n",
    "\n",
    "fstrs = glob.glob(ipath + \"/*.h5\")\n",
    "\n",
    "for ifstr in fstrs:\n",
    "    # Output file name must only be date/time string with format: YYYYMMDDHHmm.png\n",
    "    dt = os.path.split(ifstr)[1].split('_')[2].split('.')[0]\n",
    "    \n",
    "    ofstr = opath + \"/%s/%s/%s/%s.png\" % (dt[:4], dt[4:6], dt[6:8], dt)\n",
    "    response = server.generate(\"se.smhi.rave.creategmapimage\", [ifstr], [\"outfile\",ofstr])\n",
    "\n",
    "print(\"Generated %i PNG images for Google Maps\" % len(fstrs))"
   ]
  },
  {
   "cell_type": "markdown",
   "metadata": {},
   "source": [
    "### Go back to your browser and load a sequence of images. Stop the PGF server."
   ]
  },
  {
   "cell_type": "code",
   "execution_count": null,
   "metadata": {},
   "outputs": [],
   "source": [
    "os.system(\"rave_pgf stop\")"
   ]
  },
  {
   "cell_type": "code",
   "execution_count": null,
   "metadata": {},
   "outputs": [],
   "source": []
  }
 ],
 "metadata": {
  "language_info": {
   "codemirror_mode": {
    "name": "ipython",
    "version": 3
   },
   "file_extension": ".py",
   "mimetype": "text/x-python",
   "name": "python",
   "nbconvert_exporter": "python",
   "pygments_lexer": "ipython3",
   "version": "3.9.13"
  }
 },
 "nbformat": 4,
 "nbformat_minor": 4
}
