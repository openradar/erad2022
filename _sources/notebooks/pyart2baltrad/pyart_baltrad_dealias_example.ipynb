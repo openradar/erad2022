{
 "cells": [
  {
   "cell_type": "markdown",
   "id": "bd16d32b",
   "metadata": {},
   "source": [
    "# Doppler Velocity Dealiasing with Py-ART and BALTRAD"
   ]
  },
  {
   "cell_type": "markdown",
   "id": "dc068679",
   "metadata": {},
   "source": [
    "In this notebook Doppler Velocity data from the ARM C-band SAPR radar is read using Py-ART and dealiased using BALTRAD."
   ]
  },
  {
   "cell_type": "code",
   "execution_count": null,
   "id": "d82c619a",
   "metadata": {
    "jupyter": {
     "outputs_hidden": false
    }
   },
   "outputs": [],
   "source": [
    "%matplotlib inline"
   ]
  },
  {
   "cell_type": "markdown",
   "id": "4eca08aa",
   "metadata": {},
   "source": [
    "Import the necessary modules"
   ]
  },
  {
   "cell_type": "code",
   "execution_count": null,
   "id": "bbbe57b8",
   "metadata": {
    "jupyter": {
     "outputs_hidden": false
    }
   },
   "outputs": [],
   "source": [
    "import pyart\n",
    "import baltrad_pyart_bridge as bridge  # routines to pass data from Py-ART to BALTRAD\n",
    "import _dealias # BALTRAD's dealiasing module"
   ]
  },
  {
   "cell_type": "markdown",
   "id": "c24af2b3",
   "metadata": {},
   "source": [
    "Read in the data using Py-ART"
   ]
  },
  {
   "cell_type": "code",
   "execution_count": null,
   "id": "53cf768f",
   "metadata": {
    "jupyter": {
     "outputs_hidden": false
    }
   },
   "outputs": [],
   "source": [
    "radar = pyart.io.read('data/sgpcsaprppi_20110520095101.nc')"
   ]
  },
  {
   "cell_type": "markdown",
   "id": "5d2fb0f8",
   "metadata": {},
   "source": [
    "Examine the velocity data using Py-ART Display object."
   ]
  },
  {
   "cell_type": "code",
   "execution_count": null,
   "id": "fe95f4fc",
   "metadata": {
    "jupyter": {
     "outputs_hidden": false
    }
   },
   "outputs": [],
   "source": [
    "display = pyart.graph.RadarDisplay(radar)\n",
    "nyquist_velocity = radar.instrument_parameters['nyquist_velocity']['data'][0]\n",
    "display.plot_ppi('velocity', 1, colorbar_label='m/s', \n",
    "                 vmin=-nyquist_velocity, vmax=nyquist_velocity)"
   ]
  },
  {
   "cell_type": "markdown",
   "id": "e84e72ce",
   "metadata": {},
   "source": [
    "Convert the radar data into a RaveIO object with the velocity data having the correct name."
   ]
  },
  {
   "cell_type": "code",
   "execution_count": null,
   "id": "369e5a3c",
   "metadata": {
    "jupyter": {
     "outputs_hidden": false
    }
   },
   "outputs": [],
   "source": [
    "vel_data = radar.fields['velocity']['data']\n",
    "radar.add_field_like('velocity', 'VRAD', vel_data)\n",
    "rio = bridge.radar2raveio(radar)"
   ]
  },
  {
   "cell_type": "markdown",
   "id": "f17da762",
   "metadata": {},
   "source": [
    "Perform Doppler velocity dealiasing using BALTRAD."
   ]
  },
  {
   "cell_type": "code",
   "execution_count": null,
   "id": "b9a06da4",
   "metadata": {
    "jupyter": {
     "outputs_hidden": false
    }
   },
   "outputs": [],
   "source": [
    "ret = _dealias.dealias(rio.object)\n",
    "print(\"This first scan is dealiased:\"), _dealias.dealiased(rio.object.getScan(0))"
   ]
  },
  {
   "cell_type": "markdown",
   "id": "4aba4854",
   "metadata": {},
   "source": [
    "Add the dealiased velocity field to the origin Py-ART radar object."
   ]
  },
  {
   "cell_type": "code",
   "execution_count": null,
   "id": "8db0929f",
   "metadata": {
    "jupyter": {
     "outputs_hidden": false
    }
   },
   "outputs": [],
   "source": [
    "temp = bridge.raveio2radar(rio)\n",
    "if 'dealiased_velocity' in radar.fields:\n",
    "    radar.fields.pop('dealiased_velocity')\n",
    "radar.add_field_like('velocity', 'dealiased_velocity', temp.fields['VRAD']['data'])"
   ]
  },
  {
   "cell_type": "markdown",
   "id": "10c736d4",
   "metadata": {},
   "source": [
    "Plot the dealiased velocities."
   ]
  },
  {
   "cell_type": "code",
   "execution_count": null,
   "id": "ec7b5464",
   "metadata": {
    "jupyter": {
     "outputs_hidden": false
    }
   },
   "outputs": [],
   "source": [
    "display.plot_ppi('dealiased_velocity', 1, colorbar_label='m/s', \n",
    "                 vmin=-2*nyquist_velocity, vmax=2*nyquist_velocity)"
   ]
  }
 ],
 "metadata": {
  "language_info": {
   "codemirror_mode": {
    "name": "ipython",
    "version": 3
   },
   "file_extension": ".py",
   "mimetype": "text/x-python",
   "name": "python",
   "nbconvert_exporter": "python",
   "pygments_lexer": "ipython3",
   "version": "3.9.13"
  }
 },
 "nbformat": 4,
 "nbformat_minor": 5
}
