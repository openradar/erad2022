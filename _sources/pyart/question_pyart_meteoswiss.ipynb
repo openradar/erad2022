{
 "cells": [
  {
   "cell_type": "markdown",
   "id": "c82a3ed3",
   "metadata": {},
   "source": [
    "# Exercice\n",
    "\n",
    "The goal of this exercice is to do a QPE for every sweep and perform a weighted average of precipitation aloft to get an estimation of the precipitation intensity at the ground. The following steps will need to be taken:\n",
    "\n",
    "1. Load all radar files in */data/question_pyart_meteoswiss* and merge them into one single radar object\n",
    "2. Perform attenuation correction of ZH, you can use a constant freezing level height of 2700 m.\n",
    "3. Estimate the QPE with a __[a polynomial Z-R relation](https://arm-doe.github.io/pyart/_modules/pyart/retrieve/qpe.html#est_rain_rate_za)__.\n",
    "4. Compute a CAPPI of the resulting radar estimate rain rate from 500 to 8000 m above the radar  using a vertical resolution of 100 m and a horizontal resolution of 500 m.\n",
    "5. Using numpy, perform a weighted average of all CAPPI levels using the weights \n",
    "\n",
    "<center> $w(z) = exp(-0.5\\cdot z)$, where $z$ is the height above the radar in km. </center>\n",
    "\n",
    "Finally display the resulting QPE on its latitude/longitude grid using *pcolormesh* (matplotlib)."
   ]
  },
  {
   "cell_type": "markdown",
   "id": "38dc0bde",
   "metadata": {},
   "source": [
    "The solution can be found [here](answer_pyart.ipynb)"
   ]
  }
 ],
 "metadata": {
  "kernelspec": {
   "display_name": "Python 3 (ipykernel)",
   "language": "python",
   "name": "python3"
  },
  "language_info": {
   "codemirror_mode": {
    "name": "ipython",
    "version": 3
   },
   "file_extension": ".py",
   "mimetype": "text/x-python",
   "name": "python",
   "nbconvert_exporter": "python",
   "pygments_lexer": "ipython3",
   "version": "3.9.12"
  }
 },
 "nbformat": 4,
 "nbformat_minor": 5
}
