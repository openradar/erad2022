{
 "cells": [
  {
   "cell_type": "markdown",
   "metadata": {},
   "source": [
    "# Interaction of BALTRAD and wradlib via ODIM_H5"
   ]
  },
  {
   "cell_type": "markdown",
   "metadata": {},
   "source": [
    "## Prepare your environment"
   ]
  },
  {
   "cell_type": "code",
   "execution_count": null,
   "metadata": {},
   "outputs": [],
   "source": [
    "%matplotlib inline"
   ]
  },
  {
   "cell_type": "code",
   "execution_count": null,
   "metadata": {},
   "outputs": [],
   "source": [
    "import numpy as np\n",
    "import matplotlib.pyplot as plt\n",
    "import wradlib\n",
    "import gc"
   ]
  },
  {
   "cell_type": "markdown",
   "metadata": {},
   "source": [
    "## Run BALTRAD's odc_toolbox"
   ]
  },
  {
   "cell_type": "markdown",
   "metadata": {},
   "source": [
    "First, you will process a scan from Suergavere (Estland) by using BALTRAD's odc_toolbox.\n",
    "\n",
    "From your VM's vagrant directory, navigate to the folder ``/baltrad2wradlib``.\n",
    "\n",
    "Execute the following command:\n",
    "\n",
    "``$ odc_toolbox -i in -o out -q ropo,radvol-att``\n",
    "\n",
    "Check whether a file was created in the folder ``/out``.\n",
    "\n",
    "**BALTRAD will not create output files if these already exist.** You can check that via ``!ls out``."
   ]
  },
  {
   "cell_type": "code",
   "execution_count": null,
   "metadata": {},
   "outputs": [],
   "source": [
    "!odc_toolbox -i in -o out -q ropo,radvol-att"
   ]
  },
  {
   "cell_type": "code",
   "execution_count": null,
   "metadata": {},
   "outputs": [],
   "source": [
    "!ls out"
   ]
  },
  {
   "cell_type": "code",
   "execution_count": null,
   "metadata": {},
   "outputs": [],
   "source": [
    "#!ncdump -h out/201405190715_SUR.h5"
   ]
  },
  {
   "cell_type": "markdown",
   "metadata": {},
   "source": [
    "## Read and inspect data from Suergavere (Estonia) before and after QC with odc_toolbox"
   ]
  },
  {
   "cell_type": "code",
   "execution_count": null,
   "metadata": {},
   "outputs": [],
   "source": [
    "inp = wradlib.io.open_odim_dataset(\"in/201405190715_SUR.h5\", decode_cf=False)\n",
    "out = wradlib.io.open_odim_dataset(\"out/201405190715_SUR.h5\", decode_cf=False)"
   ]
  },
  {
   "cell_type": "markdown",
   "metadata": {},
   "source": [
    "### fix some ODIM_H5 inconsistencies"
   ]
  },
  {
   "cell_type": "code",
   "execution_count": null,
   "metadata": {},
   "outputs": [],
   "source": [
    "swp_in = inp[0]\n",
    "for name, ds in swp_in.data_vars.items():\n",
    "    if name not in [\"rtime\",\"time\", \"sweep_mode\", \"longitude\", \"latitude\", \"altitude\"]:\n",
    "        if ds.dtype == \"int16\":\n",
    "            swp_in[name] = ds.astype(\"uint16\")\n",
    "        if name in [\"ZDR\"]:\n",
    "            swp_in[name].attrs[\"add_offset\"] = -swp_in[name].attrs[\"add_offset\"]\n",
    "import xarray as xr\n",
    "swp_in = xr.decode_cf(swp_in)\n",
    "\n",
    "swp_out = out[0]\n",
    "for name, ds in swp_out.data_vars.items():\n",
    "    if name not in [\"rtime\", \"time\", \"sweep_mode\", \"longitude\", \"latitude\", \"altitude\"]:\n",
    "        if ds.dtype == \"int16\":\n",
    "            swp_out[name] = ds.astype(\"uint16\")\n",
    "swp_out = xr.decode_cf(swp_out)"
   ]
  },
  {
   "cell_type": "markdown",
   "metadata": {},
   "source": [
    "# Georeference and select fields"
   ]
  },
  {
   "cell_type": "code",
   "execution_count": null,
   "metadata": {},
   "outputs": [],
   "source": [
    "proj = wradlib.georef.epsg_to_osr(4326)\n",
    "swp_in = swp_in.pipe(wradlib.georef.georeference_dataset, proj=proj)\n",
    "# fix range in out file, since it's terribly broken\n",
    "swp_out = swp_out.assign({\"range\": swp_in.range}).pipe(wradlib.georef.georeference_dataset, proj=proj)\n",
    "\n",
    "before = swp_in.DBZH\n",
    "after = swp_out.DBZH\n",
    "qual1 = swp_out.quality1\n",
    "qual2 = swp_out.QIND"
   ]
  },
  {
   "cell_type": "markdown",
   "metadata": {},
   "source": [
    "## Design a plot we will use for all PPIs in this exercise"
   ]
  },
  {
   "cell_type": "code",
   "execution_count": null,
   "metadata": {},
   "outputs": [],
   "source": [
    "shpfile = \"shp/europe_countries.shp\"\n",
    "sf = wradlib.io.VectorSource(shpfile, name=\"src\")\n",
    "\n",
    "# A little helper funciton to harmonize all plots\n",
    "def plot_ppi_to_ax(ppi, ax, title=\"\", cb=True, cb_label=\"\", cb_shrink=1., bbox=None, extend=\"min\", **kwargs):\n",
    "    \"\"\"This is the function that we use in this exercise to plot PPIs with uniform georeferencing and style.\n",
    "    \"\"\"\n",
    "    # Read, project and plot country shapefile as background\n",
    "    sf.geo.plot(ax=ax, facecolor=\"lightgrey\", edgecolor=\"k\", linewidths=1, zorder=-1)\n",
    "\n",
    "    # plot data and range rings\n",
    "    pm = ppi.plot(x=\"x\", y=\"y\", center=False, add_colorbar=False, **kwargs)\n",
    "    site = (ppi.longitude.values, ppi.latitude.values, ppi.altitude.values)\n",
    "    wradlib.vis.plot_ppi_crosshair(site=site, \n",
    "                                   ranges=[50000, 100000,150000, 200000, ppi.range.max().values], \n",
    "                                   angles=[0, 90, 180, 270], \n",
    "                                   proj=proj, \n",
    "                                   elev=ppi.elevation.median().values, \n",
    "                                   ax=ax)\n",
    "    \n",
    "    if bbox is None:\n",
    "        xmin = ppi.x.min().values\n",
    "        ymin = ppi.y.min().values\n",
    "        xmax = ppi.x.max().values\n",
    "        ymax = ppi.y.max().values\n",
    "    else:\n",
    "        xmin = bbox[0]\n",
    "        ymin = bbox[1]\n",
    "        xmax = bbox[2]\n",
    "        ymax = bbox[3]\n",
    "    \n",
    "    # bounding box and aspect\n",
    "    ax.set_xlim(xmin, xmax)\n",
    "    ax.set_ylim(ymin, ymax)\n",
    "    xdiff = xmax - xmin\n",
    "    ydiff = ymax - ymin\n",
    "    ax.set_aspect(xdiff/ydiff)\n",
    "    \n",
    "    # set title\n",
    "    plt.title(title)\n",
    "    # set axes lables\n",
    "    plt.xlabel(\"Longitude\", fontsize=\"large\")\n",
    "    plt.ylabel(\"Latitude\", fontsize=\"large\")\n",
    "    # plot colorbar   \n",
    "    if cb:\n",
    "        cbar = plt.colorbar(pm, shrink=cb_shrink, orientation=\"horizontal\", extend=extend, pad=0.1)\n",
    "        cbar.set_label(cb_label, fontsize=\"large\")\n",
    "    \n",
    "    gc.collect()\n",
    "    \n",
    "    return ax, pm\n",
    "    "
   ]
  },
  {
   "cell_type": "markdown",
   "metadata": {},
   "source": [
    "## Plot the selected fields into one figure"
   ]
  },
  {
   "cell_type": "code",
   "execution_count": null,
   "metadata": {},
   "outputs": [],
   "source": [
    "fig = plt.figure(figsize=(12,10))\n",
    "\n",
    "ax = plt.subplot(221, aspect=\"equal\")\n",
    "ax, pm = plot_ppi_to_ax(before.where(before>-10), ax=ax, title=\"Before QC\", cb=False, vmin=-10, vmax=65)\n",
    "\n",
    "ax = plt.subplot(222, aspect=\"equal\")\n",
    "ax, pm = plot_ppi_to_ax(after.where(after>-10),  ax=ax, title=\"After QC\",  cb=False, vmin=-10, vmax=65)\n",
    "\n",
    "ax = plt.subplot(223, aspect=\"equal\")\n",
    "ax, qm = plot_ppi_to_ax(qual1,  ax=ax, title=\"Quality 1\", cb=False)\n",
    "\n",
    "ax = plt.subplot(224, aspect=\"equal\")\n",
    "ax, qm = plot_ppi_to_ax(qual2,  ax=ax, title=\"Quality 2\", cb=False)\n",
    "\n",
    "plt.tight_layout()\n",
    "\n",
    "# Add colorbars\n",
    "fig.subplots_adjust(right=0.9)\n",
    "cax = fig.add_axes((0.9, 0.6, 0.03, 0.3))\n",
    "cbar = plt.colorbar(pm, cax=cax)\n",
    "cbar.set_label(\"Horizontal reflectivity (dBZ)\", fontsize=\"large\")\n",
    "\n",
    "cax = fig.add_axes((0.9, 0.1, 0.03, 0.3))\n",
    "cbar = plt.colorbar(qm, cax=cax)\n",
    "cbar.set_label(\"Quality index\", fontsize=\"large\")"
   ]
  },
  {
   "cell_type": "markdown",
   "metadata": {},
   "source": [
    "## Plot the polarimetric moments from the original ODIM_H5 dataset"
   ]
  },
  {
   "cell_type": "code",
   "execution_count": null,
   "metadata": {},
   "outputs": [],
   "source": [
    "fig = plt.figure(figsize=(12,12))\n",
    "\n",
    "ax = plt.subplot(221, aspect=\"equal\")\n",
    "ax, pm = plot_ppi_to_ax(swp_in.RHOHV.where(swp_in.RHOHV>0), ax=ax, title=\"RhoHV\", cb_label=\"(-)\", cb_shrink=0.6, extend=\"neither\")\n",
    "\n",
    "ax = plt.subplot(222, aspect=\"equal\")\n",
    "ax, pm = plot_ppi_to_ax(swp_in.PHIDP.where(swp_in.PHIDP > 0), ax=ax, title=\"PhiDP\", cb_label=\"degree\", cb_shrink=0.6, extend=\"neither\")\n",
    "\n",
    "ax = plt.subplot(223, aspect=\"equal\")\n",
    "ax, pm = plot_ppi_to_ax(swp_in.ZDR.where(swp_in.ZDR > -8), ax=ax, title=\"Differential reflectivity\", cb_label=\"dB\", cb_shrink=0.6, extend=\"neither\")\n",
    "\n",
    "ax = plt.subplot(224, aspect=\"equal\")\n",
    "ax, pm = plot_ppi_to_ax(swp_in.VRAD.where(swp_in.VRAD > -8), ax=ax, title=\"Doppler velocity\", cb_label=\"m/s\", cb_shrink=0.6, extend=\"neither\")\n",
    "\n",
    "plt.tight_layout()"
   ]
  },
  {
   "cell_type": "markdown",
   "metadata": {},
   "source": [
    "## Try some filtering and attenuation correction"
   ]
  },
  {
   "cell_type": "code",
   "execution_count": null,
   "metadata": {},
   "outputs": [],
   "source": [
    "# Set ZH to a very low value where we do not expect valid data\n",
    "zh_filtered = np.where(np.isnan(before), -32., before)\n",
    "pia = wradlib.atten.correct_attenuation_constrained(before.fillna(-32).values,\n",
    "                                                  constraints=[wradlib.atten.constraint_dbz,\n",
    "                                                               wradlib.atten.constraint_pia],\n",
    "                                                  constraint_args=[[64.0],\n",
    "                                                                   [20.0]])\n",
    "# Correct reflectivity by PIA\n",
    "after2 = before + pia\n",
    "# Mask out non-meteorological echoes\n",
    "after2 = after2.where(before)"
   ]
  },
  {
   "cell_type": "markdown",
   "metadata": {},
   "source": [
    "## Compare results against QC from odc_toolbox"
   ]
  },
  {
   "cell_type": "code",
   "execution_count": null,
   "metadata": {},
   "outputs": [],
   "source": [
    "fig = plt.figure(figsize=(18,10))\n",
    "bbox = [21.25, 57.5, 24, 59.5]\n",
    "shrink = 0.8\n",
    "\n",
    "ax = plt.subplot(131, aspect=\"equal\")\n",
    "ax, pm = plot_ppi_to_ax(before.where(before > -32), ax=ax, title=\"Before QC\", cb_label=\"Horizontal reflectivity (dBZ)\", \n",
    "                        cb_shrink=shrink, bbox=bbox, vmin=0, vmax=65)\n",
    "\n",
    "\n",
    "ax = plt.subplot(132, aspect=\"equal\")\n",
    "ax, pm = plot_ppi_to_ax(after.where(before > -32),  ax=ax, title=\"After QC using BALTRAD Toolbox\", cb_label=\"Horizontal reflectivity (dBZ)\", \n",
    "                        cb_shrink=shrink, bbox=bbox, vmin=0, vmax=65)\n",
    "\n",
    "\n",
    "ax = plt.subplot(133, aspect=\"equal\")\n",
    "ax, pm = plot_ppi_to_ax(after2.where(before > -32), ax=ax, title=\"After QC using wradlib\", cb_label=\"Horizontal reflectivity (dBZ)\", \n",
    "                        cb_shrink=shrink, bbox=bbox, vmin=0, vmax=65)"
   ]
  },
  {
   "cell_type": "markdown",
   "metadata": {},
   "source": [
    "## Difference Plot"
   ]
  },
  {
   "cell_type": "code",
   "execution_count": null,
   "metadata": {},
   "outputs": [],
   "source": [
    "fig = plt.figure(figsize=(12,10))\n",
    "bbox = [21.25, 57.5, 24, 59.5]\n",
    "shrink = 0.8\n",
    "ax = plt.subplot(111, aspect=\"equal\")\n",
    "ax, pm = plot_ppi_to_ax((after2-after).where(before > -32), ax=ax, title=\"QC Wradlib - QC Baltrad\", cb_label=\"Reflectivity Difference\", \n",
    "                        cb_shrink=shrink, bbox=bbox, vmin=-20, vmax=20, cmap=\"RdBu\")"
   ]
  }
 ],
 "metadata": {
  "language_info": {
   "codemirror_mode": {
    "name": "ipython",
    "version": 3
   },
   "file_extension": ".py",
   "mimetype": "text/x-python",
   "name": "python",
   "nbconvert_exporter": "python",
   "pygments_lexer": "ipython3",
   "version": "3.9.13"
  }
 },
 "nbformat": 4,
 "nbformat_minor": 4
}
