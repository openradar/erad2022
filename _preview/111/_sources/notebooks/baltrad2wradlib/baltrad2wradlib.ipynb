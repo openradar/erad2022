{
 "cells": [
  {
   "cell_type": "markdown",
   "metadata": {},
   "source": [
    "# Interaction of BALTRAD and wradlib via ODIM_H5"
   ]
  },
  {
   "cell_type": "markdown",
   "metadata": {},
   "source": [
    "## Prepare your environment"
   ]
  },
  {
   "cell_type": "code",
   "execution_count": null,
   "metadata": {},
   "outputs": [],
   "source": [
    "%matplotlib inline"
   ]
  },
  {
   "cell_type": "code",
   "execution_count": null,
   "metadata": {},
   "outputs": [],
   "source": [
    "import numpy as np\n",
    "import matplotlib.pyplot as plt\n",
    "from matplotlib.patches import Polygon\n",
    "from matplotlib.collections import PatchCollection\n",
    "import matplotlib.ticker as mticker\n",
    "import wradlib\n",
    "import shapefile\n",
    "import gc"
   ]
  },
  {
   "cell_type": "markdown",
   "metadata": {},
   "source": [
    "## Run BALTRAD's odc_toolbox"
   ]
  },
  {
   "cell_type": "markdown",
   "metadata": {},
   "source": [
    "First, you will process a scan from Suergavere (Estland) by using BALTRAD's odc_toolbox.\n",
    "\n",
    "From your VM's vagrant directory, navigate to the folder ``/baltrad2wradlib``.\n",
    "\n",
    "Execute the following command:\n",
    "\n",
    "``$ odc_toolbox -i in -o out -q ropo,radvol-att``\n",
    "\n",
    "Check whether a file was created in the folder ``/out``.\n",
    "\n",
    "**BALTRAD will not create output files if these already exist.** You can check that via ``!ls out``."
   ]
  },
  {
   "cell_type": "code",
   "execution_count": null,
   "metadata": {},
   "outputs": [],
   "source": [
    "!odc_toolbox -i in -o out -q ropo,radvol-att"
   ]
  },
  {
   "cell_type": "code",
   "execution_count": null,
   "metadata": {},
   "outputs": [],
   "source": [
    "!ls out"
   ]
  },
  {
   "cell_type": "markdown",
   "metadata": {},
   "source": [
    "## Read and inspect data from Suergavere (Estonia) before and after QC with odc_toolbox"
   ]
  },
  {
   "cell_type": "code",
   "execution_count": null,
   "metadata": {},
   "outputs": [],
   "source": [
    "# Before QC\n",
    "inp = wradlib.io.read_opera_hdf5(\"in/201405190715_SUR.h5\")\n",
    "# After QC\n",
    "out = wradlib.io.read_opera_hdf5(\"out/201405190715_SUR.h5\")"
   ]
  },
  {
   "cell_type": "code",
   "execution_count": null,
   "metadata": {},
   "outputs": [],
   "source": [
    "# Here you can inspect whichever directory you want, e.g.\n",
    "print(\"where...\\n\", inp['where'],\"\\n\")\n",
    "print(\"what...\\n\", inp['what'],\"\\n\")\n",
    "print(\"dataset1/data1/what...\\n\", inp['dataset1/data1/what'])"
   ]
  },
  {
   "cell_type": "markdown",
   "metadata": {},
   "source": [
    "## Convert selected fields to target units"
   ]
  },
  {
   "cell_type": "code",
   "execution_count": null,
   "metadata": {},
   "outputs": [],
   "source": [
    "def convert(dset, dir):\n",
    "    \"\"\"Converts ODIM_H5 data representations to values in target unit and masks missing values.\n",
    "    \n",
    "    Parameters\n",
    "    ----------\n",
    "    dset : the hdf5 object returned by wradlib.read_OPERA_hdf5\n",
    "    dir : the corresponding directory tree in dset for which the data should be processed\n",
    "    \n",
    "    \"\"\"\n",
    "    res = dset[dir+\"/data\"].astype(np.uint16)\n",
    "    try:\n",
    "        res = res * dset[dir+\"/what\"][\"gain\"] + dset[dir+\"/what\"][\"offset\"]\n",
    "    except:\n",
    "        pass\n",
    "    try:\n",
    "        res[dset[dir+\"/data\"]==dset[dir+\"/what\"][\"nodata\"]] = np.nan\n",
    "    except:\n",
    "        pass\n",
    "    try:\n",
    "        res[dset[dir+\"/data\"]==dset[dir+\"/what\"][\"undetect\"]] = np.nan\n",
    "    except:\n",
    "        pass    \n",
    "\n",
    "    return res   "
   ]
  },
  {
   "cell_type": "code",
   "execution_count": null,
   "metadata": {},
   "outputs": [],
   "source": [
    "# Extract specific data arrays from ODIM_h5 objects\n",
    "#    dBZH before QC\n",
    "before= convert(inp, \"dataset1/data1\")\n",
    "#    dBZH after QC\n",
    "after = convert(out, \"dataset1/data1\")\n",
    "#    Quality field 1\n",
    "qual1 = convert(out, \"dataset1/quality1\")\n",
    "#    Quality field 2\n",
    "qual2 = convert(out, \"dataset1/quality2\")"
   ]
  },
  {
   "cell_type": "markdown",
   "metadata": {},
   "source": [
    "## Collect all the information required for georeferencing"
   ]
  },
  {
   "cell_type": "code",
   "execution_count": null,
   "metadata": {},
   "outputs": [],
   "source": [
    "# Collect all the georeferencing information we need\n",
    "#   First gate\n",
    "r0 = inp['dataset1/where'][\"rstart\"]*1000.\n",
    "#   Gate length\n",
    "rscale = inp['dataset1/where'][\"rscale\"]\n",
    "#   Number of bins per beam\n",
    "nbins = inp['dataset1/where'][\"nbins\"]\n",
    "#   Maximum range\n",
    "maxr = r0 + (nbins)*rscale\n",
    "# Construct array of range gates\n",
    "r = np.linspace(r0, maxr, nbins)\n",
    "# Construct array of azimuth angles (quick and dirty)\n",
    "az = np.linspace(0, 359, inp['dataset1/where'][\"nrays\"])\n",
    "# Site coordinates (lon,lat)\n",
    "site = (inp[\"where\"][\"lon\"], inp[\"where\"][\"lat\"], inp[\"where\"][\"height\"])\n",
    "# Define a projection (Azimuthal Equidistant)\n",
    "proj = wradlib.georef.create_osr(\"aeqd\", lon_0=site[0], lat_0=site[1])"
   ]
  },
  {
   "cell_type": "markdown",
   "metadata": {},
   "source": [
    "## Design a plot we will use for all PPIs in this exercise"
   ]
  },
  {
   "cell_type": "code",
   "execution_count": null,
   "metadata": {},
   "outputs": [],
   "source": [
    "# A little helper funciton to harmonize all plots\n",
    "def plot_ppi_to_ax(ppi, ax, title=\"\", cb=True, cb_label=\"\", cb_shrink=0.75, bbox=[-maxr, maxr, -maxr, maxr], extend=\"min\", **kwargs):\n",
    "    \"\"\"This is the function that we use in this exercise to plot PPIs with uniform georeferencing and style.\n",
    "    \"\"\"\n",
    "    # Read, project and plot country shapefile as background\n",
    "    # (got that snippet from http://stackoverflow.com/questions/15968762/shapefile-and-matplotlib-plot-polygon-collection-of-shapefile-coordinates)\n",
    "    sf = shapefile.Reader(\"shp/europe_countries.shp\", encoding=\"latin1\")\n",
    "    recs    = sf.records()\n",
    "    shapes  = sf.shapes()\n",
    "    Nshp    = len(shapes)\n",
    "    # Iterate over shapes and create matplotlib Polygons\n",
    "    for nshp in range(Nshp):\n",
    "        ptchs   = []\n",
    "        pts     = np.array(shapes[nshp].points)\n",
    "        pts = wradlib.georef.reproject(pts, projection_target=proj)\n",
    "        prt     = shapes[nshp].parts\n",
    "        par     = list(prt) + [pts.shape[0]]\n",
    "        for pij in range(len(prt)):\n",
    "            ptchs.append(Polygon(pts[par[pij]:par[pij+1]]))\n",
    "        ax.add_collection(PatchCollection(ptchs,facecolor=\"lightgrey\",edgecolor='k', linewidths=1, zorder=-1))\n",
    "\n",
    "\n",
    "    # use wradlib.vis.plot_ppi\n",
    "    ax, pm = wradlib.vis.plot_ppi(np.ma.masked_invalid(ppi), ax=ax, r=r, az=az, site=site, proj=proj, **kwargs)\n",
    "    # and plot a cross hair\n",
    "    ax = wradlib.vis.plot_ppi_crosshair(site=site, ranges=[50000, 100000,150000, 200000, maxr], angles=[0, 90, 180, 270], \n",
    "                                        proj=proj, elev=0.5, ax=ax)\n",
    "    ##plt.text(x=-244000, y=-60000,s=\"250km\", color=\"gray\", rotation=-69)\n",
    "    ##plt.text(x=-192000, y=-60000,s=\"200km\", color=\"gray\", rotation=-67)\n",
    "    ##plt.text(x=-138000, y=-60000,s=\"150km\", color=\"gray\", rotation=-65)\n",
    "    \n",
    "      \n",
    "    # Do our final decorations\n",
    "    plt.xlim(bbox[0], bbox[1])\n",
    "    plt.ylim(bbox[2], bbox[3])\n",
    "    # set title\n",
    "    plt.title(title)\n",
    "    # convert axes unit from meters to kilometers\n",
    "    xticks_loc = ax.get_xticks().tolist()\n",
    "    yticks_loc = ax.get_yticks().tolist()\n",
    "    ax.xaxis.set_major_locator(mticker.FixedLocator(xticks_loc))\n",
    "    ax.yaxis.set_major_locator(mticker.FixedLocator(yticks_loc))\n",
    "    ax.set_xticklabels(['%g' % (0.001*l) for l in ax.get_xticks()])\n",
    "    ax.set_yticklabels(['%g' % (0.001*l) for l in ax.get_yticks()])\n",
    "    # set axes lables\n",
    "    plt.xlabel(\"x coordinates (km)\", fontsize=\"large\")\n",
    "    plt.ylabel(\"y coordinates (km)\", fontsize=\"large\")\n",
    "    # plot colorbar   \n",
    "    if cb:\n",
    "        cbar = plt.colorbar(pm, shrink=cb_shrink, orientation=\"horizontal\", extend=extend, pad=0.1)\n",
    "        cbar.set_label(cb_label, fontsize=\"large\")\n",
    "    \n",
    "    gc.collect()\n",
    "    \n",
    "    return ax, pm\n",
    "    "
   ]
  },
  {
   "cell_type": "markdown",
   "metadata": {},
   "source": [
    "## Plot the selected fields into one figure"
   ]
  },
  {
   "cell_type": "code",
   "execution_count": null,
   "metadata": {},
   "outputs": [],
   "source": [
    "fig = plt.figure(figsize=(12,10))\n",
    "\n",
    "ax = plt.subplot(221, aspect=\"equal\")\n",
    "ax, pm = plot_ppi_to_ax(before, ax=ax, title=\"Before QC\", cb=False, vmin=-10, vmax=65)\n",
    "\n",
    "ax = plt.subplot(222, aspect=\"equal\")\n",
    "ax, pm = plot_ppi_to_ax(after,  ax=ax, title=\"After QC\",  cb=False, vmin=-10, vmax=65)\n",
    "\n",
    "ax = plt.subplot(223, aspect=\"equal\")\n",
    "ax, qm = plot_ppi_to_ax(qual1,  ax=ax, title=\"Quality 1\", cb=False)\n",
    "\n",
    "ax = plt.subplot(224, aspect=\"equal\")\n",
    "ax, qm = plot_ppi_to_ax(qual2,  ax=ax, title=\"Quality 2\", cb=False)\n",
    "\n",
    "plt.tight_layout()\n",
    "\n",
    "# Add colorbars\n",
    "fig.subplots_adjust(right=0.9)\n",
    "cax = fig.add_axes((0.9, 0.6, 0.03, 0.3))\n",
    "cbar = plt.colorbar(pm, cax=cax)\n",
    "cbar.set_label(\"Horizontal reflectivity (dBZ)\", fontsize=\"large\")\n",
    "\n",
    "cax = fig.add_axes((0.9, 0.1, 0.03, 0.3))\n",
    "cbar = plt.colorbar(qm, cax=cax)\n",
    "cbar.set_label(\"Quality index\", fontsize=\"large\")"
   ]
  },
  {
   "cell_type": "markdown",
   "metadata": {},
   "source": [
    "## Collect and plot the polarimetric moments from the original ODIM_H5 dataset"
   ]
  },
  {
   "cell_type": "code",
   "execution_count": null,
   "metadata": {},
   "outputs": [],
   "source": [
    "# We organise the moments as a dictionary\n",
    "moments = {}\n",
    "moments[\"rho\"] = convert(inp, \"dataset1/data2\")     # RhoHV\n",
    "moments[\"phi\"] = convert(inp, \"dataset1/data4\")     # PhiDP\n",
    "moments[\"zdr\"] = convert(inp, \"dataset1/data5\")     # ZDR - the value range is not plausible, is it? What went wrong?\n",
    "moments[\"dop\"] = convert(inp, \"dataset1/data10\")    # Doppler velocity"
   ]
  },
  {
   "cell_type": "code",
   "execution_count": null,
   "metadata": {},
   "outputs": [],
   "source": [
    "fig = plt.figure(figsize=(12,12))\n",
    "\n",
    "ax = plt.subplot(221, aspect=\"equal\")\n",
    "ax, pm = plot_ppi_to_ax(moments[\"rho\"], ax=ax, title=\"RhoHV\", cb_label=\"(-)\", cb_shrink=0.6, extend=\"neither\")\n",
    "\n",
    "ax = plt.subplot(222, aspect=\"equal\")\n",
    "ax, pm = plot_ppi_to_ax(moments[\"phi\"], ax=ax, title=\"PhiDP\", cb_label=\"degree\", cb_shrink=0.6, extend=\"neither\")\n",
    "\n",
    "ax = plt.subplot(223, aspect=\"equal\")\n",
    "ax, pm = plot_ppi_to_ax(moments[\"zdr\"], ax=ax, title=\"Differential reflectivity\", cb_label=\"dB\", cb_shrink=0.6, extend=\"neither\")\n",
    "\n",
    "ax = plt.subplot(224, aspect=\"equal\")\n",
    "ax, pm = plot_ppi_to_ax(moments[\"dop\"], ax=ax, title=\"Doppler velocity\", cb_label=\"m/s\", cb_shrink=0.6, extend=\"neither\")\n",
    "\n",
    "plt.tight_layout()"
   ]
  },
  {
   "cell_type": "markdown",
   "metadata": {},
   "source": [
    "## Try some filtering and attenuation correction"
   ]
  },
  {
   "cell_type": "code",
   "execution_count": null,
   "metadata": {},
   "outputs": [],
   "source": [
    "# Set ZH to a very low value where we do not expect valid data\n",
    "zh_filtered = np.where(np.isnan(before), -32., before)\n",
    "# Retrieve PIA by using some constraints (see http://wradlib.bitbucket.org/atten.html for help)\n",
    "pia = wradlib.atten.correct_attenuation_constrained(zh_filtered,\n",
    "                                                  constraints=[wradlib.atten.constraint_dbz,\n",
    "                                                               wradlib.atten.constraint_pia],\n",
    "                                                  constraint_args=[[64.0],\n",
    "                                                                   [20.0]])\n",
    "# Correct reflectivity by PIA\n",
    "after2 = before + pia\n",
    "# Mask out non-meteorological echoes\n",
    "after2[np.isnan(before)] = np.nan"
   ]
  },
  {
   "cell_type": "markdown",
   "metadata": {},
   "source": [
    "## Compare results against QC from odc_toolbox"
   ]
  },
  {
   "cell_type": "code",
   "execution_count": null,
   "metadata": {},
   "outputs": [],
   "source": [
    "fig = plt.figure(figsize=(18,10))\n",
    "bbox = [-maxr-2000,-100000, -100000, 100000]\n",
    "shrink = 0.8\n",
    "\n",
    "ax = plt.subplot(131, aspect=\"equal\")\n",
    "ax, pm = plot_ppi_to_ax(before, ax=ax, title=\"Before QC\", cb_label=\"Horizontal reflectivity (dBZ)\", \n",
    "                        cb_shrink=shrink, bbox=bbox, vmin=0, vmax=65)\n",
    "\n",
    "\n",
    "ax = plt.subplot(132, aspect=\"equal\")\n",
    "ax, pm = plot_ppi_to_ax(after,  ax=ax, title=\"After QC using BALTRAD Toolbox\", cb_label=\"Horizontal reflectivity (dBZ)\", \n",
    "                        cb_shrink=shrink, bbox=bbox, vmin=0, vmax=65)\n",
    "\n",
    "\n",
    "ax = plt.subplot(133, aspect=\"equal\")\n",
    "ax, pm = plot_ppi_to_ax(after2, ax=ax, title=\"After QC using wradlib\", cb_label=\"Horizontal reflectivity (dBZ)\", \n",
    "                        cb_shrink=shrink, bbox=bbox, vmin=0, vmax=65)"
   ]
  }
 ],
 "metadata": {
  "language_info": {
   "codemirror_mode": {
    "name": "ipython",
    "version": 3
   },
   "file_extension": ".py",
   "mimetype": "text/x-python",
   "name": "python",
   "nbconvert_exporter": "python",
   "pygments_lexer": "ipython3",
   "version": "3.9.13"
  }
 },
 "nbformat": 4,
 "nbformat_minor": 4
}
