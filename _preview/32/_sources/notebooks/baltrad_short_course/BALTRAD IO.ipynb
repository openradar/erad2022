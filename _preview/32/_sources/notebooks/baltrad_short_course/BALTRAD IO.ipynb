{
 "cells": [
  {
   "cell_type": "markdown",
   "metadata": {},
   "source": [
    "# BALTRAD I/O model - making sense out of data and metadata"
   ]
  },
  {
   "cell_type": "markdown",
   "metadata": {},
   "source": [
    "## Import the file I/O module along with the main RAVE module containing useful constants"
   ]
  },
  {
   "cell_type": "code",
   "execution_count": null,
   "metadata": {},
   "outputs": [],
   "source": [
    "%pylab inline\n",
    "import _raveio, _rave"
   ]
  },
  {
   "cell_type": "markdown",
   "metadata": {},
   "source": [
    "## Read an input ODIM_H5 file"
   ]
  },
  {
   "cell_type": "code",
   "execution_count": null,
   "metadata": {},
   "outputs": [],
   "source": [
    "rio = _raveio.open(\"data/201405190715_SUR.h5\")"
   ]
  },
  {
   "cell_type": "markdown",
   "metadata": {},
   "source": [
    "## What is the payload in the I/O container?"
   ]
  },
  {
   "cell_type": "code",
   "execution_count": null,
   "metadata": {},
   "outputs": [],
   "source": [
    "rio.objectType is _rave.Rave_ObjectType_PVOL"
   ]
  },
  {
   "cell_type": "markdown",
   "metadata": {},
   "source": [
    "## How many scans does this volume contain?"
   ]
  },
  {
   "cell_type": "code",
   "execution_count": null,
   "metadata": {},
   "outputs": [],
   "source": [
    "pvol = rio.object\n",
    "print(\"%i scans in polar volume\" % pvol.getNumberOfScans())"
   ]
  },
  {
   "cell_type": "markdown",
   "metadata": {},
   "source": [
    "## Ascending or descending scan strategy?"
   ]
  },
  {
   "cell_type": "code",
   "execution_count": null,
   "metadata": {},
   "outputs": [],
   "source": [
    "pvol.isAscendingScans()"
   ]
  },
  {
   "cell_type": "markdown",
   "metadata": {},
   "source": [
    "## Where is this site?"
   ]
  },
  {
   "cell_type": "markdown",
   "metadata": {},
   "source": [
    "### Note that all angles are represented internally in radians"
   ]
  },
  {
   "cell_type": "code",
   "execution_count": null,
   "metadata": {},
   "outputs": [],
   "source": [
    "from Proj import rd\n",
    "print(\"Site is located at %2.3f° lon, %2.3f° lat and %3.1f masl\" % (pvol.longitude*rd, pvol.latitude*rd, pvol.height))\n",
    "print(\"Site's ODIM source identifiers are: %s\" % pvol.source)"
   ]
  },
  {
   "cell_type": "markdown",
   "metadata": {},
   "source": [
    "## Access lowest scan and query some characteristics"
   ]
  },
  {
   "cell_type": "code",
   "execution_count": null,
   "metadata": {},
   "outputs": [],
   "source": [
    "scan = pvol.getScan(0)\n",
    "nrays, nbins = scan.nrays, scan.nbins\n",
    "print(\"Elevation angle %2.1f°\" % (scan.elangle*rd))\n",
    "print(\"%i rays per sweep\" % nrays)\n",
    "print(\"%i bins per ray\" % nbins)\n",
    "print(\"%3.1f meter range bins\" % scan.rscale)\n",
    "print(\"First ray scanned is ray %i (indexing starts at 0)\" % scan.a1gate)\n",
    "print(\"Data acquisition started on %s:%sZ\" % (scan.startdate, scan.starttime))\n",
    "print(\"Data acquisition ended on %s:%sZ\" % (scan.enddate, scan.endtime))\n",
    "print(\"Scan contains %i quantities: %s\" % (len(scan.getParameterNames()), scan.getParameterNames()))"
   ]
  },
  {
   "cell_type": "markdown",
   "metadata": {},
   "source": [
    "## Access horizontal reflectivity and query some characteristics"
   ]
  },
  {
   "cell_type": "code",
   "execution_count": null,
   "metadata": {},
   "outputs": [],
   "source": [
    "dbzh = scan.getParameter(\"DBZH\")\n",
    "print(\"Quantity is %s\" % dbzh.quantity)\n",
    "print(\"8-bit unsigned byte data? %s\" % str(dbzh.datatype is _rave.RaveDataType_UCHAR))\n",
    "print(\"Linear scaling coefficients from 0-255 to dBZ: gain=%2.1f, offset=%2.1f\" % (dbzh.gain, dbzh.offset))\n",
    "print(\"Unradiated areas = %2.1f, radiated areas with no echo = %2.1f\" % (dbzh.nodata, dbzh.undetect))\n",
    "\n",
    "dbzh_data = dbzh.getData()  # Accesses the NumPy array containing the reflectivities\n",
    "print(\"NumPy array's dimensions = %s and type = %s\" % (str(dbzh_data.shape), dbzh_data.dtype))"
   ]
  },
  {
   "cell_type": "markdown",
   "metadata": {},
   "source": [
    "## A primitive visualizer for plotting B-scans"
   ]
  },
  {
   "cell_type": "code",
   "execution_count": null,
   "metadata": {},
   "outputs": [],
   "source": [
    "# Convenience functionality. First convert a palette from GoogleMapsPlugin for use with matplotlib\n",
    "from GmapColorMap import dbzh as pal\n",
    "colorlist = []\n",
    "for i in range(0, len(pal), 3):\n",
    "    colorlist.append([pal[i]/255.0, pal[i+1]/255.0, pal[i+2]/255.0])\n",
    "\n",
    "# Then create a simple plotter\n",
    "import matplotlib.pyplot as plt\n",
    "def plot(data):\n",
    "    fig = plt.figure(figsize=(16,12))\n",
    "    plt.title(\"B-scan\")\n",
    "    plt.imshow(data, cmap=matplotlib.colors.ListedColormap(colorlist), clim=(0,255))\n",
    "    plt.colorbar(shrink=float(nrays)/nbins)"
   ]
  },
  {
   "cell_type": "code",
   "execution_count": null,
   "metadata": {},
   "outputs": [],
   "source": [
    "plot(dbzh_data)"
   ]
  },
  {
   "cell_type": "markdown",
   "metadata": {},
   "source": [
    "## Management of optional metadata"
   ]
  },
  {
   "cell_type": "markdown",
   "metadata": {},
   "source": [
    "### While manadatory metadata are represented as object attributes in Python, optional metadata are not!"
   ]
  },
  {
   "cell_type": "code",
   "execution_count": null,
   "metadata": {},
   "outputs": [],
   "source": [
    "print(\"Polar volume has %i optional attributes\" % len(pvol.getAttributeNames()))\n",
    "print(\"Polar scan has %i optional attributes\" % len(scan.getAttributeNames()))\n",
    "print(\"Quantity %s has %i optional attributes\" % (dbzh.quantity, len(dbzh.getAttributeNames())))\n",
    "\n",
    "print(\"Mandatory attribute: beamwidth is %2.1f°\" % (pvol.beamwidth*rd))\n",
    "print(\"Optional attributes: Radar is a %s running %s\" % (pvol.getAttribute(\"how/system\"), pvol.getAttribute(\"how/software\")))"
   ]
  },
  {
   "cell_type": "markdown",
   "metadata": {},
   "source": [
    "### Add a bogus attribute"
   ]
  },
  {
   "cell_type": "code",
   "execution_count": null,
   "metadata": {},
   "outputs": [],
   "source": [
    "dbzh.foo = \"bar\""
   ]
  },
  {
   "cell_type": "code",
   "execution_count": null,
   "metadata": {},
   "outputs": [],
   "source": [
    "dbzh.addAttribute(\"how/foo\", \"bar\")\n",
    "print(\"Quantity %s now has %i optional attributes\" % (dbzh.quantity, len(dbzh.getAttributeNames())))"
   ]
  },
  {
   "cell_type": "markdown",
   "metadata": {},
   "source": [
    "## Create an empty parameter and populate it"
   ]
  },
  {
   "cell_type": "code",
   "execution_count": null,
   "metadata": {},
   "outputs": [],
   "source": [
    "import _polarscanparam\n",
    "param = _polarscanparam.new()\n",
    "param.quantity = \"DBZH\"\n",
    "param.nodata, param.undetect = 255.0, 0.0\n",
    "param.gain, param.offset = 0.4, -30.0\n",
    "\n",
    "import numpy\n",
    "data = numpy.zeros((420,500), numpy.uint8)\n",
    "param.setData(data)"
   ]
  },
  {
   "cell_type": "markdown",
   "metadata": {},
   "source": [
    "## Create an empty scan and add the parameter to it"
   ]
  },
  {
   "cell_type": "code",
   "execution_count": null,
   "metadata": {},
   "outputs": [],
   "source": [
    "import _polarscan\n",
    "from Proj import dr\n",
    "newscan = _polarscan.new()\n",
    "newscan.elangle = 25.0*dr\n",
    "newscan.addAttribute(\"how/simulated\", \"True\")\n",
    "\n",
    "newscan.addParameter(param)\n",
    "print(\"%i rays per sweep\" % newscan.nrays)\n",
    "print(\"%i bins per ray\" % newscan.nbins)"
   ]
  },
  {
   "cell_type": "markdown",
   "metadata": {},
   "source": [
    "### See how the parameter's dimensions were passed along to the scan, so they don't have to be set explicitly. Nevertheless, plenty of metadata must be handled explicitly or ODIM_H5 files risk being incomplete."
   ]
  },
  {
   "cell_type": "code",
   "execution_count": null,
   "metadata": {},
   "outputs": [],
   "source": [
    "newscan.a1gate = 0\n",
    "newscan.beamwidth = 1.0*dr\n",
    "newscan.rscale = 500.0\n",
    "newscan.rstart = 0.0  # Distance in meters to the start of the first range bin, unknown=0.0\n",
    "newscan.startdate = \"20140831\"\n",
    "newscan.starttime = \"145005\"\n",
    "newscan.enddate = \"20140831\"\n",
    "newscan.endtime = \"145020\"\n",
    "\n",
    "# Top-level attributes\n",
    "newscan.date = \"20140831\"\n",
    "newscan.time = \"145000\"\n",
    "newscan.source = \"WMO:26232,RAD:EE41,PLC:Sürgavere,NOD:eesur\"\n",
    "newscan.longitude = 25.519*dr\n",
    "newscan.latitude = 58.482*dr\n",
    "newscan.height = 157.0"
   ]
  },
  {
   "cell_type": "markdown",
   "metadata": {},
   "source": [
    "## Now create a new I/O container and write the scan to ODIM_H5 file."
   ]
  },
  {
   "cell_type": "code",
   "execution_count": null,
   "metadata": {},
   "outputs": [],
   "source": [
    "container = _raveio.new()\n",
    "container.object = newscan\n",
    "container.save(\"data/myscan.h5\")\n",
    "\n",
    "import os\n",
    "print(\"ODIM_H5 file is %i bytes large\" % os.path.getsize(\"data/myscan.h5\"))"
   ]
  },
  {
   "cell_type": "markdown",
   "metadata": {},
   "source": [
    "### Remove compression. It makes file I/O faster. You can also tune HDF5 file-creation properties through the I/O container object."
   ]
  },
  {
   "cell_type": "code",
   "execution_count": null,
   "metadata": {},
   "outputs": [],
   "source": [
    "container.compression_level = 0  # ZLIB compression levels 0-9\n",
    "container.save(\"data/myscan.h5\")\n",
    "print(\"ODIM_H5 file is now %i bytes large\" % os.path.getsize(\"data/myscan.h5\"))"
   ]
  },
  {
   "cell_type": "code",
   "execution_count": null,
   "metadata": {},
   "outputs": [],
   "source": []
  }
 ],
 "metadata": {
  "kernelspec": {
   "display_name": "Python 3",
   "language": "python",
   "name": "python3"
  },
  "language_info": {
   "codemirror_mode": {
    "name": "ipython",
    "version": 3
   },
   "file_extension": ".py",
   "mimetype": "text/x-python",
   "name": "python",
   "nbconvert_exporter": "python",
   "pygments_lexer": "ipython3",
   "version": "3.6.8"
  }
 },
 "nbformat": 4,
 "nbformat_minor": 1
}
