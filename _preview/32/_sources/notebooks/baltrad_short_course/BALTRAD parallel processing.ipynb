{
 "cells": [
  {
   "cell_type": "markdown",
   "metadata": {},
   "source": [
    "# BALTRAD parallel processing"
   ]
  },
  {
   "cell_type": "markdown",
   "metadata": {},
   "source": [
    "The default VM setup is to use a single CPU core. In order to demonstrate the power of parallel processing, you must first determine whether your physical hardware has more than a single core.\n",
    "\n",
    "On Linux this is done in the terminal with the 'nproc' command.\n",
    "\n",
    "On Mac this is done in the terminal with the 'sysctl -n hw.ncpu' command.\n",
    "\n",
    "On Windows this is done graphically using the Task Manager's Performance tab.\n",
    "\n",
    "We want tune our VM to harness the power of several CPUs. Follow the following steps:\n",
    "\n",
    "1. Shut down the IPython notebook Server (Ctrl-C, answer yes)\n",
    "2. Shutdown the VM (click the X button in the VM window, choose power down the machine)\n",
    "3. Select the VM in the VirtualBox Manager Window, from the menu choose Machine->Setting\n",
    "4. Choose the System Tab, then Processor, use the slider to set the number of Processor to 2, 4, or 8 depending on your system resources.  \n",
    "5. Click Ok, and then start the machine\n",
    "6. Login, use the start_notebook.sh script to start the IPython server, start the notebook and you should have multiple processors!\n",
    "\n",
    "RELOAD THIS PAGE!"
   ]
  },
  {
   "cell_type": "markdown",
   "metadata": {},
   "source": [
    "## Verify from Python the number of CPU cores at our disposal"
   ]
  },
  {
   "cell_type": "code",
   "execution_count": null,
   "metadata": {},
   "outputs": [],
   "source": [
    "import multiprocessing\n",
    "print(\"We have %i cores to play with!\" % multiprocessing.cpu_count())"
   ]
  },
  {
   "cell_type": "markdown",
   "metadata": {},
   "source": [
    "Yay! Now we're going to set up some rudimentary functionality that will allow us to distribute a processing load among our cores."
   ]
  },
  {
   "cell_type": "markdown",
   "metadata": {},
   "source": [
    "## Define a generator"
   ]
  },
  {
   "cell_type": "code",
   "execution_count": null,
   "metadata": {},
   "outputs": [],
   "source": [
    "import os\n",
    "import _raveio, odc_polarQC\n",
    "\n",
    "# Specify the processing chain\n",
    "odc_polarQC.algorithm_ids = [\"ropo\", \"beamb\", \"radvol-att\", \"radvol-broad\", \"rave-overshooting\", \"qi-total\"]\n",
    "\n",
    "# Run processing chain on a single file. Return an output file string.\n",
    "def generate(file_string):\n",
    "    rio = _raveio.open(file_string)\n",
    "\n",
    "    pvol = rio.object\n",
    "    pvol = odc_polarQC.QC(pvol)\n",
    "    rio.object = pvol\n",
    "    \n",
    "    # Derive an output file name\n",
    "    path, fstr = os.path.split(file_string)\n",
    "    ofstr = os.path.join(path, 'qc_'+fstr)\n",
    "    \n",
    "    rio.save(ofstr)\n",
    "    return ofstr"
   ]
  },
  {
   "cell_type": "markdown",
   "metadata": {},
   "source": [
    "## Feed the generator, sequentially"
   ]
  },
  {
   "cell_type": "code",
   "execution_count": null,
   "metadata": {},
   "outputs": [],
   "source": [
    "import glob, time\n",
    "\n",
    "ifstrs = glob.glob(\"data/se*.h5\")\n",
    "before = time.time()\n",
    "for fstr in ifstrs:\n",
    "    print(fstr, generate(fstr))\n",
    "after = time.time()\n",
    "\n",
    "print(\"Processing time: %3.2f seconds\" % (after-before))"
   ]
  },
  {
   "cell_type": "markdown",
   "metadata": {},
   "source": [
    "Mental note: repeat once!"
   ]
  },
  {
   "cell_type": "markdown",
   "metadata": {},
   "source": [
    "## Multiprocess the generator"
   ]
  },
  {
   "cell_type": "code",
   "execution_count": null,
   "metadata": {},
   "outputs": [],
   "source": [
    "# Both input and output are a list of file strings\n",
    "def multi_generate(fstrs, procs=None):\n",
    "    pool = multiprocessing.Pool(procs)  # Pool of processors. Defaults to all available logical cores\n",
    "\n",
    "    results = []\n",
    "    # chunksize=1 means feed a process a new job as soon as the process is idle.\n",
    "    # In our case, this restricts the queue to one \"dispatcher\" which is faster.\n",
    "    r = pool.map_async(generate, fstrs, chunksize=1, callback=results.append)\n",
    "    r.wait()\n",
    "\n",
    "    return results[0]"
   ]
  },
  {
   "cell_type": "markdown",
   "metadata": {},
   "source": [
    "## Feed the monster, asynchronously!"
   ]
  },
  {
   "cell_type": "code",
   "execution_count": null,
   "metadata": {},
   "outputs": [],
   "source": [
    "before = time.time()\n",
    "ofstrs = multi_generate(ifstrs)\n",
    "after = time.time()\n",
    "\n",
    "print(\"Processing time: %3.2f seconds\" % (after-before))"
   ]
  },
  {
   "cell_type": "code",
   "execution_count": null,
   "metadata": {},
   "outputs": [],
   "source": []
  }
 ],
 "metadata": {
  "kernelspec": {
   "display_name": "Python 3",
   "language": "python",
   "name": "python3"
  },
  "language_info": {
   "codemirror_mode": {
    "name": "ipython",
    "version": 3
   },
   "file_extension": ".py",
   "mimetype": "text/x-python",
   "name": "python",
   "nbconvert_exporter": "python",
   "pygments_lexer": "ipython3",
   "version": "3.6.8"
  }
 },
 "nbformat": 4,
 "nbformat_minor": 1
}
