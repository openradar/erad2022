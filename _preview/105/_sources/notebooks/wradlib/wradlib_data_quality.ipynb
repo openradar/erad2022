{
 "cells": [
  {
   "cell_type": "markdown",
   "metadata": {},
   "source": [
    "<img src=\"../images/logos/wradlib_logo.svg.png\" width=250 alt=\"wradlib logo png\" align=\"left\"></img>"
   ]
  },
  {
   "cell_type": "markdown",
   "metadata": {},
   "source": [
    "# wradlib data quality"
   ]
  },
  {
   "cell_type": "markdown",
   "metadata": {},
   "source": [
    "---"
   ]
  },
  {
   "cell_type": "markdown",
   "metadata": {},
   "source": [
    "## Overview\n",
    "\n",
    "Within this notebook, we will cover:\n",
    "\n",
    "1. Reading radar volume data into xarray based RadarVolume\n",
    "1. Wrapping numpy-based functions to work with Xarray\n",
    "1. Clutter detection\n",
    "1. Beam Blockage calculation"
   ]
  },
  {
   "cell_type": "markdown",
   "metadata": {},
   "source": [
    "## Prerequisites\n",
    "\n",
    "| Concepts | Importance | Notes |\n",
    "| --- | --- | --- |\n",
    "| [Xarray Basics](https://tutorial.xarray.dev/intro.html) | Helpful | Basic Dataset/DataArray |\n",
    "| [Matplotlib Basics](https://foundations.projectpythia.org/core/matplotlib/matplotlib-basics.html) | Helpful | Basic Plotting |\n",
    "| [Intro to Cartopy](https://foundations.projectpythia.org/core/cartopy/cartopy.html) | Helpful | Projections |\n",
    "\n",
    "- **Time to learn**: 10 minutes"
   ]
  },
  {
   "cell_type": "markdown",
   "metadata": {},
   "source": [
    "---"
   ]
  },
  {
   "cell_type": "markdown",
   "metadata": {},
   "source": [
    "## Imports"
   ]
  },
  {
   "cell_type": "code",
   "execution_count": null,
   "metadata": {},
   "outputs": [],
   "source": [
    "import glob\n",
    "import os\n",
    "\n",
    "import cartopy\n",
    "import cartopy.crs as ccrs\n",
    "import cartopy.feature as cfeature\n",
    "import matplotlib as mpl\n",
    "import matplotlib.pyplot as plt\n",
    "import numpy as np\n",
    "import xarray as xr\n",
    "\n",
    "import wradlib as wrl"
   ]
  },
  {
   "cell_type": "markdown",
   "metadata": {},
   "source": [
    "## Import Swiss Radar Data from CfRadial1 Volumes\n",
    "\n",
    "We use some of the pyrad example data here. Sweeps are provided as single files, so we open each file separately and create the RadarVolume from the open Datasets."
   ]
  },
  {
   "cell_type": "code",
   "execution_count": null,
   "metadata": {},
   "outputs": [],
   "source": [
    "fglob = \"../pyart/data/example_pyrad/22179/MLL22179/MLL2217907250U*.nc\"\n",
    "flist = glob.glob(fglob)\n",
    "flist.sort()\n",
    "print(\"Files available: {}\".format(len(flist)))"
   ]
  },
  {
   "cell_type": "code",
   "execution_count": null,
   "metadata": {},
   "outputs": [],
   "source": [
    "ds = [xr.open_dataset(f, group=\"sweep_1\", engine=\"cfradial1\", chunks={}) for f in flist]"
   ]
  },
  {
   "cell_type": "code",
   "execution_count": null,
   "metadata": {},
   "outputs": [],
   "source": [
    "vol = wrl.io.RadarVolume(engine=\"cfradial1\")\n",
    "vol.extend(ds)\n",
    "vol.sort(key=lambda x: x.time.min())"
   ]
  },
  {
   "cell_type": "code",
   "execution_count": null,
   "metadata": {},
   "outputs": [],
   "source": [
    "display(vol)"
   ]
  },
  {
   "cell_type": "code",
   "execution_count": null,
   "metadata": {},
   "outputs": [],
   "source": [
    "vol.root"
   ]
  },
  {
   "cell_type": "code",
   "execution_count": null,
   "metadata": {},
   "outputs": [],
   "source": [
    "sweep_number = 3\n",
    "display(vol[sweep_number])"
   ]
  },
  {
   "cell_type": "markdown",
   "metadata": {},
   "source": [
    "## Clutter detection with Gabella\n",
    "\n",
    "While in Switzerland, why not use the well-known clutter detection scheme by Marco Gabella et. al.\n",
    "\n",
    "### Wrap Gabella Clutter detection in Xarray `apply_ufunc`\n",
    "\n",
    "The routine is implemented in wradlib in pure `Numpy`. `Numpy` based processing routines can be transformed to a first class `Xarray` citizen with the help of `xr.apply_ufunc`."
   ]
  },
  {
   "cell_type": "code",
   "execution_count": null,
   "metadata": {},
   "outputs": [],
   "source": [
    "def extract_clutter(da, wsize=5, thrsnorain=0, tr1=6.0, n_p=6, tr2=1.3, rm_nans=False):\n",
    "    return xr.apply_ufunc(\n",
    "        wrl.clutter.filter_gabella,\n",
    "        da,\n",
    "        input_core_dims=[[\"azimuth\", \"range\"]],\n",
    "        output_core_dims=[[\"azimuth\", \"range\"]],\n",
    "        dask=\"parallelized\",\n",
    "        kwargs=dict(\n",
    "            wsize=wsize,\n",
    "            thrsnorain=thrsnorain,\n",
    "            tr1=tr1,\n",
    "            n_p=n_p,\n",
    "            tr2=tr2,\n",
    "            rm_nans=rm_nans,\n",
    "        ),\n",
    "    )"
   ]
  },
  {
   "cell_type": "markdown",
   "metadata": {},
   "source": [
    "### Calculate clutter map\n",
    "\n",
    "Now we apply Gabella scheme and add the result to the Dataset."
   ]
  },
  {
   "cell_type": "code",
   "execution_count": null,
   "metadata": {},
   "outputs": [],
   "source": [
    "swp = vol[sweep_number]\n",
    "clmap = swp.reflectivity_hh_clut.pipe(\n",
    "    extract_clutter, wsize=5, thrsnorain=0.0, tr1=21.0, n_p=23, tr2=1.3, rm_nans=False\n",
    ")\n",
    "swp = swp.assign({\"CMAP\": clmap})\n",
    "display(swp)"
   ]
  },
  {
   "cell_type": "markdown",
   "metadata": {},
   "source": [
    "### Plot Reflectivities, Clutter and Cluttermap"
   ]
  },
  {
   "cell_type": "code",
   "execution_count": null,
   "metadata": {},
   "outputs": [],
   "source": [
    "from osgeo import osr\n",
    "\n",
    "wgs84 = osr.SpatialReference()\n",
    "wgs84.ImportFromEPSG(4326)"
   ]
  },
  {
   "cell_type": "code",
   "execution_count": null,
   "metadata": {},
   "outputs": [],
   "source": [
    "fig = plt.figure(figsize=(15, 12))\n",
    "\n",
    "swpx = swp.sel(range=slice(0, 100000)).pipe(wrl.georef.georeference_dataset, proj=wgs84)\n",
    "\n",
    "ax1 = fig.add_subplot(221)\n",
    "swpx.reflectivity_hh_clut.plot(x=\"x\", y=\"y\", ax=ax1, vmin=0, vmax=60)\n",
    "ax1.set_title(\"Reflectivity raw\")\n",
    "\n",
    "ax2 = fig.add_subplot(222)\n",
    "swpx.CMAP.plot(x=\"x\", y=\"y\", ax=ax2)\n",
    "ax2.set_title(\"Cluttermap\")\n",
    "\n",
    "ax3 = fig.add_subplot(223)\n",
    "swpx.reflectivity_hh_clut.where(swpx.CMAP == 1).plot(\n",
    "    x=\"x\", y=\"y\", ax=ax3, vmin=0, vmax=60\n",
    ")\n",
    "ax3.set_title(\"Clutter\")\n",
    "\n",
    "ax4 = fig.add_subplot(224)\n",
    "swpx.reflectivity_hh_clut.where(swpx.CMAP < 1).plot(\n",
    "    x=\"x\", y=\"y\", ax=ax4, vmin=0, vmax=60\n",
    ")\n",
    "ax4.set_title(\"Reflectivity clutter removed\")"
   ]
  },
  {
   "cell_type": "markdown",
   "metadata": {},
   "source": [
    "## SRTM based clutter and beamblockage processing"
   ]
  },
  {
   "cell_type": "markdown",
   "metadata": {},
   "source": [
    "### Download needed SRTM data\n",
    "\n",
    "For the course we already provide the needed SRTM tiles. For normal operation you would need a NASA EARTHDATA account and a connected bearer token.\n",
    "\n",
    "The data will be loaded using GDAL machinery and transformed into an Xarray DataArray."
   ]
  },
  {
   "cell_type": "code",
   "execution_count": null,
   "metadata": {},
   "outputs": [],
   "source": [
    "extent = wrl.zonalstats.get_bbox(swpx.x.values, swpx.y.values)\n",
    "extent"
   ]
  },
  {
   "cell_type": "code",
   "execution_count": null,
   "metadata": {},
   "outputs": [],
   "source": [
    "# apply fake token, data is already available\n",
    "os.environ[\"WRADLIB_EARTHDATA_BEARER_TOKEN\"] = \"\"\n",
    "# set location of wradlib-data, where wradlib will search for any available data\n",
    "os.environ[\"WRADLIB_DATA\"] = \"data/wradlib-data\"\n",
    "# get the tiles\n",
    "dem = wrl.io.get_srtm(extent.values())"
   ]
  },
  {
   "cell_type": "code",
   "execution_count": null,
   "metadata": {},
   "outputs": [],
   "source": [
    "elevation = wrl.georef.read_gdal_values(dem)\n",
    "coords = wrl.georef.read_gdal_coordinates(dem)"
   ]
  },
  {
   "cell_type": "code",
   "execution_count": null,
   "metadata": {},
   "outputs": [],
   "source": [
    "elev = xr.DataArray(\n",
    "    data=elevation,\n",
    "    dims=[\"y\", \"x\"],\n",
    "    coords={\"lat\": ([\"y\", \"x\"], coords[..., 1]), \"lon\": ([\"y\", \"x\"], coords[..., 0])},\n",
    ")\n",
    "elev"
   ]
  },
  {
   "cell_type": "markdown",
   "metadata": {},
   "source": [
    "### Plot Clutter on DEM"
   ]
  },
  {
   "cell_type": "code",
   "execution_count": null,
   "metadata": {},
   "outputs": [],
   "source": [
    "fig = plt.figure(figsize=(13, 10))\n",
    "ax1 = fig.add_subplot(111)\n",
    "\n",
    "swpx.CMAP.where(swpx.CMAP == 1).plot(\n",
    "    x=\"x\", y=\"y\", ax=ax1, vmin=0, vmax=1, cmap=\"turbo\", add_colorbar=False\n",
    ")\n",
    "ax1.set_title(\"Reflectivity corr\")\n",
    "\n",
    "ax1.plot(swpx.longitude.values, swpx.latitude.values, marker=\"*\", c=\"r\")\n",
    "\n",
    "elev.plot(x=\"lon\", y=\"lat\", ax=ax1, zorder=-2, cmap=\"terrain\")"
   ]
  },
  {
   "cell_type": "markdown",
   "metadata": {},
   "source": [
    "### Use hvplot for interactive zooming and panning\n",
    "\n",
    "Often it is desirable to quickly zoom and pan in the plots. Although matplotlib has that ability, it still is quite slow. Here `hvplot`, a `holoviews` based plotting framework, can be utilized. As frontend `bokeh` is used."
   ]
  },
  {
   "cell_type": "code",
   "execution_count": null,
   "metadata": {},
   "outputs": [],
   "source": [
    "import hvplot\n",
    "import hvplot.xarray"
   ]
  },
  {
   "cell_type": "markdown",
   "metadata": {},
   "source": [
    "We need to rechunk the coordinates as hvplot needs chunked variables and coords.\n",
    "\n",
    "todo # vergleichbar machen mit beam blockage angle/entfernung"
   ]
  },
  {
   "cell_type": "code",
   "execution_count": null,
   "metadata": {},
   "outputs": [],
   "source": [
    "cl = (\n",
    "    swpx.CMAP.where(swpx.CMAP == 1)\n",
    "    .chunk(chunks={})\n",
    "    .hvplot.quadmesh(\n",
    "        x=\"x\", y=\"y\", cmap=\"Reds\", width=800, height=700, clim=(0, 1), alpha=0.6\n",
    "    )\n",
    ")\n",
    "dm = elev.hvplot.quadmesh(\n",
    "    x=\"lon\",\n",
    "    y=\"lat\",\n",
    "    cmap=\"terrain\",\n",
    "    width=800,\n",
    "    height=700,\n",
    "    clim=(0, 4000),\n",
    "    rasterize=True,\n",
    ")\n",
    "dm * cl"
   ]
  },
  {
   "cell_type": "markdown",
   "metadata": {},
   "source": [
    "### Convert DEM to spherical coordinates"
   ]
  },
  {
   "cell_type": "code",
   "execution_count": null,
   "metadata": {},
   "outputs": [],
   "source": [
    "sitecoords = (swpx.longitude.values, swpx.latitude.values, swpx.altitude.values)\n",
    "r = swpx.range.values\n",
    "az = swpx.azimuth.values\n",
    "bw = 0.8\n",
    "beamradius = wrl.util.half_power_radius(r, bw)"
   ]
  },
  {
   "cell_type": "code",
   "execution_count": null,
   "metadata": {},
   "outputs": [],
   "source": [
    "rastervalues, rastercoords, proj = wrl.georef.extract_raster_dataset(\n",
    "    dem, nodata=-32768.0\n",
    ")\n",
    "\n",
    "rlimits = (extent[\"left\"], extent[\"bottom\"], extent[\"right\"], extent[\"top\"])\n",
    "# Clip the region inside our bounding box\n",
    "ind = wrl.util.find_bbox_indices(rastercoords, rlimits)\n",
    "rastercoords = rastercoords[ind[1] : ind[3], ind[0] : ind[2], ...]\n",
    "rastervalues = rastervalues[ind[1] : ind[3], ind[0] : ind[2]]\n",
    "\n",
    "polcoords = np.dstack([swpx.x.values, swpx.y.values])\n",
    "# Map rastervalues to polar grid points\n",
    "polarvalues = wrl.ipol.cart_to_irregular_spline(\n",
    "    rastercoords, rastervalues, polcoords, order=3, prefilter=False\n",
    ")"
   ]
  },
  {
   "cell_type": "markdown",
   "metadata": {},
   "source": [
    "### Partial and Cumulative Beamblockage"
   ]
  },
  {
   "cell_type": "code",
   "execution_count": null,
   "metadata": {},
   "outputs": [],
   "source": [
    "PBB = wrl.qual.beam_block_frac(polarvalues, swpx.z.values, beamradius)\n",
    "PBB = np.ma.masked_invalid(PBB)\n",
    "print(PBB.shape)"
   ]
  },
  {
   "cell_type": "code",
   "execution_count": null,
   "metadata": {},
   "outputs": [],
   "source": [
    "CBB = wrl.qual.cum_beam_block_frac(PBB)\n",
    "print(CBB.shape)"
   ]
  },
  {
   "cell_type": "markdown",
   "metadata": {},
   "source": [
    "### Plotting Beamblockage\n"
   ]
  },
  {
   "cell_type": "code",
   "execution_count": null,
   "metadata": {},
   "outputs": [],
   "source": [
    "# just a little helper function to style x and y axes of our maps\n",
    "def annotate_map(ax, cm=None, title=\"\"):\n",
    "    xticks = ax.get_xticks()\n",
    "    ticks = (xticks / 1000).astype(int)\n",
    "    ax.set_xticks(xticks)\n",
    "    ax.set_xticklabels(ticks)\n",
    "    yticks = ax.get_yticks()\n",
    "    ticks = (yticks / 1000).astype(int)\n",
    "    ax.set_yticks(yticks)\n",
    "    ax.set_yticklabels(ticks)\n",
    "    ax.set_xlabel(\"Kilometers\")\n",
    "    ax.set_ylabel(\"Kilometers\")\n",
    "    if not cm is None:\n",
    "        plt.colorbar(cm, ax=ax)\n",
    "    if not title == \"\":\n",
    "        ax.set_title(title)\n",
    "    ax.grid()"
   ]
  },
  {
   "cell_type": "code",
   "execution_count": null,
   "metadata": {},
   "outputs": [],
   "source": [
    "alt = swpx.z.values\n",
    "fig = plt.figure(figsize=(15, 12))\n",
    "\n",
    "# create subplots\n",
    "ax1 = plt.subplot2grid((2, 2), (0, 0))\n",
    "ax2 = plt.subplot2grid((2, 2), (0, 1))\n",
    "ax3 = plt.subplot2grid((2, 2), (1, 0), colspan=2, rowspan=1)\n",
    "\n",
    "# azimuth angle\n",
    "angle = 270\n",
    "\n",
    "# Plot terrain (on ax1)\n",
    "ax1, dem = wrl.vis.plot_ppi(\n",
    "    polarvalues, ax=ax1, r=r, az=az, cmap=mpl.cm.terrain, vmin=0.0\n",
    ")\n",
    "ax1.plot(\n",
    "    [0, np.sin(np.radians(angle)) * 1e5], [0, np.cos(np.radians(angle)) * 1e5], \"r-\"\n",
    ")\n",
    "ax1.plot(sitecoords[0], sitecoords[1], \"ro\")\n",
    "annotate_map(ax1, dem, \"Terrain within {0} km range\".format(np.max(r / 1000.0) + 0.1))\n",
    "ax1.set_xlim(-100000, 100000)\n",
    "ax1.set_ylim(-100000, 100000)\n",
    "\n",
    "# Plot CBB (on ax2)\n",
    "ax2, cbb = wrl.vis.plot_ppi(CBB, ax=ax2, r=r, az=az, cmap=mpl.cm.PuRd, vmin=0, vmax=1)\n",
    "annotate_map(ax2, cbb, \"Beam-Blockage Fraction\")\n",
    "ax2.set_xlim(-100000, 100000)\n",
    "ax2.set_ylim(-100000, 100000)\n",
    "\n",
    "# Plot single ray terrain profile on ax3\n",
    "(bc,) = ax3.plot(r / 1000.0, alt[angle, :], \"-b\", linewidth=3, label=\"Beam Center\")\n",
    "(b3db,) = ax3.plot(\n",
    "    r / 1000.0,\n",
    "    (alt[angle, :] + beamradius),\n",
    "    \":b\",\n",
    "    linewidth=1.5,\n",
    "    label=\"3 dB Beam width\",\n",
    ")\n",
    "ax3.plot(r / 1000.0, (alt[angle, :] - beamradius), \":b\")\n",
    "ax3.fill_between(r / 1000.0, 0.0, polarvalues[angle, :], color=\"0.75\")\n",
    "ax3.set_xlim(0.0, np.max(r / 1000.0) + 0.1)\n",
    "ax3.set_ylim(0.0, 3000)\n",
    "ax3.set_xlabel(\"Range (km)\")\n",
    "ax3.set_ylabel(\"Altitude (m)\")\n",
    "ax3.grid()\n",
    "\n",
    "axb = ax3.twinx()\n",
    "(bbf,) = axb.plot(r / 1000.0, CBB[angle, :], \"-g\", label=\"BBF\")\n",
    "axb.spines[\"right\"].set_color(\"g\")\n",
    "axb.tick_params(axis=\"y\", colors=\"g\")\n",
    "axb.set_ylabel(\"Beam-blockage fraction\", c=\"g\")\n",
    "axb.set_ylim(0.0, 1.0)\n",
    "axb.set_xlim(0.0, np.max(r / 1000.0) + 0.1)\n",
    "\n",
    "\n",
    "legend = ax3.legend(\n",
    "    (bc, b3db, bbf),\n",
    "    (\"Beam Center\", \"3 dB Beam width\", \"BBF\"),\n",
    "    loc=\"upper left\",\n",
    "    fontsize=10,\n",
    ")"
   ]
  },
  {
   "cell_type": "markdown",
   "metadata": {},
   "source": [
    "### Plotting Beamblockage on Curvelinear Grid\n",
    "\n",
    "Here you get an better impression of the actual beam progression ."
   ]
  },
  {
   "cell_type": "code",
   "execution_count": null,
   "metadata": {},
   "outputs": [],
   "source": [
    "def height_formatter(x, pos):\n",
    "    x = (x - 6370000) / 1000\n",
    "    fmt_str = \"{:g}\".format(x)\n",
    "    return fmt_str\n",
    "\n",
    "\n",
    "def range_formatter(x, pos):\n",
    "    x = x / 1000.0\n",
    "    fmt_str = \"{:g}\".format(x)\n",
    "    return fmt_str"
   ]
  },
  {
   "cell_type": "code",
   "execution_count": null,
   "metadata": {},
   "outputs": [],
   "source": [
    "fig = plt.figure(figsize=(15, 8))\n",
    "\n",
    "cgax, caax, paax = wrl.vis.create_cg(fig=fig, rot=0, scale=1)\n",
    "\n",
    "# azimuth angle\n",
    "angle = 270\n",
    "\n",
    "# fix grid_helper\n",
    "er = 6370000\n",
    "gh = cgax.get_grid_helper()\n",
    "gh.grid_finder.grid_locator2._nbins = 80\n",
    "gh.grid_finder.grid_locator2._steps = [1, 2, 4, 5, 10]\n",
    "\n",
    "# calculate beam_height and arc_distance for ke=1\n",
    "# means line of sight\n",
    "bhe = wrl.georef.bin_altitude(r, 0, sitecoords[2], re=er, ke=1.0)\n",
    "ade = wrl.georef.bin_distance(r, 0, sitecoords[2], re=er, ke=1.0)\n",
    "nn0 = np.zeros_like(r)\n",
    "# for nice plotting we assume earth_radius = 6370000 m\n",
    "ecp = nn0 + er\n",
    "# theta (arc_distance sector angle)\n",
    "thetap = -np.degrees(ade / er) + 90.0\n",
    "\n",
    "# zero degree elevation with standard refraction\n",
    "bh0 = wrl.georef.bin_altitude(r, 0, sitecoords[2], re=er)\n",
    "\n",
    "# plot (ecp is earth surface normal null)\n",
    "(bes,) = paax.plot(thetap, ecp, \"-k\", linewidth=3, label=\"Earth Surface NN\")\n",
    "(bc,) = paax.plot(thetap, ecp + alt[angle, :], \"-b\", linewidth=3, label=\"Beam Center\")\n",
    "(bc0r,) = paax.plot(thetap, ecp + bh0, \"-g\", label=\"0 deg Refraction\")\n",
    "(bc0n,) = paax.plot(thetap, ecp + bhe, \"-r\", label=\"0 deg line of sight\")\n",
    "(b3db,) = paax.plot(\n",
    "    thetap, ecp + alt[angle, :] + beamradius, \":b\", label=\"+3 dB Beam width\"\n",
    ")\n",
    "paax.plot(thetap, ecp + alt[angle, :] - beamradius, \":b\", label=\"-3 dB Beam width\")\n",
    "\n",
    "# orography\n",
    "paax.fill_between(thetap, ecp, ecp + polarvalues[angle, :], color=\"0.75\")\n",
    "\n",
    "# shape axes\n",
    "cgax.set_xlim(0, np.max(ade))\n",
    "cgax.set_ylim([ecp.min() - 1000, ecp.max() + 2500])\n",
    "caax.grid(True, axis=\"x\")\n",
    "cgax.grid(True, axis=\"y\")\n",
    "cgax.axis[\"top\"].toggle(all=False)\n",
    "caax.yaxis.set_major_locator(\n",
    "    mpl.ticker.MaxNLocator(steps=[1, 2, 4, 5, 10], nbins=20, prune=\"both\")\n",
    ")\n",
    "caax.xaxis.set_major_locator(mpl.ticker.MaxNLocator())\n",
    "caax.yaxis.set_major_formatter(mpl.ticker.FuncFormatter(height_formatter))\n",
    "caax.xaxis.set_major_formatter(mpl.ticker.FuncFormatter(range_formatter))\n",
    "\n",
    "caax.set_xlabel(\"Range (km)\")\n",
    "caax.set_ylabel(\"Altitude (km)\")\n",
    "\n",
    "legend = paax.legend(\n",
    "    (bes, bc0n, bc0r, bc, b3db),\n",
    "    (\n",
    "        \"Earth Surface NN\",\n",
    "        \"0 deg line of sight\",\n",
    "        \"0 deg std refraction\",\n",
    "        \"Beam Center\",\n",
    "        \"3 dB Beam width\",\n",
    "    ),\n",
    "    loc=\"lower left\",\n",
    "    fontsize=10,\n",
    ")"
   ]
  },
  {
   "cell_type": "markdown",
   "metadata": {},
   "source": [
    "## Use Clutter and Beamblockage as Quality Index\n",
    "\n",
    "Simple masking with cumulative beam blockage and Gabella."
   ]
  },
  {
   "cell_type": "code",
   "execution_count": null,
   "metadata": {},
   "outputs": [],
   "source": [
    "swpx = swpx.assign({\"CBB\": ([\"azimuth\", \"range\"], CBB)})\n",
    "# recalculate georeferencing for AEQD\n",
    "swpx = swpx.pipe(wrl.georef.georeference_dataset)"
   ]
  },
  {
   "cell_type": "code",
   "execution_count": null,
   "metadata": {},
   "outputs": [],
   "source": [
    "fig = plt.figure(figsize=(12, 4))\n",
    "\n",
    "ax1 = fig.add_subplot(121)\n",
    "swpx.reflectivity.plot(x=\"x\", y=\"y\", ax=ax1, cmap=\"turbo\", vmin=0, vmax=60)\n",
    "ax1.set_title(f\"Signal Processor - {swpx.time.values.astype('M8[s]')}\")\n",
    "ax1.set_aspect(\"equal\")\n",
    "\n",
    "ax2 = fig.add_subplot(122)\n",
    "# CBB > 0.5, CMAP == 1, RHOHV < 0.8 is masked\n",
    "swpx.where(\n",
    "    (swpx.CBB <= 0.5)\n",
    "    & (swpx.CMAP < 1.0)\n",
    "    & (swpx.uncorrected_cross_correlation_ratio >= 0.8)\n",
    ").reflectivity_hh_clut.plot(x=\"x\", y=\"y\", ax=ax2, cmap=\"turbo\", vmin=0, vmax=60)\n",
    "ax2.set_title(f\"Gabella+CBB+RHOHV - {swpx.time.values.astype('M8[s]')}\")\n",
    "ax2.set_aspect(\"equal\")"
   ]
  },
  {
   "cell_type": "markdown",
   "metadata": {},
   "source": [
    "---"
   ]
  },
  {
   "cell_type": "markdown",
   "metadata": {},
   "source": [
    "## Summary\n",
    "We've just learned how to use $\\omega radlib$'s Gabella clutter detection for single sweeps. Wrapping numpy based functions for use with `xarray.apply_ufunc` has been shown. We've looked into digital elevation maps and beam blockage calculations.\n",
    "\n",
    "### What's next?\n",
    "In the next notebook we dive into processing of differential phase."
   ]
  },
  {
   "cell_type": "markdown",
   "metadata": {},
   "source": [
    "## Resources and references\n",
    "\n",
    "- [SRTM - NASA - EARTHDATA](https://urs.earthdata.nasa.gov/)\n",
    "- [xarray](https://docs.xarray.dev)\n",
    "- [apply_ufunc](https://docs.xarray.dev/en/stable/generated/xarray.apply_ufunc.html)\n",
    "- [dask](https://docs.dask.org/)\n",
    "- [gdal](https://gdal.org/index.html)\n",
    "- [hvplot](https://hvplot.holoviz.org/)\n",
    "- [wradlib xarray backends](https://docs.wradlib.org/projects/old-docs/en/1.16.0/notebooks/fileio/wradlib_xarray_backends.html)\n",
    "- [CfRadial1](https://ncar.github.io/CfRadial/)\n",
    "- [OPERA ODIM_H5](https://www.eumetnet.eu/activities/observations-programme/current-activities/opera/)\n",
    "- [WMO JET-OWR](https://community.wmo.int/governance/commission-membership/commission-observation-infrastructure-and-information-systems-infcom/commission-infrastructure-officers/infcom-management-group/standing-committee-measurements-instrumentation-and-traceability-sc-mint/joint-expert-team)"
   ]
  }
 ],
 "metadata": {
  "language_info": {
   "codemirror_mode": {
    "name": "ipython",
    "version": 3
   },
   "file_extension": ".py",
   "mimetype": "text/x-python",
   "name": "python",
   "nbconvert_exporter": "python",
   "pygments_lexer": "ipython3",
   "version": "3.9.13"
  },
  "nbdime-conflicts": {
   "local_diff": [
    {
     "diff": [
      {
       "diff": [
        {
         "key": 0,
         "op": "addrange",
         "valuelist": [
          "Python 3"
         ]
        },
        {
         "key": 0,
         "length": 1,
         "op": "removerange"
        }
       ],
       "key": "display_name",
       "op": "patch"
      }
     ],
     "key": "kernelspec",
     "op": "patch"
    }
   ],
   "remote_diff": [
    {
     "diff": [
      {
       "diff": [
        {
         "key": 0,
         "op": "addrange",
         "valuelist": [
          "Python3"
         ]
        },
        {
         "key": 0,
         "length": 1,
         "op": "removerange"
        }
       ],
       "key": "display_name",
       "op": "patch"
      }
     ],
     "key": "kernelspec",
     "op": "patch"
    }
   ]
  },
  "toc-autonumbering": false
 },
 "nbformat": 4,
 "nbformat_minor": 4
}
