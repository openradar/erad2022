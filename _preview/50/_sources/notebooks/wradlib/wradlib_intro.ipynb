{
 "cells": [
  {
   "cell_type": "markdown",
   "id": "1d59092d-fb1b-4455-af5a-8fb9e02329fd",
   "metadata": {},
   "source": [
    "<img src=\"../images/logos/wradlib_logo.svg.png\" width=250 alt=\"wradlib logo png\" align=\"left\"></img>"
   ]
  },
  {
   "cell_type": "markdown",
   "id": "ffd54e5c",
   "metadata": {},
   "source": [
    "# $\\omega radlib$ Introduction"
   ]
  },
  {
   "cell_type": "markdown",
   "id": "bc398bc4-de10-468d-8df5-b422dd4477d2",
   "metadata": {},
   "source": [
    "---"
   ]
  },
  {
   "cell_type": "markdown",
   "id": "3bf46aa2",
   "metadata": {},
   "source": [
    "# An Overview of $\\omega radlib$"
   ]
  },
  {
   "cell_type": "markdown",
   "id": "189e6222-2d21-4046-af89-d6d0b59fc066",
   "metadata": {},
   "source": [
    "$\\omega radlib$ was one of the first available free and open source Python packages which was targeting the whole processing chain of weather radar data.\n",
    "\n",
    "From the beginning in 2011 it is available for collaboration in the cloud, first at bitbucket and from 2016 at it's current location at [github](https://github.com/wradlib/wradlib).\n",
    "\n",
    "$\\omega radlib$ evolved constantly over time also adapting to new and emerging features of the Scientific Python stack. Many Features have been added ever since and $\\omega radlib$ is used in almost all parts of the world.\n",
    "\n",
    "$\\omega radlib$'s development paradigm __Keep the magic to a minimum__ with a transparent, but lower level code is still a main goal of all development activities. Also the __flat (or no) data model__ with passing data as numpy arrays and metadata as dictionaries is up to this time base for many functions in $\\omega radlib$. With the adoption of the emerging Xarray package this changed to some extent, combining data and metadata in a convenient way.\n",
    "\n",
    "In this short course we will concentrate on:\n",
    "\n",
    "1. [reading, exploring and exporting radar data, gridding and gis export](wradlib_radar_data_io_vis.ipynb)\n",
    "1. [data quality and beam blockage](wradlib_data_quality.ipynb)\n",
    "1. [processing of differential phase](wradlib_differential_phase.ipynb)\n",
    "1. [quasi vertical profiles](wradlib_quasi_vertical_profiles.ipynb)\n",
    "\n",
    "For a more comprehensive set of examples and tutorials please refer to the [$\\omega radlib$ documentation](https://docs.wradlib.org/en/stable/index.html).\n"
   ]
  }
 ],
 "metadata": {
  "language_info": {
   "codemirror_mode": {
    "name": "ipython",
    "version": 3
   },
   "file_extension": ".py",
   "mimetype": "text/x-python",
   "name": "python",
   "nbconvert_exporter": "python",
   "pygments_lexer": "ipython3",
   "version": "3.9.13"
  }
 },
 "nbformat": 4,
 "nbformat_minor": 5
}
