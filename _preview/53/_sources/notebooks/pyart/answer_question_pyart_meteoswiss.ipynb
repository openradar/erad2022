{
 "cells": [
  {
   "cell_type": "markdown",
   "metadata": {},
   "source": [
    "Load required libraries"
   ]
  },
  {
   "cell_type": "code",
   "execution_count": null,
   "metadata": {},
   "outputs": [],
   "source": [
    "import pyart\n",
    "pyart.config.load_config('mch_config.py')\n",
    "import numpy as np\n",
    "import cartopy.crs as ccrs\n",
    "import cartopy\n",
    "import matplotlib.pyplot as plt\n",
    "import glob"
   ]
  },
  {
   "cell_type": "markdown",
   "metadata": {},
   "source": [
    "1. Load all radar files in /data/question_pyart_meteoswiss and merge them into one single radar object"
   ]
  },
  {
   "cell_type": "code",
   "execution_count": null,
   "metadata": {},
   "outputs": [],
   "source": [
    "files_radar = sorted(glob.glob('./data/question_pyart_meteoswiss/MLA211941205*'))\n",
    "for i,f in enumerate(files_radar):\n",
    "    radar = pyart.io.read_cfradial(f)\n",
    "  \n",
    "    if i == 0:\n",
    "        radar_merged = radar\n",
    "    else:\n",
    "        radar_merged = pyart.util.join_radar(radar_merged, \n",
    "                                       radar)"
   ]
  },
  {
   "cell_type": "markdown",
   "metadata": {},
   "source": [
    "2. Perform attenuation correction of ZH, using a constant freezing level height of 2700 m."
   ]
  },
  {
   "cell_type": "code",
   "execution_count": null,
   "metadata": {},
   "outputs": [],
   "source": [
    "# Compute attenuation\n",
    "out = pyart.correct.calculate_attenuation_zphi(radar_merged, fzl = 4200,\n",
    "                           phidp_field = 'uncorrected_differential_phase',\n",
    "                           temp_ref = 'fixed_fzl')\n",
    "spec_at, pia, cor_z, spec_diff_at, pida, cor_zdr = out\n",
    "radar_merged.add_field('corrected_reflectivity', cor_z)\n"
   ]
  },
  {
   "cell_type": "markdown",
   "metadata": {},
   "source": [
    "3. Estimate the QPE with a __[a polynomial Z-R relation](https://arm-doe.github.io/pyart/_modules/pyart/retrieve/qpe.html#est_rain_rate_za)__."
   ]
  },
  {
   "cell_type": "code",
   "execution_count": null,
   "metadata": {},
   "outputs": [],
   "source": [
    "qpe = pyart.retrieve.est_rain_rate_zpoly(radar_merged, refl_field = 'corrected_reflectivity')\n",
    "\n",
    "radar_merged.add_field('radar_estimated_rain_rate', qpe)"
   ]
  },
  {
   "cell_type": "markdown",
   "metadata": {},
   "source": [
    "4. Compute a CAPPI of the resulting radar estimate rain rate from 500 to 8000 m above the radar  using a vertical resolution of 100 m and a horizontal resolution of 500 m at a x and y distance of up to 100 km to the radar."
   ]
  },
  {
   "cell_type": "code",
   "execution_count": null,
   "metadata": {},
   "outputs": [],
   "source": [
    "zmin = 500\n",
    "zmax = 8000\n",
    "ymin= xmin = -100000\n",
    "ymax = xmax = 100000\n",
    "lat = float(radar.latitude['data'])\n",
    "lon = float(radar.longitude['data'])\n",
    "alt = float(radar.altitude['data'])\n",
    "# number of grid points in cappi\n",
    "cappi_res_h = 500\n",
    "cappi_res_v = 100\n",
    "ny = int((ymax-ymin)/cappi_res_h)+1\n",
    "nx = int((xmax-xmin)/cappi_res_h)+1\n",
    "nz = int((zmax-zmin)/cappi_res_v)+1\n",
    "\n",
    "cappi_qpe = pyart.map.grid_from_radars(radar_merged, grid_shape=(nz, ny, nx),\n",
    "        grid_limits=((zmin, zmax), (ymin, ymax),\n",
    "                     (xmin, xmax)),\n",
    "        fields=['radar_estimated_rain_rate'])"
   ]
  },
  {
   "cell_type": "markdown",
   "metadata": {},
   "source": [
    "5. Using numpy, perform a weighted average of all CAPPI levels using the weights. Finally display the results."
   ]
  },
  {
   "cell_type": "code",
   "execution_count": null,
   "metadata": {},
   "outputs": [],
   "source": [
    "weighting = np.exp(-0.5*  cappi_qpe.z['data'] / 1000)\n",
    "\n",
    "qpe_ground = weighting[:,None,None]*cappi_qpe.fields['radar_estimated_rain_rate']['data']\n",
    "qpe_ground = np.nansum(qpe_ground, axis = 0) / np.sum(weighting)\n",
    "\n",
    "plt.pcolormesh(cappi_qpe.point_longitude['data'][0], \n",
    "               cappi_qpe.point_latitude['data'][0],\n",
    "               qpe_ground, vmax = 15)\n",
    "plt.colorbar(label = 'Estimated rain rate at ground [mm/h]')"
   ]
  },
  {
   "cell_type": "markdown",
   "metadata": {},
   "source": [
    "Now let's compare this QPE with the operational QPE of MeteoSwiss at the same timestep:\n",
    "\n"
   ]
  },
  {
   "cell_type": "markdown",
   "metadata": {},
   "source": [
    "<div>\n",
    "<img src=\"./images/qpe_op.png\" width=\"400\">\n",
    "</div>"
   ]
  },
  {
   "cell_type": "markdown",
   "metadata": {},
   "source": [
    "The agreement near the radar is not too bad, even with such a simple aggregation method. In the south we see some large discrepancies. This is due to the fact that the operational QPE includes many additional steps. In this case, the difference is likely due to the correction for partial beam blocking that is performed by the operational QPE in this mountaineous region south of the radar."
   ]
  }
 ],
 "metadata": {
  "language_info": {
   "codemirror_mode": {
    "name": "ipython",
    "version": 3
   },
   "file_extension": ".py",
   "mimetype": "text/x-python",
   "name": "python",
   "nbconvert_exporter": "python",
   "pygments_lexer": "ipython3",
   "version": "3.9.13"
  }
 },
 "nbformat": 4,
 "nbformat_minor": 4
}
