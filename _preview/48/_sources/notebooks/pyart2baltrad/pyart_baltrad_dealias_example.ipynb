{
 "metadata": {
  "name": ""
 },
 "nbformat": 3,
 "nbformat_minor": 0,
 "worksheets": [
  {
   "cells": [
    {
     "cell_type": "heading",
     "level": 1,
     "metadata": {},
     "source": [
      "Doppler Velocity Dealiasing with Py-ART and BALTRAD"
     ]
    },
    {
     "cell_type": "markdown",
     "metadata": {},
     "source": [
      "In this notebook Doppler Velocity data from the ARM C-band SAPR radar is read using Py-ART and dealiased using BALTRAD."
     ]
    },
    {
     "cell_type": "code",
     "collapsed": false,
     "input": [
      "%pylab inline"
     ],
     "language": "python",
     "metadata": {},
     "outputs": [],
     "prompt_number": null
    },
    {
     "cell_type": "markdown",
     "metadata": {},
     "source": [
      "Import the necessary modules"
     ]
    },
    {
     "cell_type": "code",
     "collapsed": false,
     "input": [
      "import pyart\n",
      "import baltrad_pyart_bridge as bridge  # routines to pass data from Py-ART to BALTRAD\n",
      "import _dealias # BALTRAD's dealiasing module"
     ],
     "language": "python",
     "metadata": {},
     "outputs": [],
     "prompt_number": null
    },
    {
     "cell_type": "markdown",
     "metadata": {},
     "source": [
      "Read in the data using Py-ART"
     ]
    },
    {
     "cell_type": "code",
     "collapsed": false,
     "input": [
      "radar = pyart.io.read('data/sgpcsaprppi_20110520095101.nc')"
     ],
     "language": "python",
     "metadata": {},
     "outputs": [],
     "prompt_number": null
    },
    {
     "cell_type": "markdown",
     "metadata": {},
     "source": [
      "Examine the velocity data using Py-ART Display object."
     ]
    },
    {
     "cell_type": "code",
     "collapsed": false,
     "input": [
      "display = pyart.graph.RadarDisplay(radar)\n",
      "nyquist_velocity = radar.instrument_parameters['nyquist_velocity']['data'][0]\n",
      "display.plot_ppi('velocity', 1, colorbar_label='m/s', \n",
      "                 vmin=-nyquist_velocity, vmax=nyquist_velocity)"
     ],
     "language": "python",
     "metadata": {},
     "outputs": [],
     "prompt_number": null
    },
    {
     "cell_type": "markdown",
     "metadata": {},
     "source": [
      "Convert the radar data into a RaveIO object with the velocity data having the correct name."
     ]
    },
    {
     "cell_type": "code",
     "collapsed": false,
     "input": [
      "vel_data = radar.fields['velocity']['data']\n",
      "radar.add_field_like('velocity', 'VRAD', vel_data)\n",
      "rio = bridge.radar2raveio(radar)"
     ],
     "language": "python",
     "metadata": {},
     "outputs": [],
     "prompt_number": null
    },
    {
     "cell_type": "markdown",
     "metadata": {},
     "source": [
      "Perform Doppler velocity dealiasing using BALTRAD."
     ]
    },
    {
     "cell_type": "code",
     "collapsed": false,
     "input": [
      "ret = _dealias.dealias(rio.object)\n",
      "print \"This first scan is dealiased:\", _dealias.dealiased(rio.object.getScan(0))"
     ],
     "language": "python",
     "metadata": {},
     "outputs": [],
     "prompt_number": null
    },
    {
     "cell_type": "markdown",
     "metadata": {},
     "source": [
      "Add the dealiased velocity field to the origin Py-ART radar object."
     ]
    },
    {
     "cell_type": "code",
     "collapsed": false,
     "input": [
      "temp = bridge.raveio2radar(rio)\n",
      "if 'dealiased_velocity' in radar.fields:\n",
      "    radar.fields.pop('dealiased_velocity')\n",
      "radar.add_field_like('velocity', 'dealiased_velocity', temp.fields['VRAD']['data'])"
     ],
     "language": "python",
     "metadata": {},
     "outputs": [],
     "prompt_number": null
    },
    {
     "cell_type": "markdown",
     "metadata": {},
     "source": [
      "Plot the dealiased velocities."
     ]
    },
    {
     "cell_type": "code",
     "collapsed": false,
     "input": [
      "display.plot_ppi('dealiased_velocity', 1, colorbar_label='m/s', \n",
      "                 vmin=-2*nyquist_velocity, vmax=2*nyquist_velocity)"
     ],
     "language": "python",
     "metadata": {},
     "outputs": [],
     "prompt_number": null
    }
   ],
   "metadata": {}
  }
 ]
}
