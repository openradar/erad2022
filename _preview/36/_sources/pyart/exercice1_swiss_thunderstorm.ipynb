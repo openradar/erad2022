{
 "cells": [
  {
   "cell_type": "markdown",
   "id": "25f59ddd",
   "metadata": {},
   "source": [
    "# Filtering and retrievals on raw Swiss C-band data\n",
    "\n",
    "In this exercice we will load raw unfiltered Swiss C-band data during a thunderstorm event and process it to ultimately estimate the precipitation intensities. The following topics will be tackled.\n",
    "\n",
    "- Ground clutter detection\n",
    "- Attenuation correction\n",
    "- KDP estimation\n",
    "- Hydrometeor classification\n",
    "- QPE\n"
   ]
  },
  {
   "cell_type": "code",
   "execution_count": null,
   "id": "7c871b43",
   "metadata": {},
   "outputs": [],
   "source": [
    "# Imports\n",
    "\n",
    "import numpy as np\n",
    "import cartopy.crs as ccrs\n",
    "import cartopy\n",
    "import matplotlib.pyplot as plt\n",
    "\n",
    "import pyart\n",
    "pyart.config.load_config('mch_config.py')\n"
   ]
  },
  {
   "cell_type": "markdown",
   "id": "fcd56da8",
   "metadata": {},
   "source": [
    "Note that you can create your own Py-ART configuration file, which defines default field names, default colormaps, limits, and much more. This is the one we use at MeteoSwiss. You can then either load it at startup in your python code or define the environment variable PYART_CONFIG to point to your file in your work environment."
   ]
  },
  {
   "cell_type": "markdown",
   "id": "795d4c80",
   "metadata": {},
   "source": [
    "Let's start by loading our radar file which is of the standard CFRadial type. It corresponds to the third sweep of the operational radar scans, which is a PPI at 1° elevation. It contains raw radar data (before pre-processing) at a resolution of 83 m. We then add the temperature obtained from the COSMO NWP model to our radar object (note that this temperature was previously interpolated from the model grid to the radar polar grid). Note that the freezing level is quite high in this example (around 4200 m.)."
   ]
  },
  {
   "cell_type": "code",
   "execution_count": null,
   "id": "637b00eb",
   "metadata": {},
   "outputs": [],
   "source": [
    "# Open radar file\n",
    "file_radar = './data/exercice1_swiss_thunderstorm/MHL2217907250U.003.nc'\n",
    "radar = pyart.io.read_cfradial(file_radar)\n",
    "\n",
    "# Add temperature\n",
    "temp = pyart.io.read_cfradial('./data/exercice1_swiss_thunderstorm/20220628073500_savevol_COSMO_LOOKUP_TEMP.nc')\n",
    "radar.add_field('temperature', temp.fields['temperature'])\n"
   ]
  },
  {
   "cell_type": "markdown",
   "id": "bc9a5c58",
   "metadata": {},
   "source": [
    "Py-ART uses gatefilters which are a kind of mask to filter out problematic measurements. Most processing routines can take a gatefilter as input and will ignore pixels that were filtered out. \n",
    "\n",
    "Here we create a gate __[filter](https://arm-doe.github.io/pyart/API/generated/pyart.filters.moment_and_texture_based_gate_filter.html)__ based on the radar moments and their texture to filter out noise and ground clutter. Since we are interested in a strong thunderstorm we also extend this filter to remove all measurements with a SNR ratio of less than 10 dB.\n",
    "\n"
   ]
  },
  {
   "cell_type": "code",
   "execution_count": null,
   "id": "92bdb7ed",
   "metadata": {},
   "outputs": [],
   "source": [
    "gtfilter = pyart.filters.moment_and_texture_based_gate_filter(radar)\n",
    "gtfilter.exclude_below('signal_to_noise_ratio', 10)"
   ]
  },
  {
   "cell_type": "markdown",
   "id": "13b128bf",
   "metadata": {},
   "source": [
    "Let's compare visually the reflectivity before and after filtering. Note that the plot function of Py-ART take a gatefilter as input. "
   ]
  },
  {
   "cell_type": "code",
   "execution_count": null,
   "id": "2ec4500d",
   "metadata": {},
   "outputs": [],
   "source": [
    "fig, ax = plt.subplots(1,2, figsize=(10,6), sharex= True, sharey=True)\n",
    "display = pyart.graph.RadarDisplay(radar)\n",
    "display.plot_ppi('reflectivity', 0, vmin=0, vmax=60., ax = ax[0], colorbar_label = 'Raw')\n",
    "display.plot_ppi('reflectivity', 0, vmin=0, vmax=60., gatefilter = gtfilter, \n",
    "                 ax = ax[1], colorbar_label = 'Filtered')\n",
    "ax[0].set_xlim([-50,50])\n",
    "ax[0].set_ylim([-50,50])\n",
    "ax[0].set_aspect('equal', 'box')\n",
    "ax[1].set_aspect('equal', 'box')"
   ]
  },
  {
   "cell_type": "markdown",
   "id": "f6435e63",
   "metadata": {},
   "source": [
    "Here it is clear that most ground clutter (mostly north west and east of the radar), as well as noise have been filtered out."
   ]
  },
  {
   "cell_type": "markdown",
   "id": "634d2216",
   "metadata": {},
   "source": [
    "We can expect strong attenuation behind a thunderstorm like this. So it is a good idea to try to correct for it. Knowledge of the specific attenuation can also be very insightful."
   ]
  },
  {
   "cell_type": "code",
   "execution_count": null,
   "id": "ca9f51e9",
   "metadata": {},
   "outputs": [],
   "source": [
    "out = pyart.correct.calculate_attenuation_zphi(radar, fzl = 4200,\n",
    "                           gatefilter=gtfilter,\n",
    "                           phidp_field = 'uncorrected_differential_phase',\n",
    "                           temp_field = 'temperature',\n",
    "                           temp_ref = 'temperature')\n",
    "spec_at, pia, cor_z, spec_diff_at, pida, cor_zdr = out\n",
    "radar.add_field('corrected_reflectivity', cor_z)\n",
    "radar.add_field('corrected_differential_reflectivity', cor_zdr)\n",
    "radar.add_field('specific_attenuation', spec_at)\n"
   ]
  },
  {
   "cell_type": "markdown",
   "id": "6ca9efc1",
   "metadata": {},
   "source": [
    "Here we use the Z-PHI method, which uses the relation between differential phase shift and specific attenuation. However it works only in the liquid phase. So you need to provide it either with a fixed freezing level height, a field of freezing level heights or a field of temperature. Here we provide the later.\n",
    "\n",
    "This method provides us with 5 output variables\n",
    "- specific attenuation dB/km\n",
    "- path integrated attenuation dB\n",
    "- corrected reflectivity dBZ\n",
    "- differential specific attenuation dB\n",
    "- path integrated differential attenuation dB\n",
    "- corrected differential reflectivity (ZDR) dB\n",
    "\n",
    "We will now plot the specific attenuation as well as the raw and corrected reflectivities."
   ]
  },
  {
   "cell_type": "code",
   "execution_count": null,
   "id": "57c48af7",
   "metadata": {},
   "outputs": [],
   "source": [
    "fig, ax = plt.subplots(1,3, figsize=(16,6), sharex= True, sharey=True)\n",
    "display = pyart.graph.RadarDisplay(radar)\n",
    "display.plot_ppi('specific_attenuation', 0, vmin=0, vmax=1.5, gatefilter = gtfilter,\n",
    "                     ax = ax[0])\n",
    "display.plot_ppi('reflectivity', 0, vmin=0, vmax=60., ax = ax[1],  gatefilter = gtfilter,\n",
    "                 colorbar_label = 'ZH with attenuation [dBZ]')\n",
    "display.plot_ppi('corrected_reflectivity', 0, vmin=0, vmax=60., gatefilter = gtfilter,\n",
    "                     ax = ax[2], colorbar_label = 'ZH attenuation corrected [dBZ]')\n",
    "ax[0].set_xlim([-50,50])\n",
    "ax[0].set_ylim([-50,50])\n",
    "ax[0].set_aspect('equal', 'box')\n",
    "ax[1].set_aspect('equal', 'box')\n",
    "ax[2].set_aspect('equal', 'box')"
   ]
  },
  {
   "cell_type": "markdown",
   "id": "2173cc9d",
   "metadata": {},
   "source": [
    "We can clearly observe a strong specific attenuation within the thunderstorm as well as a significant difference in reflectivity before/after correction behind the thunderstorm to the west."
   ]
  },
  {
   "cell_type": "markdown",
   "id": "798c36f5",
   "metadata": {},
   "source": [
    "Another very interesting radar variable is the specific differential phase shift KDP. Large KDP indicates the presence of large oblate drops and is linked to very strong precipitation. KDP is also needed for the hydrometeor classification algorithm. However KDP is not measured directly and needs to be estimated numerically from the raw differential phase shift (PHIDP). Py-ART provides three different retrieval methods. We will use the method by __[Maesaka et al. (2012)](https://arm-doe.github.io/pyart/API/generated/pyart.retrieve.kdp_maesaka.html)__ which is fast and robust but assumes KDP to be positive and is therefore limited to rainfall below the melting layer and/or warm clouds. "
   ]
  },
  {
   "cell_type": "code",
   "execution_count": null,
   "id": "9b5c2d12",
   "metadata": {},
   "outputs": [],
   "source": [
    "kdp, _, _ = pyart.retrieve.kdp_maesaka(radar, gatefilter = gtfilter,\n",
    "                                       psidp_field = 'uncorrected_differential_phase')\n",
    "radar.add_field('specific_differential_phase', kdp)\n",
    "\n",
    "fig, ax = plt.subplots(1,1, figsize=(6,6))\n",
    "display = pyart.graph.RadarDisplay(radar)\n",
    "display.plot_ppi('specific_differential_phase', 0, vmin = 0, vmax = 10,\n",
    "                 ax = ax,  gatefilter = gtfilter)\n",
    "\n",
    "ax.set_xlim([-50,50])\n",
    "ax.set_ylim([-50,50])\n",
    "ax.set_aspect('equal', 'box')"
   ]
  },
  {
   "cell_type": "markdown",
   "id": "94d3129b",
   "metadata": {},
   "source": [
    "A look at the KDP field shows clusters of very large KDP (> 5 °/km) at the center of the thunderstorm."
   ]
  },
  {
   "cell_type": "markdown",
   "id": "2737e64f",
   "metadata": {},
   "source": [
    "The hydrometeor classification algorithm in Py-ART by __[Besic et al. (2016)](https://arm-doe.github.io/pyart/API/generated/pyart.retrieve.kdp_maesaka.html)__ uses ZH, ZDR, RHOHV, KDP and the temperature to classify hydrometeors into one of 8 classes:\n",
    "- Ice hail, high density Graupel\n",
    "- Melting hail\n",
    "- Wet snow\n",
    "- Vertically oriented ice\n",
    "- Rain\n",
    "- Rimed particles\n",
    "- Light rain\n",
    "- Crystals\n",
    "- Aggregates\n",
    "\n",
    "This algorithm requires centroids of polarimetric variables for the different hydrometeor classes. Below we provide it with centroids specifically suited for the radar of Monte Lema. If left empty, the algorithm will use default centroids at the right frequency band (X, C or S).\n"
   ]
  },
  {
   "cell_type": "code",
   "execution_count": null,
   "id": "1433143c",
   "metadata": {},
   "outputs": [],
   "source": [
    "centroids = np.array([[13.8231,0.2514,0.0644,0.9861,1380.6],\n",
    "[3.0239,0.1971,0.,0.9661,1464.1],\n",
    "[4.9447,0.1142,0.,0.9787,-974.7],\n",
    "[34.2450,0.5540,0.1459,0.9937,945.3],\n",
    "[40.9432,1.0110,0.5141,0.9928,-993.5],\n",
    "[3.5202,-0.3498,0.,0.9746,843.2],\n",
    "[32.5287,0.9751,0.2640,0.9804,-55.5],\n",
    "[52.6547,2.7054,2.5101,0.9765,-1114.6],\n",
    "[46.4998,0.1978,0.6431,0.9845,1010.1]])\n",
    "\n",
    "\n",
    "hydro = pyart.retrieve.hydroclass_semisupervised(radar, mass_centers = centroids,\n",
    "                                 refl_field =  'corrected_reflectivity',\n",
    "                                 zdr_field = 'corrected_differential_reflectivity',\n",
    "                                 kdp_field = 'specific_differential_phase',\n",
    "                                 rhv_field = 'uncorrected_cross_correlation_ratio',\n",
    "                                 temp_field = 'temperature')\n",
    "\n",
    "radar.add_field('radar_echo_classification', hydro)\n",
    "\n",
    "fig, ax = plt.subplots(1,1, figsize=(6,6))\n",
    "display = pyart.graph.RadarDisplay(radar)\n",
    "import matplotlib as mpl\n",
    "\n",
    "labels = ['NC','AG', 'CR', 'LR', 'RP', 'RN', 'VI', 'WS', 'MH', 'IH/HDG']\n",
    "ticks = np.arange(len(labels))\n",
    "boundaries = np.arange(-0.5, len(labels) )\n",
    "norm = mpl.colors.BoundaryNorm(boundaries, 256)\n",
    "\n",
    "cax = display.plot_ppi('radar_echo_classification', 0, ax = ax,  gatefilter = gtfilter,\n",
    "                 norm = norm, ticks = ticks, ticklabs = labels)\n",
    "\n",
    "ax.set_xlim([-50,50])\n",
    "ax.set_ylim([-50,50])\n",
    "ax.set_aspect('equal', 'box')"
   ]
  },
  {
   "cell_type": "markdown",
   "id": "f5c9015f",
   "metadata": {},
   "source": [
    "Note that the plotting commands are slightly more complicated due to the categorical colormap.\n",
    "\n",
    "A look at the hydrometeor classification reveals the presence of wet hail in the center of the thunderstorm surrounded by rain and by light rain. A few isolated pixels (unfiltered ground clutter) are also classified as hail. \n",
    "There was indeed intense hail at the ground on that day."
   ]
  },
  {
   "cell_type": "markdown",
   "id": "15204b54",
   "metadata": {},
   "source": [
    "Py-ART provides several QPE algorithms but the most refined relies on the hydrometeor classification and uses different relations between radar variables and precipitation intensities within the different hydrometeor classes."
   ]
  },
  {
   "cell_type": "code",
   "execution_count": null,
   "id": "1f0f40d3",
   "metadata": {},
   "outputs": [],
   "source": [
    "qpe = pyart.retrieve.est_rain_rate_hydro(radar, refl_field = 'corrected_reflectivity',\n",
    "                                         hydro_field = 'radar_echo_classification',\n",
    "                                         a_field = 'specific_attenuation',\n",
    "                                         thresh=40)\n",
    "\n",
    "radar.add_field('radar_estimated_rain_rate', qpe)\n"
   ]
  },
  {
   "cell_type": "markdown",
   "id": "9ae3562d",
   "metadata": {},
   "source": [
    "We will now plot the precipitation intensity on a Cartopy map and add some spatial features (land borders) using __[RadarMapDisplay](https://arm-doe.github.io/pyart/API/generated/pyart.graph.GridMapDisplay.html)__"
   ]
  },
  {
   "cell_type": "code",
   "execution_count": null,
   "id": "4bfc0062",
   "metadata": {},
   "outputs": [],
   "source": [
    "lon_bnds = [8.2, 9.5]\n",
    "lat_bnds = [45.5, 46.5]\n",
    "\n",
    "display = pyart.graph.RadarMapDisplay(radar)\n",
    "\n",
    "fig = plt.figure(figsize=(8,8))\n",
    "display.plot_ppi_map('radar_estimated_rain_rate', 0, vmin=0, vmax=120.,\n",
    "          colorbar_label='', title='Precipitation intensity [mm/h]', gatefilter = gtfilter,\n",
    "          min_lon = lon_bnds[0], max_lon = lon_bnds[1],\n",
    "          min_lat = lat_bnds[0], max_lat = lat_bnds[1],\n",
    "          lon_lines=np.arange(lon_bnds[0], lon_bnds[1], .2), resolution='10m',\n",
    "          lat_lines=np.arange(lat_bnds[0], lat_bnds[1], .2),\n",
    "          lat_0=radar.latitude['data'][0],\n",
    "          lon_0=radar.longitude['data'][0], embellish=True)\n",
    "\n",
    "states_provinces = cartopy.feature.NaturalEarthFeature(\n",
    "                category='cultural',\n",
    "                name='admin_0_countries',\n",
    "                scale='10m',\n",
    "                facecolor='none')\n",
    "lakes = cartopy.feature.NaturalEarthFeature(\n",
    "                category='physical',\n",
    "                name='lakes',\n",
    "                scale='10m',\n",
    "                facecolor='blue')\n",
    "rivers = cartopy.feature.NaturalEarthFeature(\n",
    "                category='physical',\n",
    "                name='rivers',\n",
    "                scale='10m',\n",
    "                facecolor='blue')\n",
    "display.ax.add_feature(states_provinces, edgecolor='gray')\n",
    "display.ax.add_feature(lakes, edgecolor='blue', alpha = 0.25)\n",
    "display.ax.add_feature(cartopy.feature.RIVERS)\n",
    "\n"
   ]
  },
  {
   "cell_type": "markdown",
   "id": "1ee9b24a",
   "metadata": {},
   "source": [
    "Note that we didn't estimate precipitation intensity at the ground but only aloft. Within the thunderstorm precipitation intensity is extremely high. This is likely too high because QPE in wet hail is very uncertain. However, even the operational QPE algorithm at MeteoSwiss estimated precipitation intensities at the ground close to 120 mm/h. "
   ]
  }
 ],
 "metadata": {
  "kernelspec": {
   "display_name": "Python 3 (ipykernel)",
   "language": "python",
   "name": "python3"
  },
  "language_info": {
   "codemirror_mode": {
    "name": "ipython",
    "version": 3
   },
   "file_extension": ".py",
   "mimetype": "text/x-python",
   "name": "python",
   "nbconvert_exporter": "python",
   "pygments_lexer": "ipython3",
   "version": "3.8.13"
  }
 },
 "nbformat": 4,
 "nbformat_minor": 5
}
